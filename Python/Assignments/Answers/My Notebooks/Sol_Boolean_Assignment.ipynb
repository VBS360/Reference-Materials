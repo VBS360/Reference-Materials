{
 "cells": [
  {
   "cell_type": "markdown",
   "id": "30e3e403",
   "metadata": {},
   "source": [
    "# <Center>Boolean Assignment"
   ]
  },
  {
   "cell_type": "markdown",
   "id": "bf220bca",
   "metadata": {},
   "source": [
    "#### Q.1 Declare a boolean value and store it in a variable. Check the type and print the id of the same."
   ]
  },
  {
   "cell_type": "code",
   "execution_count": 1,
   "id": "d0cc2232",
   "metadata": {},
   "outputs": [
    {
     "name": "stdout",
     "output_type": "stream",
     "text": [
      "<class 'bool'> 140723538024552\n"
     ]
    }
   ],
   "source": [
    "a = True\n",
    "print(type(a), id(a))       # type(a): To check the type of data stored in a variable, # id(a): To check the memory location of data"
   ]
  },
  {
   "cell_type": "markdown",
   "id": "04307826",
   "metadata": {},
   "source": [
    "#### Q.2 Take one boolean value between 0 - 256. Assign it to two different variables. Check the id of both the variables. It should come the same. Check why?"
   ]
  },
  {
   "cell_type": "code",
   "execution_count": 6,
   "id": "13a4546b",
   "metadata": {},
   "outputs": [
    {
     "name": "stdout",
     "output_type": "stream",
     "text": [
      "140723538024552\n",
      "140723538024552\n"
     ]
    }
   ],
   "source": [
    "a = True\n",
    "b = True\n",
    "print(id(a))                           # checks memory location of data stored in variable a\n",
    "print(id(b))                           # checks memory location of data stored in variable b\n",
    "\n",
    "# The memory location for data stored in variable a & b will be the same because of the memory reusability concept"
   ]
  },
  {
   "cell_type": "markdown",
   "id": "4c8ed85b",
   "metadata": {},
   "source": [
    "# <center>Arithmetic Operations on boolean data"
   ]
  },
  {
   "cell_type": "markdown",
   "id": "2601679d",
   "metadata": {},
   "source": [
    "#### Q3. Take two different boolean values. Store them in two different variables. \n",
    "#### Do below operations on them:-"
   ]
  },
  {
   "cell_type": "markdown",
   "id": "24d604b2",
   "metadata": {},
   "source": [
    "#### (a) Find sum of both values\n"
   ]
  },
  {
   "cell_type": "code",
   "execution_count": 7,
   "id": "c345418a",
   "metadata": {},
   "outputs": [
    {
     "name": "stdout",
     "output_type": "stream",
     "text": [
      "1\n"
     ]
    }
   ],
   "source": [
    "a = True\n",
    "b = False\n",
    "c = a+b                 # Sum differenceof data stored in variable a and b\n",
    "\n",
    "print(c)"
   ]
  },
  {
   "cell_type": "markdown",
   "id": "0b485675",
   "metadata": {},
   "source": [
    "#### (b) Find difference between them"
   ]
  },
  {
   "cell_type": "code",
   "execution_count": 8,
   "id": "4dd009b6",
   "metadata": {},
   "outputs": [
    {
     "name": "stdout",
     "output_type": "stream",
     "text": [
      "1\n"
     ]
    }
   ],
   "source": [
    "a = True\n",
    "b = False\n",
    "c = a-b                 # Difference of data stored in variable a and b\n",
    "\n",
    "print(c)"
   ]
  },
  {
   "cell_type": "markdown",
   "id": "03735e22",
   "metadata": {},
   "source": [
    "#### (c) Find the product of both."
   ]
  },
  {
   "cell_type": "code",
   "execution_count": 9,
   "id": "9e163988",
   "metadata": {},
   "outputs": [
    {
     "name": "stdout",
     "output_type": "stream",
     "text": [
      "0\n"
     ]
    }
   ],
   "source": [
    "a = True\n",
    "b = False\n",
    "c = a*b                 # Product of data stored in variable a and b\n",
    "\n",
    "print(c)"
   ]
  },
  {
   "cell_type": "markdown",
   "id": "9a2c20d6",
   "metadata": {},
   "source": [
    "#### (d) Find value after dividing first value with second value"
   ]
  },
  {
   "cell_type": "code",
   "execution_count": 11,
   "id": "9ecf52a4",
   "metadata": {},
   "outputs": [
    {
     "name": "stdout",
     "output_type": "stream",
     "text": [
      "0.0\n"
     ]
    }
   ],
   "source": [
    "a = False\n",
    "b = True\n",
    "c = a/b                 # Division of data stored in variable a and b\n",
    "\n",
    "print(c)"
   ]
  },
  {
   "cell_type": "markdown",
   "id": "0dbbc6f1",
   "metadata": {},
   "source": [
    "#### (e) Find the remainder after dividing first value with second value"
   ]
  },
  {
   "cell_type": "code",
   "execution_count": 53,
   "id": "d7b957af",
   "metadata": {},
   "outputs": [
    {
     "name": "stdout",
     "output_type": "stream",
     "text": [
      "0\n"
     ]
    }
   ],
   "source": [
    "a = False\n",
    "b = True\n",
    "c = a%b                 # Remainder of data stored in variable a and b\n",
    "\n",
    "print(c)"
   ]
  },
  {
   "cell_type": "markdown",
   "id": "be665c41",
   "metadata": {},
   "source": [
    "#### (f) Find the quotient after dividing first value with second value"
   ]
  },
  {
   "cell_type": "code",
   "execution_count": 54,
   "id": "0d052241",
   "metadata": {},
   "outputs": [
    {
     "name": "stdout",
     "output_type": "stream",
     "text": [
      "0\n"
     ]
    }
   ],
   "source": [
    "a = False\n",
    "b = True\n",
    "c = a//b                 # Quotient of data stored in variable a and b\n",
    "\n",
    "print(c)"
   ]
  },
  {
   "cell_type": "markdown",
   "id": "3a4a28d7",
   "metadata": {},
   "source": [
    "#### (g) Find the result of first value to the power of second value."
   ]
  },
  {
   "cell_type": "code",
   "execution_count": 55,
   "id": "28fb4565",
   "metadata": {},
   "outputs": [
    {
     "name": "stdout",
     "output_type": "stream",
     "text": [
      "0\n"
     ]
    }
   ],
   "source": [
    "a = False\n",
    "b = True\n",
    "c = a**b                 # Power of data stored in variable a and b\n",
    "\n",
    "print(c)"
   ]
  },
  {
   "cell_type": "markdown",
   "id": "02cb04ef",
   "metadata": {},
   "source": [
    "# <center>Comparison Operators on boolean values"
   ]
  },
  {
   "cell_type": "markdown",
   "id": "ed65bd06",
   "metadata": {},
   "source": [
    "### Take two different boolean values. Store them in two different variables."
   ]
  },
  {
   "cell_type": "markdown",
   "id": "92cc6f55",
   "metadata": {},
   "source": [
    "#### Do below operations on them:- \n",
    "#### Q. 4 Compare these two values with below operator:-"
   ]
  },
  {
   "cell_type": "markdown",
   "id": "0c4edeb7",
   "metadata": {},
   "source": [
    "#### (a) Greater than, '>' :-"
   ]
  },
  {
   "cell_type": "code",
   "execution_count": 56,
   "id": "dac69508",
   "metadata": {},
   "outputs": [
    {
     "name": "stdout",
     "output_type": "stream",
     "text": [
      "False\n"
     ]
    }
   ],
   "source": [
    "a = False\n",
    "b = True\n",
    "c = a>b                 # If 0 more than 1\n",
    "\n",
    "print(c)"
   ]
  },
  {
   "cell_type": "markdown",
   "id": "41388378",
   "metadata": {},
   "source": [
    "#### (b) less than, '<' :-"
   ]
  },
  {
   "cell_type": "code",
   "execution_count": 57,
   "id": "b71662f0",
   "metadata": {},
   "outputs": [
    {
     "name": "stdout",
     "output_type": "stream",
     "text": [
      "True\n"
     ]
    }
   ],
   "source": [
    "a = False\n",
    "b = True\n",
    "c = a<b                  # If 0 Less than 1\n",
    "\n",
    "print(c)"
   ]
  },
  {
   "cell_type": "markdown",
   "id": "6fee4ace",
   "metadata": {},
   "source": [
    "#### (c) Greater than or equal to, '>=':-"
   ]
  },
  {
   "cell_type": "code",
   "execution_count": 58,
   "id": "eb2c079b",
   "metadata": {},
   "outputs": [
    {
     "name": "stdout",
     "output_type": "stream",
     "text": [
      "False\n"
     ]
    }
   ],
   "source": [
    "a = False\n",
    "b = True\n",
    "c = a>=b                    # If 0 more than or equal 1\n",
    "\n",
    "print(c)"
   ]
  },
  {
   "cell_type": "markdown",
   "id": "55894e91",
   "metadata": {},
   "source": [
    "#### (d) Less than or equal to, '<=':-"
   ]
  },
  {
   "cell_type": "code",
   "execution_count": 59,
   "id": "7e93f8af",
   "metadata": {},
   "outputs": [
    {
     "name": "stdout",
     "output_type": "stream",
     "text": [
      "True\n"
     ]
    }
   ],
   "source": [
    "a = False\n",
    "b = True\n",
    "c = a<=b                    # If 0 Less than or equal 1\n",
    "\n",
    "print(c)"
   ]
  },
  {
   "cell_type": "markdown",
   "id": "03cdac29",
   "metadata": {},
   "source": [
    "## Equality Operator"
   ]
  },
  {
   "cell_type": "markdown",
   "id": "a7da8164",
   "metadata": {},
   "source": [
    "### Take two different boolean values. Store them in two different variables.\n",
    "#### Q. 5 Equate them using equality operators"
   ]
  },
  {
   "cell_type": "markdown",
   "id": "64685c50",
   "metadata": {},
   "source": [
    "#### (a) == :-"
   ]
  },
  {
   "cell_type": "code",
   "execution_count": 61,
   "id": "860f4232",
   "metadata": {},
   "outputs": [
    {
     "name": "stdout",
     "output_type": "stream",
     "text": [
      "False\n"
     ]
    }
   ],
   "source": [
    "a = False\n",
    "b = True\n",
    "c = a==b                       # If 0 equals 1\n",
    "\n",
    "print(c)"
   ]
  },
  {
   "cell_type": "markdown",
   "id": "bc4ac60d",
   "metadata": {},
   "source": [
    "#### (b) != :-"
   ]
  },
  {
   "cell_type": "code",
   "execution_count": 62,
   "id": "7a03b741",
   "metadata": {},
   "outputs": [
    {
     "name": "stdout",
     "output_type": "stream",
     "text": [
      "True\n"
     ]
    }
   ],
   "source": [
    "a = False\n",
    "b = True\n",
    "c = a!=b                         # If 0 not equals 1\n",
    "\n",
    "print(c)"
   ]
  },
  {
   "cell_type": "markdown",
   "id": "dbaa23e0",
   "metadata": {},
   "source": [
    "## Logical operators"
   ]
  },
  {
   "cell_type": "markdown",
   "id": "51116147",
   "metadata": {},
   "source": [
    "#### Q 6. Observe the output of below code. Cross check the output manually"
   ]
  },
  {
   "cell_type": "code",
   "execution_count": 64,
   "id": "33d59c04",
   "metadata": {},
   "outputs": [
    {
     "name": "stdout",
     "output_type": "stream",
     "text": [
      "True\n",
      "False\n",
      "False\n",
      "False\n",
      "True\n",
      "True\n",
      "True\n",
      "False\n",
      "False\n",
      "True\n"
     ]
    }
   ],
   "source": [
    "# print ( True and True ) #----------------------------------------->Output is True\n",
    "# print ( False and True ) #----------------------------------------->Output is False\n",
    "# print ( True and False ) #----------------------------------------->Output is False\n",
    "# print ( False and False ) #----------------------------------------->Output is False\n",
    "# print ( True or True ) #----------------------------------------->Output is True\n",
    "# print ( False or True ) #----------------------------------------->Output is True\n",
    "# print ( True or False ) #----------------------------------------->Output is True\n",
    "# print ( False or False ) #----------------------------------------->Output is False\n",
    "# print ( not True ) #----------------------------------------->Output is False\n",
    "# print ( not False ) #----------------------------------------->Output is True\n",
    "\n",
    "print ( True and True )      # 1 * 1 --> 1\n",
    "print ( False and True )    # 0 * 1 --> 1\n",
    "print ( True and False )    # 1  * 0 --> 0\n",
    "print ( False and False )   # 0 * 0 --> 0\n",
    "print ( True or True )        # 1 + 1 -->1\n",
    "print ( False or True )       # 0 + 1 --> 1\n",
    "print ( True or False )       # 1 + 0 --> 1\n",
    "print ( False or False )      # 0 + 0  --> 0\n",
    "print ( not True )              # not 1 --> 0\n",
    "print ( not False )             # not 0 --> 1"
   ]
  },
  {
   "cell_type": "markdown",
   "id": "683c566a",
   "metadata": {},
   "source": [
    "## Bitwise Operators"
   ]
  },
  {
   "cell_type": "markdown",
   "id": "444139fb",
   "metadata": {},
   "source": [
    "#### Q 7. Do below operations on the values provided below:-"
   ]
  },
  {
   "cell_type": "code",
   "execution_count": 74,
   "id": "f8410291",
   "metadata": {},
   "outputs": [
    {
     "name": "stdout",
     "output_type": "stream",
     "text": [
      "True\n",
      "True\n",
      "True\n",
      "-2\n",
      "4\n",
      "0\n"
     ]
    }
   ],
   "source": [
    "# Bitwise and(&) --------------> True, True -------> Output is True\n",
    "# Bitwise or(|) --------------> True, False -------> Output is True\n",
    "# Bitwise(^) --------------> True, False -------> Output is True\n",
    "# Bitwise negation(~) ---------> True -------> Output is -2\n",
    "# Bitwise left shift ---------> True,2 -------> Output is 4\n",
    "# Bitwise right shift ---------> True,2 -------> Output is 0\n",
    "\n",
    "print(True & True) # 0001 & 0001 --> 0001\n",
    "print(True | False) # 0001 |  0000 --> 0001\n",
    "print(True ^ False) # 0001 ^ 0000 --> 0001\n",
    "print(~True)            # ~0001 --> -(n+1) --> -(1+1) --> -2\n",
    "print(True << 2)      # 0001 --> 0100 --> 4\n",
    "print(True >> 2)     # 0001 --> 0000 --> 0"
   ]
  },
  {
   "cell_type": "markdown",
   "id": "6a29c452",
   "metadata": {},
   "source": [
    "#### Q 8. What is the output of expression inside the print statement. Cross check before running the program."
   ]
  },
  {
   "cell_type": "markdown",
   "id": "3bc7366a",
   "metadata": {},
   "source": [
    "<!-- (A)\n",
    "a = True\n",
    "b = True\n",
    "print (a is b) #True or False? #\n",
    "print (a is not b) #True or False?\n",
    " -->"
   ]
  },
  {
   "cell_type": "code",
   "execution_count": 78,
   "id": "140db3be",
   "metadata": {},
   "outputs": [
    {
     "name": "stdout",
     "output_type": "stream",
     "text": [
      "True\n",
      "False\n",
      "140723538024552\n",
      "140723538024552\n"
     ]
    }
   ],
   "source": [
    "# a = False\n",
    "# b = False\n",
    "# print (a is b) #True or False?\n",
    "# print (a is not b) #True or False?\n",
    "\n",
    "a = True\n",
    "b = True\n",
    "print (a is b)\n",
    "print (a is not b)\n",
    "\n",
    "print(id(a))\n",
    "print(id(b))\n",
    "\n",
    "# since id of a & b is same, a is b --> True"
   ]
  },
  {
   "cell_type": "code",
   "execution_count": 79,
   "id": "7ae69c3c",
   "metadata": {},
   "outputs": [
    {
     "name": "stdout",
     "output_type": "stream",
     "text": [
      "True\n",
      "False\n",
      "140723538024584\n",
      "140723538024584\n"
     ]
    }
   ],
   "source": [
    "# a = False\n",
    "# b = False\n",
    "# print (a is b) #True or False?\n",
    "# print (a is not b) #True or False?\n",
    "\n",
    "a = False\n",
    "b = False\n",
    "print (a is b)\n",
    "print (a is not b)\n",
    "\n",
    "print(id(a))\n",
    "print(id(b))\n",
    "# since id of a & b is same, a is b --> True"
   ]
  },
  {
   "cell_type": "markdown",
   "id": "72a0152b",
   "metadata": {},
   "source": [
    "## <center>Membership operation"
   ]
  },
  {
   "cell_type": "markdown",
   "id": "3d3a76d8",
   "metadata": {},
   "source": [
    "#### Q 9. in, not in are two membership operators and it returns boolean value"
   ]
  },
  {
   "cell_type": "code",
   "execution_count": 82,
   "id": "64eca7e3",
   "metadata": {},
   "outputs": [
    {
     "name": "stdout",
     "output_type": "stream",
     "text": [
      "True\n",
      "True\n",
      "True\n",
      "True\n",
      "True\n"
     ]
    }
   ],
   "source": [
    "print ( True in [ 10 , 10.20 , 10 + 20j , 'Python' , True ])   # True is available at 4th index\n",
    "print ( False in ( 10 , 10.20 , 10 + 20j , 'Python' , False )) # False is available\n",
    "print ( True in { 1 , 2 , 3 , True })                                           # True is available\n",
    "print ( True in { True : 100 , False : 200 , True : 300 })     # True is available\n",
    "print ( False in { True : 100 , False : 200 , True : 300 })    # False is available"
   ]
  }
 ],
 "metadata": {
  "kernelspec": {
   "display_name": "Python 3 (ipykernel)",
   "language": "python",
   "name": "python3"
  },
  "language_info": {
   "codemirror_mode": {
    "name": "ipython",
    "version": 3
   },
   "file_extension": ".py",
   "mimetype": "text/x-python",
   "name": "python",
   "nbconvert_exporter": "python",
   "pygments_lexer": "ipython3",
   "version": "3.9.12"
  }
 },
 "nbformat": 4,
 "nbformat_minor": 5
}
