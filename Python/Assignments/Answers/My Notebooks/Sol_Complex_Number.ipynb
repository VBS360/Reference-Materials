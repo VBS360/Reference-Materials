{
 "cells": [
  {
   "cell_type": "markdown",
   "id": "78665f7d",
   "metadata": {},
   "source": [
    "# <center>Complex Assignment"
   ]
  },
  {
   "cell_type": "markdown",
   "id": "a8b27b74",
   "metadata": {},
   "source": [
    "#### Q 1. Declare a complex number and store it in a variable. Check the type and print the id of the same."
   ]
  },
  {
   "cell_type": "code",
   "execution_count": 2,
   "id": "61ef59e0",
   "metadata": {},
   "outputs": [
    {
     "name": "stdout",
     "output_type": "stream",
     "text": [
      "<class 'complex'> 2296942252560\n"
     ]
    }
   ],
   "source": [
    "a = 2+2j\n",
    "print(type(a),id(a))"
   ]
  },
  {
   "cell_type": "markdown",
   "id": "494a67ba",
   "metadata": {},
   "source": [
    "# <center>Arithmetic Operations"
   ]
  },
  {
   "cell_type": "markdown",
   "id": "27fd50f0",
   "metadata": {},
   "source": [
    "#### Take two different complex numbers. Store them in two different variables."
   ]
  },
  {
   "cell_type": "markdown",
   "id": "94fa23b5",
   "metadata": {},
   "source": [
    "#### Q 2. Do below operations on them:-"
   ]
  },
  {
   "cell_type": "code",
   "execution_count": 8,
   "id": "b69c1748",
   "metadata": {},
   "outputs": [
    {
     "name": "stdout",
     "output_type": "stream",
     "text": [
      "(5+5j)\n",
      "(1+1j)\n",
      "12j\n",
      "(1.5+0j)\n",
      "(-0.9301698201642012-3.6243749286074007j)\n"
     ]
    }
   ],
   "source": [
    "# Find sum of both numbers\n",
    "# Find difference between them\n",
    "# Find the product of both numbers.\n",
    "# Find value after dividing first num with second number\n",
    "# Find the result of the first num to the power of the second number.\n",
    "\n",
    "a = 3+3j\n",
    "b = 2+2j\n",
    "\n",
    "Sum = a+b\n",
    "Difference = a-b\n",
    "Product = a*b\n",
    "Division = a/b\n",
    "Power = a**b\n",
    "\n",
    "print(Sum)\n",
    "print(Difference)\n",
    "print(Product)\n",
    "print(Division)\n",
    "print(Power)"
   ]
  },
  {
   "cell_type": "markdown",
   "id": "63f94998",
   "metadata": {},
   "source": [
    "#### Q 3. Comparison Operation not applicable between instance of complex values. Object reusability concept is not applicable on complex number"
   ]
  },
  {
   "cell_type": "code",
   "execution_count": 10,
   "id": "0f2ecd87",
   "metadata": {},
   "outputs": [
    {
     "name": "stdout",
     "output_type": "stream",
     "text": [
      "2296971078896\n",
      "2296971079248\n"
     ]
    },
    {
     "ename": "TypeError",
     "evalue": "'>' not supported between instances of 'complex' and 'complex'",
     "output_type": "error",
     "traceback": [
      "\u001b[1;31m---------------------------------------------------------------------------\u001b[0m",
      "\u001b[1;31mTypeError\u001b[0m                                 Traceback (most recent call last)",
      "Input \u001b[1;32mIn [10]\u001b[0m, in \u001b[0;36m<cell line: 10>\u001b[1;34m()\u001b[0m\n\u001b[0;32m      8\u001b[0m c \u001b[38;5;241m=\u001b[39m \u001b[38;5;241m3\u001b[39m\u001b[38;5;241m+\u001b[39m\u001b[38;5;241m3\u001b[39mj\n\u001b[0;32m      9\u001b[0m d \u001b[38;5;241m=\u001b[39m \u001b[38;5;241m2\u001b[39m\u001b[38;5;241m+\u001b[39m\u001b[38;5;241m2\u001b[39mj\n\u001b[1;32m---> 10\u001b[0m \u001b[38;5;28mprint\u001b[39m(\u001b[43ma\u001b[49m\u001b[38;5;241;43m>\u001b[39;49m\u001b[43mb\u001b[49m)\n",
      "\u001b[1;31mTypeError\u001b[0m: '>' not supported between instances of 'complex' and 'complex'"
     ]
    }
   ],
   "source": [
    "a = 3+3j\n",
    "b = 3+3j\n",
    "\n",
    "print(id(a))\n",
    "print(id(b))\n",
    "# ids are differnt hence object reusability not applicable\n",
    "\n",
    "c = 3+3j\n",
    "d = 2+2j\n",
    "print(a>b)\n",
    "# Comparison operators not supported between instances of 'complex' and 'complex'"
   ]
  },
  {
   "cell_type": "markdown",
   "id": "58135aa0",
   "metadata": {},
   "source": [
    "## Equality Operator"
   ]
  },
  {
   "cell_type": "markdown",
   "id": "d1b47ab6",
   "metadata": {},
   "source": [
    "#### Take two different complex numbers. Store them in two different variables."
   ]
  },
  {
   "cell_type": "markdown",
   "id": "aaf45c45",
   "metadata": {},
   "source": [
    "#### Q 4. Equate them using equality operators."
   ]
  },
  {
   "cell_type": "markdown",
   "id": "0f4cf084",
   "metadata": {},
   "source": [
    "#### (a) == :-"
   ]
  },
  {
   "cell_type": "code",
   "execution_count": 13,
   "id": "1241890a",
   "metadata": {},
   "outputs": [
    {
     "name": "stdout",
     "output_type": "stream",
     "text": [
      "True\n"
     ]
    }
   ],
   "source": [
    "a = 3+3j\n",
    "b = 3+3j\n",
    "\n",
    "print(a==b)"
   ]
  },
  {
   "cell_type": "markdown",
   "id": "38c04160",
   "metadata": {},
   "source": [
    "#### (b) != :-"
   ]
  },
  {
   "cell_type": "code",
   "execution_count": 14,
   "id": "e378f2cc",
   "metadata": {},
   "outputs": [
    {
     "name": "stdout",
     "output_type": "stream",
     "text": [
      "False\n"
     ]
    }
   ],
   "source": [
    "a = 3+3j\n",
    "b = 3+3j\n",
    "\n",
    "print(a!=b)"
   ]
  },
  {
   "cell_type": "markdown",
   "id": "6ab30142",
   "metadata": {},
   "source": [
    "## Logical operators"
   ]
  },
  {
   "cell_type": "markdown",
   "id": "9379377e",
   "metadata": {},
   "source": [
    "#### Q5. Observe the output of below code, Cross check the output manually"
   ]
  },
  {
   "cell_type": "code",
   "execution_count": 15,
   "id": "3bb2ffd4",
   "metadata": {},
   "outputs": [
    {
     "name": "stdout",
     "output_type": "stream",
     "text": [
      "(20+30j)\n",
      "0j\n",
      "0j\n",
      "0j\n",
      "(10+20j)\n",
      "(20+30j)\n",
      "(20+30j)\n",
      "0j\n",
      "False\n",
      "True\n"
     ]
    }
   ],
   "source": [
    "# print ( 10 + 20j and 20 + 30j ) #20+30j #----------------------------------------->Output is 20+30j\n",
    "# print ( 0 + 0j and 20 + 30j ) #0+0j #----------------------------------------->Output is 0j\n",
    "# print ( 20 + 30j and 0 + 0j ) #0+0j #----------------------------------------->Output is 0j\n",
    "# print ( 0 + 0j and 0 + 0j ) #0+0j #----------------------------------------->Output is 0j\n",
    "# print ( 10 + 20j or 20 + 30j ) #10+20j #----------------------------------------->Output is 10+20j\n",
    "# print ( 0 + 0j or 20 + 30j ) #20+30j #----------------------------------------->Output is 20+30j\n",
    "# print ( 20 + 30j or 0 + 0j ) #20+30j #----------------------------------------->Output is 20+30j\n",
    "# print ( 0 + 0j or 0 + 0j ) #0+0j #----------------------------------------->Output is 0j\n",
    "# print ( not 10 + 20j ) #False #----------------------------------------->Output is False\n",
    "# print ( not 0 + 0j ) #True #----------------------------------------->Output is True\n",
    "\n",
    "print ( 10 + 20j and 20 + 30j )\n",
    "print ( 0 + 0j and 20 + 30j )\n",
    "print ( 20 + 30j and 0 + 0j )\n",
    "print ( 0 + 0j and 0 + 0j )\n",
    "print ( 10 + 20j or 20 + 30j )\n",
    "print ( 0 + 0j or 20 + 30j )\n",
    "print ( 20 + 30j or 0 + 0j )\n",
    "print ( 0 + 0j or 0 + 0j )\n",
    "print ( not 10 + 20j ) \n",
    "print ( not 0 + 0j )"
   ]
  },
  {
   "cell_type": "markdown",
   "id": "7490701f",
   "metadata": {},
   "source": [
    "#### Q 6. What is the output of the expression inside the print statement. Cross check before running the program."
   ]
  },
  {
   "cell_type": "code",
   "execution_count": 3,
   "id": "e1a3e5fd",
   "metadata": {},
   "outputs": [
    {
     "name": "stdout",
     "output_type": "stream",
     "text": [
      "False\n",
      "True\n",
      "1958762069360\n",
      "1958762069712\n"
     ]
    }
   ],
   "source": [
    "# a = 10 + 20j\n",
    "# b = 10 + 20j\n",
    "# print (a is b) #False #True or False?\n",
    "# print (a is not b) #True #True or False?\n",
    "\n",
    "a = 10 + 20j\n",
    "b = 10 + 20j\n",
    "print (a is b)\n",
    "print (a is not b)\n",
    "\n",
    "print(id(a))\n",
    "print(id(b))\n",
    "# ids are different so a is not b --> True & visa versa"
   ]
  },
  {
   "cell_type": "markdown",
   "id": "bee19c6f",
   "metadata": {},
   "source": [
    "# <center>Membership operation"
   ]
  },
  {
   "cell_type": "markdown",
   "id": "713d2c73",
   "metadata": {},
   "source": [
    "#### in, not in are two membership operators and it returns boolean value"
   ]
  },
  {
   "cell_type": "code",
   "execution_count": 2,
   "id": "ea49e99e",
   "metadata": {},
   "outputs": [
    {
     "name": "stdout",
     "output_type": "stream",
     "text": [
      "True\n",
      "True\n",
      "True\n",
      "True\n",
      "True\n",
      "True\n"
     ]
    }
   ],
   "source": [
    "print ( '2.7' in 'Python2.7.8' ) #True\n",
    "print ( 10 + 20j in [ 10 , 10.20 , 10 + 20j , 'Python' ]) #True\n",
    "print ( 10 + 20j in ( 10 , 10.20 , 10 + 20j , 'Python' )) #True\n",
    "print ( 30 + 40j in { 1 , 20.30 , 30 + 40j }) #True\n",
    "print ( 30 + 40j in { 1 : 100 , 2.3 : 200 , 30 + 40j : 300 }) #True\n",
    "print ( 10 in range ( 20 )) #True"
   ]
  }
 ],
 "metadata": {
  "kernelspec": {
   "display_name": "Python 3 (ipykernel)",
   "language": "python",
   "name": "python3"
  },
  "language_info": {
   "codemirror_mode": {
    "name": "ipython",
    "version": 3
   },
   "file_extension": ".py",
   "mimetype": "text/x-python",
   "name": "python",
   "nbconvert_exporter": "python",
   "pygments_lexer": "ipython3",
   "version": "3.9.12"
  }
 },
 "nbformat": 4,
 "nbformat_minor": 5
}
