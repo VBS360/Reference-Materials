{
 "cells": [
  {
   "cell_type": "markdown",
   "id": "29edb6b3",
   "metadata": {},
   "source": [
    "# <center> Float Assignment"
   ]
  },
  {
   "cell_type": "markdown",
   "id": "b4166323",
   "metadata": {},
   "source": [
    "#### Q 1. Declare a float value and store it in a variable. Check the type and print the id of the same."
   ]
  },
  {
   "cell_type": "code",
   "execution_count": 2,
   "id": "f6ab35db",
   "metadata": {},
   "outputs": [
    {
     "name": "stdout",
     "output_type": "stream",
     "text": [
      "<class 'float'> 3108801883728\n"
     ]
    }
   ],
   "source": [
    "a = 2.51\n",
    "print(type(a), id(a))"
   ]
  },
  {
   "cell_type": "markdown",
   "id": "80acfeff",
   "metadata": {},
   "source": [
    "### Arithmetic Operations on float"
   ]
  },
  {
   "cell_type": "markdown",
   "id": "91ad6941",
   "metadata": {},
   "source": [
    "#### Q 2. Take two different float values. Store them in two different variables. Do below operations on them:-"
   ]
  },
  {
   "cell_type": "code",
   "execution_count": 10,
   "id": "3820799d",
   "metadata": {},
   "outputs": [],
   "source": [
    "# Find sum of both numbers\n",
    "# Find difference between them\n",
    "# Find the product of both numbers.\n",
    "# Find value after dividing first num with second number\n",
    "# Find the remainder after dividing first number with second number\n",
    "# Find the quotient after dividing first number with second number\n",
    "# Find the result of the first num to the power of the second number."
   ]
  },
  {
   "cell_type": "code",
   "execution_count": 11,
   "id": "92d686a1",
   "metadata": {},
   "outputs": [
    {
     "name": "stdout",
     "output_type": "stream",
     "text": [
      "The sum of 4.99 and 2.51 is 7.5\n",
      "The difference of 4.99 and 2.51 is 2.4800000000000004\n",
      "The product of 4.99 and 2.51 is 12.524899999999999\n",
      "The division of 4.99 and 2.51 is 1.9880478087649405\n",
      "The remainder of 4.99 and 2.51 is 2.4800000000000004\n",
      "The quotient of 4.99 and 2.51 is 1.0\n",
      "The 4.99 to the power 2.51 is 56.52393255479529\n"
     ]
    }
   ],
   "source": [
    "a = 4.99\n",
    "b = 2.51\n",
    "\n",
    "print(f\"The sum of {a} and {b} is {a+b}\")\n",
    "print(f\"The difference of {a} and {b} is {a-b}\")\n",
    "print(f\"The product of {a} and {b} is {a*b}\")\n",
    "print(f\"The division of {a} and {b} is {a/b}\")\n",
    "print(f\"The remainder of {a} and {b} is {a%b}\")\n",
    "print(f\"The quotient of {a} and {b} is {a//b}\")\n",
    "print(f\"The {a} to the power {b} is {a**b}\")"
   ]
  },
  {
   "cell_type": "markdown",
   "id": "4814e620",
   "metadata": {},
   "source": [
    "### Comparison Operators on float"
   ]
  },
  {
   "cell_type": "markdown",
   "id": "36d0d0a6",
   "metadata": {},
   "source": [
    "#### Q 3. Take two different float values. Store them in two different variables. Do below operations on them:-"
   ]
  },
  {
   "cell_type": "code",
   "execution_count": null,
   "id": "448c1401",
   "metadata": {},
   "outputs": [],
   "source": [
    "# Compare these two numbers with below operator:-\n",
    "# Greater than, '>'\n",
    "# Smaller than, '<'\n",
    "# Greater than or equal to, '>='\n",
    "# Less than or equal to, '<='"
   ]
  },
  {
   "cell_type": "code",
   "execution_count": 12,
   "id": "83bc999c",
   "metadata": {},
   "outputs": [
    {
     "name": "stdout",
     "output_type": "stream",
     "text": [
      "True\n",
      "False\n",
      "True\n",
      "False\n"
     ]
    }
   ],
   "source": [
    "a = 4.99\n",
    "b = 2.51\n",
    "\n",
    "print(a>b)\n",
    "print(a<b)\n",
    "print(a>=b)\n",
    "print(a<=b)"
   ]
  },
  {
   "cell_type": "markdown",
   "id": "b15c046f",
   "metadata": {},
   "source": [
    "### Equality Operators on float"
   ]
  },
  {
   "cell_type": "markdown",
   "id": "ff19f47a",
   "metadata": {},
   "source": [
    "#### Q 4. Take two different float values. Store them in two different variables. Equate them using equality operators"
   ]
  },
  {
   "cell_type": "markdown",
   "id": "d870e5bf",
   "metadata": {},
   "source": [
    "#### (1) ==:-"
   ]
  },
  {
   "cell_type": "code",
   "execution_count": 13,
   "id": "2ff3364c",
   "metadata": {},
   "outputs": [
    {
     "name": "stdout",
     "output_type": "stream",
     "text": [
      "True\n"
     ]
    }
   ],
   "source": [
    "a = 4.99\n",
    "b = 4.99\n",
    "\n",
    "print(a==b)"
   ]
  },
  {
   "cell_type": "markdown",
   "id": "4265601f",
   "metadata": {},
   "source": [
    "#### (2) != :-\n",
    "    \n"
   ]
  },
  {
   "cell_type": "code",
   "execution_count": 14,
   "id": "9c711991",
   "metadata": {},
   "outputs": [
    {
     "name": "stdout",
     "output_type": "stream",
     "text": [
      "False\n"
     ]
    }
   ],
   "source": [
    "a = 4.99\n",
    "b = 4.99\n",
    "\n",
    "print(a!=b)"
   ]
  },
  {
   "cell_type": "markdown",
   "id": "b510ce15",
   "metadata": {},
   "source": [
    "### Logical operators"
   ]
  },
  {
   "cell_type": "markdown",
   "id": "c0facfa9",
   "metadata": {},
   "source": [
    "#### Q 5. Observe the output of below code, Cross check the output manually"
   ]
  },
  {
   "cell_type": "code",
   "execution_count": null,
   "id": "1ab95f5b",
   "metadata": {},
   "outputs": [],
   "source": [
    "# print ( 10.20 and 20.30 ) #both are true and second value taken\n",
    "# >Output is 20.3\n",
    "# print ( 0.0 and 20.30 ) #First is false so first value\n",
    "# taken->Output is 0.0\n",
    "# print ( 20.30 and 0.0 ) #Goes to till second and second value is\n",
    "# false so second is taken>Output is 0.0\n",
    "# print ( 0.0 and 0.0 ) #First is false so first value is\n",
    "# taken->Output is 0.0\n",
    "# print ( 10.20 or 20.30 ) #First is True so first value is\n",
    "# taken>Output is 10.2\n",
    "# print ( 0.0 or 20.30 ) #Goes to till second and second is true\n",
    "# second value is taken->Output is 20.3\n",
    "# print ( 0.0 or 20.30 ) #First is True so first value is\n",
    "# taken->Output is 20.3\n",
    "# print ( 0.0 or 0.0 ) #Goes to till second and second is also\n",
    "# false and second value is taken>Output is 0.0\n",
    "# print ( not 10.20 ) #-Not of true is false->Output is False\n",
    "# print ( not 0.0 ) #Not of false is True>Output is True"
   ]
  },
  {
   "cell_type": "code",
   "execution_count": 16,
   "id": "a497191b",
   "metadata": {},
   "outputs": [
    {
     "name": "stdout",
     "output_type": "stream",
     "text": [
      "20.3\n",
      "0.0\n",
      "0.0\n",
      "0.0\n",
      "10.2\n",
      "20.3\n",
      "0.0\n",
      "False\n",
      "True\n"
     ]
    }
   ],
   "source": [
    "print ( 10.20 and 20.30 )\n",
    "print ( 0.0 and 20.30 )\n",
    "print ( 20.30 and 0.0 )\n",
    "print ( 0.0 and 0.0 )\n",
    "print ( 10.20 or 20.30 )\n",
    "print ( 0.0 or 20.30 )\n",
    "print ( 0.0 or 0.0 )\n",
    "print ( not 10.20 )\n",
    "print ( not 0.0 )"
   ]
  },
  {
   "cell_type": "markdown",
   "id": "ce101e73",
   "metadata": {},
   "source": [
    "#### Q 6. What is the output of expression inside print statement. Cross check before running the program."
   ]
  },
  {
   "cell_type": "code",
   "execution_count": 17,
   "id": "dad048d5",
   "metadata": {},
   "outputs": [
    {
     "name": "stdout",
     "output_type": "stream",
     "text": [
      "False\n",
      "True\n"
     ]
    }
   ],
   "source": [
    "a = 10.20\n",
    "b = 10.20\n",
    "print (a is b) #True or False? True 10.20<256\n",
    "print (a is not b) #True or False? False"
   ]
  },
  {
   "cell_type": "markdown",
   "id": "ffb83bfb",
   "metadata": {},
   "source": [
    "#### Q 7. Bitwise operation is not applicable between instances of float."
   ]
  },
  {
   "cell_type": "code",
   "execution_count": null,
   "id": "d5139498",
   "metadata": {},
   "outputs": [],
   "source": [
    "# Why the Id of float values are different when the same value is assigned to two different variables\n",
    "# ex: a = 10.5 b=10.5. but id will be same if I assign the variable having float i.e. a=c then both a and c's Id are same.\n",
    "# Object reusability concept is not applicable on float values."
   ]
  },
  {
   "cell_type": "code",
   "execution_count": 29,
   "id": "ec8e954f",
   "metadata": {},
   "outputs": [
    {
     "name": "stdout",
     "output_type": "stream",
     "text": [
      "Id of a is 3108801883824, and id of b is 3108801882704\n",
      "False\n",
      "Id of c is 3108801883376, and id of d is 3108801883376\n",
      "True\n"
     ]
    }
   ],
   "source": [
    "# Scemerio 1 :- \n",
    "a = 10.5\n",
    "b = 10.5\n",
    "\n",
    "print(f\"Id of a is {id(a)}, and id of b is {id(b)}\")\n",
    "print(id(a)==id(b))\n",
    "\n",
    "# Object reusability concept is not applicable on float values.\n",
    "\n",
    "# Scenerio 2 :-\n",
    "c = 10.5\n",
    "d = 10.5\n",
    "c = d\n",
    "print(f\"Id of c is {id(c)}, and id of d is {id(d)}\")\n",
    "print(id(c)==id(d))"
   ]
  },
  {
   "cell_type": "markdown",
   "id": "dfde45a8",
   "metadata": {},
   "source": [
    "### Membership operation"
   ]
  },
  {
   "cell_type": "markdown",
   "id": "6ba97473",
   "metadata": {},
   "source": [
    "#### Q 8. in, not in are two membership operators and it returns boolean value"
   ]
  },
  {
   "cell_type": "code",
   "execution_count": 30,
   "id": "101734d3",
   "metadata": {},
   "outputs": [
    {
     "name": "stdout",
     "output_type": "stream",
     "text": [
      "True\n",
      "True\n",
      "True\n",
      "True\n",
      "True\n",
      "True\n"
     ]
    }
   ],
   "source": [
    "print ( '2.7' in 'Python2.7.8' ) #True\n",
    "print ( 10.20 in [ 10 , 10.20 , 10 + 20j , 'Python' ]) #True\n",
    "print ( 10.20 in ( 10 , 10.20 , 10 + 20j , 'Python' )) # True\n",
    "print ( 20.30 in { 1 , 20.30 , 30 + 40j }) # True\n",
    "print ( 2.3 in { 1 : 100 , 2.3 : 200 , 30 + 40j : 300 }) # True\n",
    "print ( 10 in range ( 20 )) # True"
   ]
  }
 ],
 "metadata": {
  "kernelspec": {
   "display_name": "Python 3 (ipykernel)",
   "language": "python",
   "name": "python3"
  },
  "language_info": {
   "codemirror_mode": {
    "name": "ipython",
    "version": 3
   },
   "file_extension": ".py",
   "mimetype": "text/x-python",
   "name": "python",
   "nbconvert_exporter": "python",
   "pygments_lexer": "ipython3",
   "version": "3.9.12"
  }
 },
 "nbformat": 4,
 "nbformat_minor": 5
}
