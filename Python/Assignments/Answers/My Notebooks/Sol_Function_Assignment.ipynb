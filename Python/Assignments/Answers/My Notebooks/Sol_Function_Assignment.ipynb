{
 "cells": [
  {
   "cell_type": "markdown",
   "id": "e5996964",
   "metadata": {},
   "source": [
    "#### Q 1. Define a function calls addNumber(x, y) that takes in two number and returns the sum of the two numbers."
   ]
  },
  {
   "cell_type": "code",
   "execution_count": 1,
   "id": "39efe74e",
   "metadata": {},
   "outputs": [
    {
     "name": "stdout",
     "output_type": "stream",
     "text": [
      "Enter the value of x here: 256\n",
      "Enter the value of y here: 120\n",
      "The sum of 256 and 120 is : 376\n"
     ]
    }
   ],
   "source": [
    "def addNumber(x, y):\n",
    "    sum = x+y\n",
    "    return sum\n",
    "\n",
    "x = eval(input('Enter the value of x here: '))\n",
    "y = eval(input('Enter the value of y here: '))\n",
    "print(f'The sum of {x} and {y} is :', addNumber(x,y))"
   ]
  },
  {
   "cell_type": "markdown",
   "id": "ecfc763c",
   "metadata": {},
   "source": [
    "#### Q 2. Define a function calls subtractNumber(x, y) that takes in two numbers and returns the difference of the two numbers."
   ]
  },
  {
   "cell_type": "code",
   "execution_count": 2,
   "id": "df1e3196",
   "metadata": {},
   "outputs": [
    {
     "name": "stdout",
     "output_type": "stream",
     "text": [
      "Enter the value of x here: 256\n",
      "Enter the value of y here: 120\n",
      "The difference of 256 and 120 is : 136\n"
     ]
    }
   ],
   "source": [
    "def subtractNumber(x, y):\n",
    "    subtract = x-y\n",
    "    return subtract\n",
    "\n",
    "x = eval(input('Enter the value of x here: '))\n",
    "y = eval(input('Enter the value of y here: '))\n",
    "print(f'The difference of {x} and {y} is :', subtractNumber(x,y))"
   ]
  },
  {
   "cell_type": "markdown",
   "id": "53397a78",
   "metadata": {},
   "source": [
    "#### Q 3. Write a function getBiggerNumber(x, y) that takes in two numbers as arguments and returns the bigger number."
   ]
  },
  {
   "cell_type": "code",
   "execution_count": 3,
   "id": "be48483b",
   "metadata": {},
   "outputs": [
    {
     "name": "stdout",
     "output_type": "stream",
     "text": [
      "Enter the value of x here: 256\n",
      "Enter the value of y here: 120\n",
      "From 256 and 120 the bigger number is : 256\n"
     ]
    }
   ],
   "source": [
    "def getBiggerNumber(x, y):\n",
    "    if x>y:\n",
    "        return x\n",
    "    else:\n",
    "        return y\n",
    "    \n",
    "x = eval(input('Enter the value of x here: '))\n",
    "y = eval(input('Enter the value of y here: '))\n",
    "print(f'From {x} and {y} the bigger number is :', getBiggerNumber(x, y))"
   ]
  },
  {
   "cell_type": "code",
   "execution_count": 4,
   "id": "cfa2104d",
   "metadata": {},
   "outputs": [],
   "source": [
    "# Python provides many built-in modules with many useful functions. \n",
    "# One such module is the math module. The math module provides many useful functions such as sqrt(x), pow(x, y), ceil(x), floor(x) etc. \n",
    "# You will need to do a \"import math\" before you are allowed to use the functions within the math module.\n",
    "\n",
    "\n",
    "# Calculate the square root of 16 and stores it in the variable a\n",
    "\n",
    "\n",
    "# Calculate 3 to the power of 5 and stores it in the variable b\n",
    "\n",
    "\n",
    "# Calculate area of circle with radius = 3.0 by making use of the math.pi constant and store it in the variable c"
   ]
  },
  {
   "cell_type": "markdown",
   "id": "66646bf0",
   "metadata": {},
   "source": [
    "#### Q 4. Do as instructed:"
   ]
  },
  {
   "cell_type": "markdown",
   "id": "a4e2edb9",
   "metadata": {},
   "source": [
    "#### (a). Calculate the square root of 16 and stores it in the variable a"
   ]
  },
  {
   "cell_type": "code",
   "execution_count": 5,
   "id": "01087299",
   "metadata": {},
   "outputs": [
    {
     "name": "stdout",
     "output_type": "stream",
     "text": [
      "4.0\n"
     ]
    }
   ],
   "source": [
    "import math\n",
    "def sqrt_of(x):\n",
    "    root = math.sqrt(x)\n",
    "    return root\n",
    "\n",
    "x = 16\n",
    "print(sqrt_of(x))"
   ]
  },
  {
   "cell_type": "markdown",
   "id": "cffdb45f",
   "metadata": {},
   "source": [
    "#### (b). Calculate 3 to the power of 5 and stores it in the variable b"
   ]
  },
  {
   "cell_type": "code",
   "execution_count": 6,
   "id": "8eeb240a",
   "metadata": {},
   "outputs": [
    {
     "name": "stdout",
     "output_type": "stream",
     "text": [
      "The value of 3 to the power 5 is:  243.0\n"
     ]
    }
   ],
   "source": [
    "import math\n",
    "def power_of(x):\n",
    "    power = math.pow(x,y)\n",
    "    return power\n",
    "\n",
    "x = 3\n",
    "y = 5\n",
    "print(f'The value of {x} to the power {y} is: ', power_of(x))"
   ]
  },
  {
   "cell_type": "markdown",
   "id": "a117881c",
   "metadata": {},
   "source": [
    "#### (c).  Calculate area of circle with radius = 3.0 by making use of the math.pi constant and store it in the variable c"
   ]
  },
  {
   "cell_type": "code",
   "execution_count": 7,
   "id": "ddc960d9",
   "metadata": {},
   "outputs": [
    {
     "name": "stdout",
     "output_type": "stream",
     "text": [
      "The area of a circle with radius 3 is:  28.274333882308138\n"
     ]
    }
   ],
   "source": [
    "import math\n",
    "def area(r):\n",
    "    c = (math.pi)*r*r\n",
    "    return c\n",
    "\n",
    "r = 3\n",
    "print(f'The area of a circle with radius {r} is: ',area(r))"
   ]
  },
  {
   "cell_type": "markdown",
   "id": "ccba1500",
   "metadata": {},
   "source": [
    "#### Q 5. Write a function to convert temperature from Celsius to Fahrenheit scale."
   ]
  },
  {
   "cell_type": "code",
   "execution_count": 8,
   "id": "1a44b28e",
   "metadata": {},
   "outputs": [
    {
     "name": "stdout",
     "output_type": "stream",
     "text": [
      "Enter the value that you want to conver in fahrenheit : 28\n",
      "The value of 28 celcius in faherenheit is:  82.40\n"
     ]
    }
   ],
   "source": [
    "# oC to oF Conversion: Multipy by 9, then divide by 5, then add 32.\n",
    "\n",
    "# Note: Return a string of 2 decimal places.\n",
    "# In - Cel2Fah(28.0)\n",
    "# Out - '82.40'\n",
    "# In - Cel2Fah(0.00)\n",
    "# Out - '32.00'\n",
    "\n",
    "def convert(value):\n",
    "    Cel2Fah = ((value*9)/5)+32\n",
    "    Cel2Fah = '{:.2f}'.format(Cel2Fah) \n",
    "    return Cel2Fah\n",
    "    \n",
    "value = eval(input(\"Enter the value that you want to conver in fahrenheit : \"))\n",
    "print(f'The value of {value} celcius in faherenheit is: ',convert(value))"
   ]
  },
  {
   "cell_type": "markdown",
   "id": "362ea4f4",
   "metadata": {},
   "source": [
    "#### Q 6. Write a function to compute the BMI of a person."
   ]
  },
  {
   "cell_type": "code",
   "execution_count": 9,
   "id": "3c8dcddc",
   "metadata": {},
   "outputs": [
    {
     "name": "stdout",
     "output_type": "stream",
     "text": [
      "Enter your weight in kg here: 63\n",
      "Enter your height in meters here: 1.7\n",
      "Your BMI value is:  21.8\n"
     ]
    }
   ],
   "source": [
    "#     BMI = weight(kg)  /  ( height(m)*height(m) )\n",
    "\n",
    "# Note: Return a string of 1 decimal place.\n",
    "# In - BMI(63, 1.7)\n",
    "# Out - '21.8'\n",
    "# In - BMI(110, 2)\n",
    "# Out - '27.5'\n",
    "\n",
    "def BMI(weight,height):\n",
    "    BMI =  weight  /  ( height*height)\n",
    "    BMI = str(round(BMI,1))\n",
    "    return BMI\n",
    "\n",
    "weight = eval(input('Enter your weight in kg here: '))\n",
    "height = eval(input('Enter your height in meters here: '))\n",
    "print(f'Your BMI value is: ',BMI(weight,height))"
   ]
  },
  {
   "cell_type": "markdown",
   "id": "aace7878",
   "metadata": {},
   "source": [
    "#### Q 7. Write a function percent(value, total) that takes in two numbers as arguments, and returns the percentage value as an integer."
   ]
  },
  {
   "cell_type": "code",
   "execution_count": 10,
   "id": "e805a0d0",
   "metadata": {},
   "outputs": [
    {
     "name": "stdout",
     "output_type": "stream",
     "text": [
      "Enter the value here: 46\n",
      "Enter the total here: 90\n",
      "The value of percentage is:  51\n"
     ]
    }
   ],
   "source": [
    "# In - percent(46, 90)\n",
    "# Out - 51\n",
    "# In - percent(51, 51)\n",
    "# Out - 100\n",
    "# In - percent(63, 12)\n",
    "# Out - 525\n",
    "\n",
    "def percent(value, total):\n",
    "    percentage = (value*100)/total\n",
    "    percentage = round(percentage)\n",
    "    return percentage\n",
    "\n",
    "value = eval(input('Enter the value here: '))\n",
    "total = eval(input('Enter the total here: '))\n",
    "print(f'The value of percentage is: ',percent(value,total))"
   ]
  },
  {
   "cell_type": "markdown",
   "id": "8547f348",
   "metadata": {},
   "source": [
    "#### Q 8.  Write a function to compute the hypotenuse given sides a and b of the triangle."
   ]
  },
  {
   "cell_type": "code",
   "execution_count": 11,
   "id": "6ae4bbdb",
   "metadata": {},
   "outputs": [
    {
     "name": "stdout",
     "output_type": "stream",
     "text": [
      "Enter the value for a here: 3\n",
      "Enter the value for b here: 4\n",
      "The hypotenuse of 3 and 4 is:  5\n"
     ]
    }
   ],
   "source": [
    "# Hint: You can use math.sqrt(x) to compute the square root of x.\n",
    "# In - hypotenuse(3, 4)\n",
    "# Out - 5\n",
    "# In - hypotenuse(5, 12)\n",
    "# Out - 13\n",
    "\n",
    "import math\n",
    "def hypotenuse(a, b):\n",
    "    square = (a*a) + (b*b)\n",
    "    hypotenuse = int(math.sqrt(square))\n",
    "    return hypotenuse\n",
    "\n",
    "a = eval(input('Enter the value for a here: '))\n",
    "b = eval(input('Enter the value for b here: '))\n",
    "print(f'The hypotenuse of {a} and {b} is: ',hypotenuse(a, b))"
   ]
  },
  {
   "cell_type": "markdown",
   "id": "5af40a05",
   "metadata": {},
   "source": [
    "#### Q 9. Write a function getSumOfLastDigits() that takes in a list of positive numbers and returns the sum of all the last digits in the list."
   ]
  },
  {
   "cell_type": "code",
   "execution_count": 12,
   "id": "e453e528",
   "metadata": {},
   "outputs": [
    {
     "name": "stdout",
     "output_type": "stream",
     "text": [
      "The sum of last digits is:  10\n"
     ]
    }
   ],
   "source": [
    "# getSumOfLastDigits([2, 3, 4])\n",
    "# 9\n",
    "# getSumOfLastDigits([1, 23, 456])\n",
    "# 10\n",
    "\n",
    "def getSumOfLastDigits(numList):\n",
    "    return sum(x % 10 for x in numList)\n",
    "\n",
    "numList = [1, 23, 456]\n",
    "print(f'The sum of last digits is: ',getSumOfLastDigits(numList))"
   ]
  },
  {
   "cell_type": "markdown",
   "id": "c2b3eec6",
   "metadata": {},
   "source": [
    "#### Q 10. Write a function that uses a default value."
   ]
  },
  {
   "cell_type": "code",
   "execution_count": 13,
   "id": "0557d3be",
   "metadata": {},
   "outputs": [
    {
     "name": "stdout",
     "output_type": "stream",
     "text": [
      "My name is Lim. My age is 20\n"
     ]
    }
   ],
   "source": [
    "# In - introduce('Lim', 20)\n",
    "# Out - 'My name is Lim. I am 20 years old.'\n",
    "# In - introduce('Ahmad')\n",
    "# Out - 'My name is Ahmad. My age is secret.'\n",
    "\n",
    "def introduce(name, age):\n",
    "    msg = \"My name is %s. \" % name\n",
    "    if age == 0:\n",
    "        msg += 'My age is secret'\n",
    "    else:\n",
    "        msg += f\"My age is {age}\"\n",
    "    return msg \n",
    "\n",
    "print(introduce('Lim', 20))"
   ]
  },
  {
   "cell_type": "markdown",
   "id": "bd2ac89c",
   "metadata": {},
   "source": [
    "#### Q 11. Write a function isEquilateral(x, y, z) that accepts the 3 sides of a triangle as arguments. "
   ]
  },
  {
   "cell_type": "code",
   "execution_count": 14,
   "id": "06e1b6ee",
   "metadata": {},
   "outputs": [
    {
     "name": "stdout",
     "output_type": "stream",
     "text": [
      "Enter the value of x parameter: 2\n",
      "Enter the value of y parameter: 4\n",
      "Enter the value of z parameter: 5\n",
      "\n",
      "***Equilateral means the value of x,y and z are positive and equal.***\n",
      "\n",
      "The answer of isEquilateral is:  False\n"
     ]
    }
   ],
   "source": [
    "# The program should return True if it is an equilateral triangle.\n",
    "\n",
    "# In - isEquilateral(2, 4, 3)\n",
    "# False - False\n",
    "# In - isEquilateral(3, 3, 3)\n",
    "# Out - True\n",
    "# In - isEquilateral(-3, -3, -3)\n",
    "# Out - False\n",
    "\n",
    "def isEquilateral(x, y, z):\n",
    "    isEquilateral = True\n",
    "    if x==y==z & x == y == z > 0:\n",
    "        return isEquilateral\n",
    "    else:\n",
    "        return not isEquilateral\n",
    "    \n",
    "x = eval(input('Enter the value of x parameter: '))\n",
    "y = eval(input('Enter the value of y parameter: '))\n",
    "z = eval(input('Enter the value of z parameter: '))\n",
    "\n",
    "print('\\n***Equilateral means the value of x,y and z are positive and equal.***\\n')\n",
    "print(f'The answer of isEquilateral is: ',isEquilateral(x,y,z))"
   ]
  },
  {
   "cell_type": "markdown",
   "id": "5ccc2d5c",
   "metadata": {},
   "source": [
    "#### Q 12. For a quadratic equation in the form of ax2+bx+c, the discriminant, D is b2-4ac. Write a function to compute the discriminant, D."
   ]
  },
  {
   "cell_type": "code",
   "execution_count": 23,
   "id": "fd49f6e8",
   "metadata": {},
   "outputs": [
    {
     "name": "stdout",
     "output_type": "stream",
     "text": [
      "Enter value of a: 1\n",
      "Enter value of b: 2\n",
      "Enter value of c: 3\n",
      "\n",
      "***For equation, 2ax+by+c >> The value of discriminant (D) is:  b^2 - 4ac***\n",
      "\n",
      "Discriminant of 1, 2 and 3 is:  -8\n"
     ]
    }
   ],
   "source": [
    "# In - quadratic(1, 2, 3)\n",
    "# Out - 'The discriminant is -8.'\n",
    "# In - quadratic(1, 3, 2)\n",
    "# Out - 'The discriminant is 1.'\n",
    "# In - quadratic(1, 4, 4)\n",
    "# Out - 'The discriminant is 0.'\n",
    "\n",
    "def discriminant(a,b,c):\n",
    "    Discriminant = (b*2)-4*(a*c)\n",
    "    return Discriminant\n",
    "\n",
    "a = int(input(\"Enter value of a: \"))\n",
    "b = int(input(\"Enter value of b: \"))\n",
    "c = int(input(\"Enter value of c: \"))\n",
    "\n",
    "print('\\n***For equation, 2ax+by+c >> The value of discriminant (D) is:  b^2 - 4ac***\\n')\n",
    "print(f'Discriminant of {a}, {b} and {c} is: ',discriminant(a,b,c))"
   ]
  },
  {
   "cell_type": "markdown",
   "id": "4d0ff605",
   "metadata": {},
   "source": [
    "#### Q 13. Define a function calls addFirstAndLast(x) that takes in a list of numbers and returns the sum of the first and last numbers."
   ]
  },
  {
   "cell_type": "code",
   "execution_count": 16,
   "id": "a1728f60",
   "metadata": {},
   "outputs": [
    {
     "name": "stdout",
     "output_type": "stream",
     "text": [
      "\n",
      "The value of sum of first and the last digit is: \n",
      "\n",
      "5\n",
      "0\n",
      "10\n"
     ]
    }
   ],
   "source": [
    "# In - addFirstAndLast([])\n",
    "# Out - 0\n",
    "# In - addFirstAndLast([2, 7, 3])\n",
    "# Out - 5\n",
    "# In - addFirstAndLast([10])\n",
    "# Out - 10\n",
    "\n",
    "def addFirstAndLast(x): \n",
    "    if len(x) == 0:\n",
    "        return 0\n",
    "    elif len(x) == 1:\n",
    "        return x[0]\n",
    "    else:\n",
    "        return (x[0] + x[-1])\n",
    "\n",
    "print('\\nThe value of sum of first and the last digit is: \\n')\n",
    "print(addFirstAndLast([2,7,3]))\n",
    "print(addFirstAndLast([]))\n",
    "print(addFirstAndLast([10]))"
   ]
  },
  {
   "cell_type": "markdown",
   "id": "2895cb3f",
   "metadata": {},
   "source": [
    "#### Q 14. Complete the 'lambda' expression so that it returns True if the argument is an even number, and False otherwise."
   ]
  },
  {
   "cell_type": "code",
   "execution_count": 17,
   "id": "5852375a",
   "metadata": {},
   "outputs": [
    {
     "name": "stdout",
     "output_type": "stream",
     "text": [
      "Enter a number here: 36\n",
      "Even Number\n"
     ]
    }
   ],
   "source": [
    "number = int(input(\"Enter a number here: \"))\n",
    "odd_even = lambda : \"Even Number\" if number % 2 == 0 else \"Odd Number\"\n",
    "\n",
    "print(odd_even())"
   ]
  },
  {
   "cell_type": "markdown",
   "id": "0e7fdaaf",
   "metadata": {},
   "source": [
    "#### Q 15. Get the documentation of below function"
   ]
  },
  {
   "cell_type": "code",
   "execution_count": 18,
   "id": "516fa281",
   "metadata": {},
   "outputs": [],
   "source": [
    "# def getScore():\n",
    "#   ''''A function that computes and returns the final score.'''\n",
    "#   pass"
   ]
  },
  {
   "cell_type": "markdown",
   "id": "499640f8",
   "metadata": {},
   "source": [
    "#### Q 17. Write a function useFunction(func, num) that takes in a function and a number as arguments. "
   ]
  },
  {
   "cell_type": "code",
   "execution_count": 19,
   "id": "9b297d4d",
   "metadata": {},
   "outputs": [
    {
     "name": "stdout",
     "output_type": "stream",
     "text": [
      "\n",
      " ***Here in add one function we will add one digit to give number and revert the square of that digit.***\n",
      "\n",
      "25\n",
      "100\n",
      "1\n"
     ]
    }
   ],
   "source": [
    "# In Python, it is possible to pass a function as a argument to another function. \n",
    "# The useFunction should produce the output shown in the examples given below.\n",
    "\n",
    "# def addOne(x):\n",
    "#     return x + 1\n",
    "# useFunction(addOne, 4)\n",
    "# 25\n",
    "# useFunction(addOne, 9)\n",
    "# 100\n",
    "# useFunction(addOne, 0)\n",
    "# 1\n",
    "\n",
    "def addOne(x):\n",
    "    return x+1\n",
    "\n",
    "def useFunction(addOne, x):\n",
    "    return addOne(x)**2\n",
    "\n",
    "print('\\n ***Here in add one function we will add one digit to give number and revert the square of that digit.***\\n')\n",
    "print(useFunction(addOne, 4))\n",
    "print(useFunction(addOne, 9))\n",
    "print(useFunction(addOne, 0))"
   ]
  },
  {
   "cell_type": "markdown",
   "id": "4d1d601d",
   "metadata": {},
   "source": [
    "#### Q 18. Write a function find_max that accepts three numbers as arguments and returns the largest number among three. Write another function main, in main() function accept three numbers from user and call find_max."
   ]
  },
  {
   "cell_type": "code",
   "execution_count": 20,
   "id": "8945c638",
   "metadata": {},
   "outputs": [
    {
     "name": "stdout",
     "output_type": "stream",
     "text": [
      "Enter first number 256\n",
      "Enter second number 120\n",
      "Enter third number 100\n",
      "The largest number form the given list is:  Largest number is: 256\n"
     ]
    }
   ],
   "source": [
    "def find_max(x, y, z):\n",
    "    if x > y and x > z:\n",
    "        return x\n",
    "    elif y > z:\n",
    "        return y\n",
    "    else:\n",
    "        return z\n",
    "\n",
    "def main():\n",
    "    a = int(input('Enter first number '))\n",
    "    b = int(input('Enter second number '))\n",
    "    c = int(input('Enter third number '))\n",
    "    largest = find_max(a, b, c)\n",
    "    return f'Largest number is: {largest}'\n",
    "\n",
    "print(f'The largest number form the given list is: ',main())"
   ]
  },
  {
   "cell_type": "markdown",
   "id": "5e003abb",
   "metadata": {},
   "source": [
    "#### Q 19. Write a function, is_vowel that returns the value true if a given character is a vowel, and otherwise returns false."
   ]
  },
  {
   "cell_type": "code",
   "execution_count": 25,
   "id": "ea387fd0",
   "metadata": {},
   "outputs": [
    {
     "name": "stdout",
     "output_type": "stream",
     "text": [
      "\n",
      "Are there any vowel in the given string:  True\n",
      "Entrer the string here: Vatsal shah is writing a python Assignment.\n",
      "\n",
      "Number of vowels in the given string are:  11\n"
     ]
    }
   ],
   "source": [
    "# Write another function main, in main() function accept a string from user and count number of vowels in that string.\n",
    "\n",
    "def main():\n",
    "    my_str = input(\"Entrer the string here: \")\n",
    "    count = 0\n",
    "    vowel = ['a','e','i','o','u','A','E','I','O','U']\n",
    "    for i in vowel:\n",
    "        for j in range(len(my_str)):\n",
    "            if my_str[j] in vowel:\n",
    "                count +=1\n",
    "        return count\n",
    "\n",
    "def is_vowel():\n",
    "     if 'a' or 'e' or 'i' or 'o' or 'u' or 'A' or 'E' or 'I' or 'O' or 'U' in my_str:\n",
    "        return True\n",
    "     else:\n",
    "        False\n",
    "\n",
    "print('\\nAre there any vowel in the given string: ',is_vowel())\n",
    "print('\\nNumber of vowels in the given string are: ',main())"
   ]
  },
  {
   "cell_type": "markdown",
   "id": "1664a3c7",
   "metadata": {},
   "source": [
    "#### Q 20. Write a function named is_prime, which takes an integer as an argument and returns true "
   ]
  },
  {
   "cell_type": "code",
   "execution_count": 27,
   "id": "8630d82b",
   "metadata": {},
   "outputs": [
    {
     "name": "stdout",
     "output_type": "stream",
     "text": [
      "Enter the number here: 299\n",
      "\n",
      " A prime number is a number which is divisible by itself only.\n",
      " \n",
      "If given number is a prime number or not:  False\n",
      "\n",
      "***Prime numbers from 1 to 500 are: ***\n",
      " [2, 3, 5, 7, 11, 13, 17, 19, 23, 29, 31, 37, 41, 43, 47, 53, 59, 61, 67, 71, 73, 79, 83, 89, 97, 101, 103, 107, 109, 113, 127, 131, 137, 139, 149, 151, 157, 163, 167, 173, 179, 181, 191, 193, 197, 199, 211, 223, 227, 229, 233, 239, 241, 251, 257, 263, 269, 271, 277, 281, 283, 293, 307, 311, 313, 317, 331, 337, 347, 349, 353, 359, 367, 373, 379, 383, 389, 397, 401, 409, 419, 421, 431, 433, 439, 443, 449, 457, 461, 463, 467, 479, 487, 491, 499]\n"
     ]
    }
   ],
   "source": [
    "# if the argument is a prime number, or false otherwise. \n",
    "# Also, write the main function that displays prime numbers between 1 to 500.\n",
    "\n",
    "def is_prime(number):\n",
    "    for i in range(2,number):\n",
    "        if number%i == 0:\n",
    "            return False\n",
    "    return True\n",
    "\n",
    "def main():\n",
    "    prime = []\n",
    "    for num in range(2,501):\n",
    "        if is_prime(num):\n",
    "            prime.append(num) \n",
    "    return prime\n",
    "\n",
    "number = int(input(\"Enter the number here: \"))\n",
    "print('\\n A prime number is a number which is divisible by itself only.\\n ')\n",
    "print('If given number is a prime number or not: ',is_prime(number))\n",
    "print('\\n***Prime numbers from 1 to 500 are: ***\\n',main())"
   ]
  },
  {
   "cell_type": "markdown",
   "id": "ff970d95",
   "metadata": {},
   "source": [
    "#### Q 21. Write a function in python to find the sum of the cube of elements in a list. "
   ]
  },
  {
   "cell_type": "code",
   "execution_count": 28,
   "id": "a3dc353b",
   "metadata": {},
   "outputs": [
    {
     "name": "stdout",
     "output_type": "stream",
     "text": [
      "\n",
      "***This program will give cube root of the given inputs.***\n",
      "\n",
      "Cube root of given numbers is:  36\n"
     ]
    }
   ],
   "source": [
    "# The list is received as an argument to the function, in turn, the function must return the sum. \n",
    "# Write the main function which invokes the above function.\n",
    "\n",
    "def sum_cube(my_list):\n",
    "    value = []\n",
    "    for i in range (len(my_list)):\n",
    "        cube = my_list[i]*my_list[i]*my_list[i]\n",
    "        i +=1\n",
    "        value.append(cube)\n",
    "    for i in value:\n",
    "        sum_cube = sum(value)\n",
    "        return sum_cube\n",
    "    \n",
    "def main(my_list):\n",
    "    return sum_cube(my_list)\n",
    "    \n",
    "my_list = [1,2,3]\n",
    "print('\\n***This program will give cube root of the given inputs.***\\n')\n",
    "print('Cube root of given numbers is: ',main(my_list))"
   ]
  },
  {
   "cell_type": "markdown",
   "id": "3be836a7",
   "metadata": {},
   "source": [
    "#### Q 22. Write the definition of a function zero_ending(scores) to add all those values in the list of scores, "
   ]
  },
  {
   "cell_type": "code",
   "execution_count": 29,
   "id": "211c0cd5",
   "metadata": {},
   "outputs": [
    {
     "name": "stdout",
     "output_type": "stream",
     "text": [
      "The sum of numbers ending with zero is:  600\n"
     ]
    }
   ],
   "source": [
    "# which are ending with zero and display the sum.\n",
    "# For example: If the scores contain [200, 456, 300, 100, 234, 678] The sum should be displayed as 600.\n",
    "\n",
    "def zero_ending(scores):\n",
    "    zero_list= []\n",
    "    for number in scores:\n",
    "        if number%10 == 0:\n",
    "            zero_list.append(number)\n",
    "    for i in zero_list:\n",
    "        sum_zero_list = sum(zero_list)\n",
    "        return sum_zero_list\n",
    "\n",
    "scores = [200, 456, 300, 100, 234, 678]\n",
    "print('The sum of numbers ending with zero is: ' , zero_ending(scores))"
   ]
  },
  {
   "cell_type": "markdown",
   "id": "f5e69387",
   "metadata": {},
   "source": [
    "#### Q 23. Write a definition of a method count_now(places) to find and display those place names, in which there are more than 5 characters."
   ]
  },
  {
   "cell_type": "code",
   "execution_count": 30,
   "id": "93bc7ca9",
   "metadata": {},
   "outputs": [
    {
     "name": "stdout",
     "output_type": "stream",
     "text": [
      "Places with the name length of more than 5 charcters are:  ['LONDON', 'NEW YORK']\n"
     ]
    }
   ],
   "source": [
    "# For example :\n",
    "# If the list places contains\n",
    "# [\"DELHI\",\"LONDON\",\"PARIS\",\"NEW YORK\",\"DUBAI\"]\n",
    "# The following should get displayed :\n",
    "# LONDON\n",
    "# NEW YORK\n",
    "\n",
    "def count_now(places):\n",
    "    place = []\n",
    "    for i in places:\n",
    "        if len(i) > 5:\n",
    "            place.append(i)\n",
    "    return place\n",
    "\n",
    "places = [\"DELHI\",\"LONDON\",\"PARIS\",\"NEW YORK\",\"DUBAI\"]\n",
    "print('Places with the name length of more than 5 charcters are: ',count_now(places))"
   ]
  },
  {
   "cell_type": "markdown",
   "id": "a6f9c881",
   "metadata": {},
   "source": [
    "#### Q 24. Write a method in python to display the elements of list thrice if it is a number and display the element terminated with ‘#’ if it is not a number."
   ]
  },
  {
   "cell_type": "code",
   "execution_count": 31,
   "id": "17d663e0",
   "metadata": {},
   "outputs": [
    {
     "name": "stdout",
     "output_type": "stream",
     "text": [
      "Shorted list is: \n",
      "\n",
      "414141\n",
      "DROND#\n",
      "GIRIRAJ#\n",
      "131313\n",
      "ZARA#\n",
      "None\n"
     ]
    }
   ],
   "source": [
    "# For example, if the content of list is as follows :\n",
    "# ThisList=[‘41’,‘DROND’,‘GIRIRAJ’, ‘13’,‘ZARA’]\n",
    "# The output should be\n",
    "# 414141\n",
    "# DROND#\n",
    "# GIRIRAJ#\n",
    "# 131313\n",
    "# ZARA#\n",
    "\n",
    "def element(my_list):\n",
    "    for elements in my_list:\n",
    "        if elements.isnumeric():\n",
    "            print(3*elements)\n",
    "        else:\n",
    "            print(elements+'#')\n",
    "            \n",
    "my_list = ['41','DROND','GIRIRAJ', '13','ZARA']\n",
    "print('Shorted list is: \\n')\n",
    "print(element(my_list))"
   ]
  },
  {
   "cell_type": "markdown",
   "id": "c819d3b6",
   "metadata": {},
   "source": [
    "#### Q 25. For a given list of values in descending order, write a method in python to search with the help of Binary Search method. "
   ]
  },
  {
   "cell_type": "code",
   "execution_count": 32,
   "id": "40741109",
   "metadata": {},
   "outputs": [
    {
     "name": "stdout",
     "output_type": "stream",
     "text": [
      "Element is present at index 3\n"
     ]
    }
   ],
   "source": [
    "# The method should return position of the value and should return -1 if the value not present in the list.\n",
    "\n",
    "def binary_search(my_list, low, high, x):\n",
    " \n",
    "    if high >= low:\n",
    "        mid = (high + low) // 2\n",
    "        if my_list[mid] == x:\n",
    "            return mid\n",
    "        elif my_list[mid] > x:\n",
    "            return binary_search(my_list, low, mid - 1, x)\n",
    "        else:\n",
    "            return binary_search(my_list, mid + 1, high, x)\n",
    "    else:\n",
    "        return -1\n",
    " \n",
    "my_list = [ 2, 3, 4, 10, 40 ]\n",
    "x = 10\n",
    " \n",
    "result = binary_search(my_list, 0, len(my_list)-1, x)\n",
    "if result != -1:\n",
    "    print(\"Element is present at index\", str(result))\n",
    "else:\n",
    "    print(\"Element is not present in array\")"
   ]
  },
  {
   "cell_type": "markdown",
   "id": "63e56214",
   "metadata": {},
   "source": [
    "#### Q 26. Write a function half_and_half that takes in a list and change the list such that the elements of the second half are now in the first half."
   ]
  },
  {
   "cell_type": "code",
   "execution_count": 33,
   "id": "dc3c2049",
   "metadata": {},
   "outputs": [
    {
     "name": "stdout",
     "output_type": "stream",
     "text": [
      "Interchanged list from the half is:  [40, 50, 60, 40, 50, 60]\n"
     ]
    }
   ],
   "source": [
    "# For example, if the size of list is even and content of list is as follows :\n",
    "# my_liist = [10,20,30,40,50,60]\n",
    "# The output should be\n",
    "# [40,50,60,10,20,30]\n",
    "# if the size of list is odd and content of list is as follows :\n",
    "# my_liist = [10,20,30,40,50,60,70]\n",
    "# The output should be\n",
    "# [50,60,70,40,10,20,30]\n",
    "\n",
    "def half_and_half(my_list):\n",
    "    if len(my_list)%2 == 0:\n",
    "        start = 0\n",
    "    else:\n",
    "        start = 1\n",
    "        \n",
    "    Length = len(my_list)//2\n",
    "    \n",
    "    for i in range(Length):\n",
    "        temp = my_list[i]\n",
    "        my_list[i] = my_list[i+Length+start]\n",
    "        temp = my_list[i+Length+start]\n",
    "\n",
    "my_list = [10,20,30,40,50,60]\n",
    "half_and_half(my_list)\n",
    "print('Interchanged list from the half is: ',my_list)"
   ]
  },
  {
   "cell_type": "markdown",
   "id": "5a141505",
   "metadata": {},
   "source": [
    "#### Q 27. Write a function that accepts a dictionary as an argument. If the dictionary contains replicate values, return an empty dictionary, otherwise, return a new dictionary whose values are now the keys and whose  keys are the values."
   ]
  },
  {
   "cell_type": "code",
   "execution_count": 35,
   "id": "e30a1eee",
   "metadata": {},
   "outputs": [
    {
     "name": "stdout",
     "output_type": "stream",
     "text": [
      "{'a': 10, 'b': 20, 'c': 20}\n",
      "**There are replicas in the given string **\n",
      "so the output is: \n",
      "{}\n",
      "{'a': 10, 'b': 20, 'c': 30}\n",
      "\n",
      "**There are no replicas in the given string **\n",
      "so the output is: \n",
      "{10: 'a', 20: 'b', 30: 'c'}\n"
     ]
    }
   ],
   "source": [
    "def swap_key_value(dictionary):\n",
    "    L = list(dictionary.values())\n",
    "    for value in L:\n",
    "        if L.count(value) > 1:\n",
    "            return dict()\n",
    "\n",
    "    new_dict = {}\n",
    "    for k, v in dictionary.items():\n",
    "        new_dict[v] = k\n",
    "    return new_dict\n",
    "\n",
    "dict_1 = {'a':10,'b':20,'c':20}\n",
    "print(dict_1)\n",
    "n = swap_key_value(dict_1)\n",
    "print('**There are replicas in the given string **\\nso the output is: ')\n",
    "print(n)\n",
    "\n",
    "dict_2 = {'a':10,'b':20,'c':30}\n",
    "print(dict_2)\n",
    "n = swap_key_value(dict_2)\n",
    "print('\\n**There are no replicas in the given string **\\nso the output is: ')\n",
    "print(n)"
   ]
  }
 ],
 "metadata": {
  "kernelspec": {
   "display_name": "Python 3 (ipykernel)",
   "language": "python",
   "name": "python3"
  },
  "language_info": {
   "codemirror_mode": {
    "name": "ipython",
    "version": 3
   },
   "file_extension": ".py",
   "mimetype": "text/x-python",
   "name": "python",
   "nbconvert_exporter": "python",
   "pygments_lexer": "ipython3",
   "version": "3.9.12"
  }
 },
 "nbformat": 4,
 "nbformat_minor": 5
}
