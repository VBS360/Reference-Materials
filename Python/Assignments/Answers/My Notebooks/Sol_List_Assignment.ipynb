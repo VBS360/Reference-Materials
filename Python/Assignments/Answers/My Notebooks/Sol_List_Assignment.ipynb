{
 "cells": [
  {
   "cell_type": "markdown",
   "id": "e6596c92",
   "metadata": {},
   "source": [
    "#### Q 1. Write a Python program to find the sum of all elements in a list using loop."
   ]
  },
  {
   "cell_type": "code",
   "execution_count": 1,
   "id": "4637d0a9",
   "metadata": {},
   "outputs": [
    {
     "name": "stdout",
     "output_type": "stream",
     "text": [
      "100\n"
     ]
    }
   ],
   "source": [
    "#Input:- [10,20,30,40]\n",
    "#Output:- 100\n",
    "\n",
    "def sum(my_list):\n",
    "    sum = 0\n",
    "    for i in my_list:\n",
    "        sum = sum + i\n",
    "    return sum\n",
    "\n",
    "my_list = [10,20,30,40]\n",
    "print(sum(my_list))"
   ]
  },
  {
   "cell_type": "markdown",
   "id": "edb0d3d0",
   "metadata": {},
   "source": [
    "#### Q 2. Write a Python program to find the multiplication of all elements in a list using loop."
   ]
  },
  {
   "cell_type": "code",
   "execution_count": 2,
   "id": "b18308fd",
   "metadata": {},
   "outputs": [
    {
     "name": "stdout",
     "output_type": "stream",
     "text": [
      "240000\n"
     ]
    }
   ],
   "source": [
    "#Input:- [10,20,30,40]\n",
    "#Output:- 240000\n",
    "\n",
    "def product(my_list):\n",
    "    product = 1\n",
    "    for i in my_list:\n",
    "        product = product * i\n",
    "    return product\n",
    "\n",
    "my_list = [10,20,30,40]\n",
    "print(product(my_list))"
   ]
  },
  {
   "cell_type": "markdown",
   "id": "15e35488",
   "metadata": {},
   "source": [
    "#### Q 3. Write a Python program to find the largest number from a list using loop."
   ]
  },
  {
   "cell_type": "code",
   "execution_count": 3,
   "id": "f7ad0b29",
   "metadata": {},
   "outputs": [
    {
     "name": "stdout",
     "output_type": "stream",
     "text": [
      "2321\n"
     ]
    }
   ],
   "source": [
    "#Input:- [10,100,2321, 1,200,2]\n",
    "#Output:- 2321\n",
    "\n",
    "\n",
    "def Max_my_list(my_list):\n",
    "    Max_my_list = my_list[0]\n",
    "    for x in my_list:\n",
    "        if x > Max_my_list:\n",
    "            Max_my_list = x\n",
    "    return Max_my_list\n",
    " \n",
    "my_list = [10,100,2321, 1,200,2]\n",
    "print((Max_my_list(my_list)))"
   ]
  },
  {
   "cell_type": "markdown",
   "id": "333e9601",
   "metadata": {},
   "source": [
    "#### Q 4. Write a Python program to find the smallest number from a list using loop."
   ]
  },
  {
   "cell_type": "code",
   "execution_count": 4,
   "id": "690b208c",
   "metadata": {},
   "outputs": [
    {
     "name": "stdout",
     "output_type": "stream",
     "text": [
      "1\n"
     ]
    }
   ],
   "source": [
    "#Input:- [10,100,2321, 1,200,2]\n",
    "#Output:- 1\n",
    "\n",
    "def Min_my_list(my_list):\n",
    "    Min_my_list = my_list[0]\n",
    "    for x in my_list:\n",
    "        if x < Min_my_list:\n",
    "            Min_my_list = x\n",
    "    return Min_my_list\n",
    " \n",
    "my_list = [10,100,2321, 1,200,2]\n",
    "print((Min_my_list(my_list)))"
   ]
  },
  {
   "cell_type": "markdown",
   "id": "beb64d50",
   "metadata": {},
   "source": [
    "#### Q 5. Write a Python program to count the number of strings having length more than 2 and are palindrome in a list using loop."
   ]
  },
  {
   "cell_type": "code",
   "execution_count": 5,
   "id": "aa0e1828",
   "metadata": {},
   "outputs": [
    {
     "name": "stdout",
     "output_type": "stream",
     "text": [
      "abc : Is Not Palindrome\n",
      "aba : Is Palindrome\n",
      "xyz : Is Not Palindrome\n",
      "1991 : Is Palindrome\n",
      "count is :  2\n",
      "<function isPalindrome at 0x0000020BD0E558B0>\n"
     ]
    }
   ],
   "source": [
    "#Input:- ['ab', 'abc', 'aba', 'xyz', '1991']\n",
    "#Output:- 2\n",
    "\n",
    "def isPalindrome(my_list):\n",
    "    count = 0\n",
    "    for i in range (0,len(my_list)):\n",
    "        if (len(my_list[i])) > 2:\n",
    "            if (my_list[i] == ((my_list[i])[::-1])):\n",
    "                print(my_list[i], \": Is Palindrome\")\n",
    "                count += 1\n",
    "            else:\n",
    "                print(my_list[i], \": Is Not Palindrome\")\n",
    "    print('count is : ',count)\n",
    "    return isPalindrome\n",
    "\n",
    "my_list = ['ab', 'abc', 'aba', 'xyz', '1991']\n",
    "\n",
    "print(isPalindrome(my_list))"
   ]
  },
  {
   "cell_type": "markdown",
   "id": "508bb8f2",
   "metadata": {},
   "source": [
    "#### Q 6. Write a Python program to sort a list in ascending order using loop."
   ]
  },
  {
   "cell_type": "code",
   "execution_count": 6,
   "id": "5012f4ca",
   "metadata": {},
   "outputs": [
    {
     "name": "stdout",
     "output_type": "stream",
     "text": [
      "[1, 2, 9, 10, 65, 80, 100, 298, 483, 9213, 49876]\n"
     ]
    }
   ],
   "source": [
    "#Input:- [(5,4),(9,1),(2,3),(5,9),(7,6),(5,5)]\n",
    "#output:- [(9,1),(2,3),(5,4),(5,5),(7,6),(5,9)]\n",
    "\n",
    "def sorted_list(number_list):\n",
    "   \n",
    "    sorted_list = []\n",
    "    i  = 0\n",
    "    len_num_list  = len(number_list)\n",
    "    \n",
    "    while i <  len_num_list:\n",
    "        number = min(number_list)      \n",
    "        sorted_list.append(number)\n",
    "        number_list.remove(number)\n",
    "        i += 1\n",
    "    return sorted_list\n",
    "\n",
    "number_list =  [100,10,1,298,65,483,49876,2,80,9,9213]\n",
    "print(sorted_list(number_list))"
   ]
  },
  {
   "cell_type": "markdown",
   "id": "b1cc30bc",
   "metadata": {},
   "source": [
    "#### Q 7. Write a Python program to get a sorted list in increasing order of last element in each tuple in a given list using loop."
   ]
  },
  {
   "cell_type": "code",
   "execution_count": 7,
   "id": "5f55df59",
   "metadata": {},
   "outputs": [
    {
     "name": "stdout",
     "output_type": "stream",
     "text": [
      "[(9, 1), (2, 3), (5, 4), (5, 5), (7, 6), (5, 9)]\n"
     ]
    }
   ],
   "source": [
    "#Input:- [(5,4),(9,1),(2,3),(5,9),(7,6),(5,5)]\n",
    "#output:- [(9,1),(2,3),(5,4),(5,5),(7,6),(5,9)]\n",
    "\n",
    "\n",
    "def  sorted_tup(my_list): \n",
    "    len_my_list = len(my_list) \n",
    "\n",
    "    for i in range(0, len_my_list):     \n",
    "        for j in range(0, len_my_list-i-1): \n",
    "            if (my_list[j][-1] > my_list[j + 1][-1]): \n",
    "                temp = my_list[j] \n",
    "                my_list[j]= my_list[j + 1] \n",
    "                my_list[j + 1]= temp \n",
    "    return my_list \n",
    "   \n",
    "my_list =[(5,4),(9,1),(2,3),(5,9),(7,6),(5,5)]\n",
    "print(sorted_tup(my_list))"
   ]
  },
  {
   "cell_type": "markdown",
   "id": "da7a4fba",
   "metadata": {},
   "source": [
    "#### Q 8. Write a Python program to remove duplicate element from a list using loop."
   ]
  },
  {
   "cell_type": "code",
   "execution_count": 8,
   "id": "1f31bb63",
   "metadata": {},
   "outputs": [
    {
     "name": "stdout",
     "output_type": "stream",
     "text": [
      "[10, 1, 11, 29, 876, 768, 92]\n"
     ]
    }
   ],
   "source": [
    "#Input:- [10,1,11,1,29,876,768,10,11,1,92,29,876]\n",
    "#Output:- [10,1,11,29,876,768,92]\n",
    "\n",
    "def Remove(my_list):\n",
    "    final_list = []\n",
    "    for num in my_list:\n",
    "        if num not in final_list:\n",
    "            final_list.append(num)\n",
    "    return final_list\n",
    "\n",
    "my_list = [10,1,11,1,29,876,768,10,11,1,92,29,876]\n",
    "print(Remove(my_list))"
   ]
  },
  {
   "cell_type": "markdown",
   "id": "3c5d414c",
   "metadata": {},
   "source": [
    "#### Q 9. Write a Python program to check a list is empty or not?"
   ]
  },
  {
   "cell_type": "code",
   "execution_count": 9,
   "id": "986d8830",
   "metadata": {},
   "outputs": [
    {
     "name": "stdout",
     "output_type": "stream",
     "text": [
      "List is empty\n",
      "List is not empty\n"
     ]
    }
   ],
   "source": [
    "#Input:- []\n",
    "#Output:- List is empty\n",
    "#Input:- [10,20,30]\n",
    "#Output:- List is not empty\n",
    "\n",
    "def Checker(check_my_list_1):\n",
    "        if len(check_my_list_1) == 0:\n",
    "            return 1\n",
    "        else:\n",
    "            return 0         \n",
    "def Checker(check_my_list_2):\n",
    "        if len(check_my_list_2) == 0:\n",
    "            return 1\n",
    "        else:\n",
    "            return 0   \n",
    "    \n",
    "check_my_list_1 = []\n",
    "check_my_list_2 = [10,20,30]\n",
    "\n",
    "if Checker(check_my_list_1):\n",
    "    print('List is empty')\n",
    "else:\n",
    "     print('List is not empty')\n",
    "        \n",
    "if Checker(check_my_list_2):\n",
    "    print('List is empty')\n",
    "else:\n",
    "     print('List is not empty')"
   ]
  },
  {
   "cell_type": "markdown",
   "id": "fbb62feb",
   "metadata": {},
   "source": [
    "#### Q 10. Write a Python program to copy a list using loop."
   ]
  },
  {
   "cell_type": "code",
   "execution_count": 10,
   "id": "55fcef2c",
   "metadata": {},
   "outputs": [
    {
     "name": "stdout",
     "output_type": "stream",
     "text": [
      "[10, 10.2, (10+20j), 'Python', [10, 20], (10, 20)]\n"
     ]
    }
   ],
   "source": [
    "#inp_lst = [10,10.20,10+20j, 'Python', [10,20], (10,20)]\n",
    "#out_lst = [10,10.20,10+20j, 'Python', [10,20], (10,20)]\n",
    "\n",
    "def Copy(my_list):\n",
    "    copied_list = []\n",
    "    i = 0\n",
    "    len_my_list = len(my_list)\n",
    "    while i < len_my_list:\n",
    "        copied_list.append(my_list[i])\n",
    "        i += 1\n",
    "    return copied_list\n",
    "\n",
    "my_list = [10,10.20,10+20j, 'Python', [10,20], (10,20)]\n",
    "print(Copy(my_list))"
   ]
  },
  {
   "cell_type": "markdown",
   "id": "a8c45243",
   "metadata": {},
   "source": [
    "#### Q 11. Write a Python program to find the list of words that are longer than or equal to 4 from a given string."
   ]
  },
  {
   "cell_type": "code",
   "execution_count": 11,
   "id": "eeb66f1a",
   "metadata": {},
   "outputs": [
    {
     "name": "stdout",
     "output_type": "stream",
     "text": [
      "['much', 'wood', 'would', 'woodchuck', 'chuck', 'could']\n"
     ]
    }
   ],
   "source": [
    "#Input:- 'How much wood would a woodchuck chuck if a woodchuck could chuck wood'\n",
    "#Output:- ['much', 'wood', 'would', 'woodchuck', 'chuck', 'could']\n",
    "#Note:- Duplicate should be avoided.\n",
    "\n",
    "def longer(my_str):\n",
    "    longer_str = []\n",
    "    split_str = my_str.split()\n",
    "    for i in split_str:\n",
    "        if (len(i)) >= 4:\n",
    "            if i not in longer_str:\n",
    "                longer_str.append(i)\n",
    "    return longer_str\n",
    "\n",
    "my_str = 'How much wood would a woodchuck chuck if a woodchuck could chuck wood'\n",
    "print(longer(my_str))"
   ]
  },
  {
   "cell_type": "markdown",
   "id": "98ff9bfe",
   "metadata": {},
   "source": [
    "#### Q 12. Write a Python program which takes two list as input and returns True if they have at least 3 common elements."
   ]
  },
  {
   "cell_type": "code",
   "execution_count": 12,
   "id": "02b2c286",
   "metadata": {},
   "outputs": [
    {
     "name": "stdout",
     "output_type": "stream",
     "text": [
      "True\n"
     ]
    }
   ],
   "source": [
    "#inp_lst1 = [10,20,'Python', 10.20, 10+20j, [10,20,30], (10,20,30)]\n",
    "#inp_lst2 = [(10,20,30),1,20+3j,100.2, 10+20j, [10,20,30],'Python']\n",
    "#Output:- True\n",
    "\n",
    "def commonElement(inp_lst1: list, inp_lst2: list):\n",
    "    common_element = 0\n",
    "    for i in inp_lst1:\n",
    "        if i in inp_lst2:\n",
    "            common_element += 1\n",
    "    if common_element > 3:\n",
    "        return True\n",
    "\n",
    "inp_lst1 = [10,20,'Python', 10.20, 10+20j, [10,20,30], (10,20,30)]\n",
    "inp_lst2 = [(10,20,30),1,20+3j,100.2, 10+20j, [10,20,30],'Python']\n",
    "print(commonElement(inp_lst1, inp_lst2))"
   ]
  },
  {
   "cell_type": "markdown",
   "id": "a020a69c",
   "metadata": {},
   "source": [
    "#### Q 13. Write a Python program to create a 4X4 2D matrix with below elements using loop and list comprehension both."
   ]
  },
  {
   "cell_type": "code",
   "execution_count": 13,
   "id": "090c555f",
   "metadata": {},
   "outputs": [
    {
     "name": "stdout",
     "output_type": "stream",
     "text": [
      "[[0, 0, 0, 0], [0, 1, 2, 3], [0, 2, 4, 6], [0, 3, 6, 9]]\n"
     ]
    }
   ],
   "source": [
    "#Output:- [[0,0,0,0],[0,1,2,3],[0,2,4,6],[0,3,6,9]]\n",
    "\n",
    "def two_d_matrix(matrix):\n",
    "    \n",
    "    for row in range(row_num):\n",
    "        matrix.append([])\n",
    "        for col in range(col_num):\n",
    "            matrix[row].append(1)\n",
    "\n",
    "    for row in range(row_num):\n",
    "        for col in range(col_num):\n",
    "            matrix[row][col]= row*col\n",
    "    return matrix\n",
    "\n",
    "matrix = []\n",
    "row_num = 4\n",
    "col_num = 4\n",
    "print (two_d_matrix(matrix))"
   ]
  },
  {
   "cell_type": "markdown",
   "id": "4540d4ea",
   "metadata": {},
   "source": [
    "#### Q 14. Write a Python program to create a 3X4X6 3D matrix wiith below elements using loop."
   ]
  },
  {
   "cell_type": "code",
   "execution_count": 14,
   "id": "37baf167",
   "metadata": {},
   "outputs": [
    {
     "name": "stdout",
     "output_type": "stream",
     "text": [
      "[[[0, 0, 0, 0, 0, 0], [0, 0, 0, 0, 0, 0], [0, 0, 0, 0, 0, 0], [0, 0, 0, 0, 0, 0]], [[0, 0, 0, 0, 0, 0], [1, 1, 1, 1, 1, 1], [2, 2, 2, 2, 2, 2], [3, 3, 3, 3, 3, 3]], [[0, 0, 0, 0, 0, 0], [2, 2, 2, 2, 2, 2], [4, 4, 4, 4, 4, 4], [6, 6, 6, 6, 6, 6]]]\n"
     ]
    }
   ],
   "source": [
    "#Output:- \n",
    "# [\n",
    "#     [[0,0,0,0,0,0],[0,0,0,0,0,0],[0,0,0,0,0,0],[0,0,0,0,0,0]],\n",
    "#     [[0,0,0,0,0,0],[1,1,1,1,1,1],[2,2,2,2,2,2],[3,3,3,3,3,3]],\n",
    "#     [[0,0,0,0,0,0],[2,2,2,2,2,2],[4,4,4,4,4,4],[6,6,6,6,6,6]]\n",
    "# ]\n",
    "\n",
    "def three_d_matrix(matrix):\n",
    "    matrix = [[[col*row for i in range(6)]  for col in range(4)] for row in range(3)]\n",
    "    return matrix\n",
    "\n",
    "matrix = []\n",
    "print (three_d_matrix(matrix))"
   ]
  },
  {
   "cell_type": "markdown",
   "id": "e989e112",
   "metadata": {},
   "source": [
    "#### Q 15. Write a Python program which takes a list of numbers as input and prints a new list after removing even numbers from it."
   ]
  },
  {
   "cell_type": "code",
   "execution_count": 15,
   "id": "6ac806f7",
   "metadata": {},
   "outputs": [
    {
     "name": "stdout",
     "output_type": "stream",
     "text": [
      "[21, 87, 45, 33, 1]\n"
     ]
    }
   ],
   "source": [
    "#Input:- [10,21,22,98,87,45,33,1,2,100]\n",
    "#Output:- [21,87,45,33,1]\n",
    "\n",
    "def NewList(my_list):\n",
    "    NewList = []\n",
    "    for num in (my_list):\n",
    "        if num%2 !=0:\n",
    "            NewList.append(num)\n",
    "    return NewList\n",
    "\n",
    "my_list = [10,21,22,98,87,45,33,1,2,100]         \n",
    "print(NewList(my_list))"
   ]
  }
 ],
 "metadata": {
  "kernelspec": {
   "display_name": "Python 3 (ipykernel)",
   "language": "python",
   "name": "python3"
  },
  "language_info": {
   "codemirror_mode": {
    "name": "ipython",
    "version": 3
   },
   "file_extension": ".py",
   "mimetype": "text/x-python",
   "name": "python",
   "nbconvert_exporter": "python",
   "pygments_lexer": "ipython3",
   "version": "3.9.12"
  }
 },
 "nbformat": 4,
 "nbformat_minor": 5
}
