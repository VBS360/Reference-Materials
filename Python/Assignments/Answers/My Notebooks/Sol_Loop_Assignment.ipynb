{
 "cells": [
  {
   "cell_type": "markdown",
   "id": "27ff596a",
   "metadata": {},
   "source": [
    "#### Q 1. W. A P. which takes one number from 0 to 9 from the user and prints it in the word. And if the word is not from 0 to 9 then it should print that number is outside of the range and program should exit."
   ]
  },
  {
   "cell_type": "code",
   "execution_count": 1,
   "id": "7877265a",
   "metadata": {},
   "outputs": [
    {
     "name": "stdout",
     "output_type": "stream",
     "text": [
      "Enter a number from 0 to 9.\n",
      "8\n",
      "Eight\n"
     ]
    }
   ],
   "source": [
    "my_num = eval(input('Enter a number from 0 to 9.\\n'))\n",
    "if my_num == 0:\n",
    "        print('Zero')\n",
    "elif my_num == 0:\n",
    "    print('Zero')\n",
    "elif my_num == 1:\n",
    "    print('One')\n",
    "elif my_num == 2:\n",
    "    print('Two')\n",
    "elif my_num == 3:\n",
    "    print('Three')\n",
    "elif my_num == 4:\n",
    "    print('Four')\n",
    "elif my_num == 5:\n",
    "    print('Five')\n",
    "elif my_num == 6:\n",
    "    print('Six')\n",
    "elif my_num == 7:\n",
    "    print('Seven')\n",
    "elif my_num == 8:\n",
    "    print('Eight')\n",
    "elif my_num == 9:\n",
    "    print('Nine')\n",
    "elif type(my_num) != int:\n",
    "    print('Enter valid number.')    \n",
    "else:\n",
    "    print('Number is outside of the range')"
   ]
  },
  {
   "cell_type": "markdown",
   "id": "56b9440c",
   "metadata": {},
   "source": [
    "#### Q 2. W. A P. to implement calculator but the operation to be done"
   ]
  },
  {
   "cell_type": "code",
   "execution_count": 2,
   "id": "8654e9f0",
   "metadata": {},
   "outputs": [],
   "source": [
    "# two numbers will be taken as input from user:-\n",
    "# Operation console should show below:-\n",
    "# Please select any one operation from below:-\n",
    "# * To add enter 1\n",
    "# * to subtract enter 2\n",
    "# * To multiply enter 3\n",
    "# * To divide enter 4\n",
    "# * To divide and find quotient enter 5\n",
    "# * To divide and find remainder enter 6\n",
    "# * To divide and find num1 to the power of num2 enter 7\n",
    "# * To Come out of the program enter 8"
   ]
  },
  {
   "cell_type": "code",
   "execution_count": 3,
   "id": "7db8c285",
   "metadata": {},
   "outputs": [
    {
     "name": "stdout",
     "output_type": "stream",
     "text": [
      "Enter the first number here : 7\n",
      "Enter the second number here : 25\n",
      "\n",
      "* To add enter 1\n",
      " * to subtract enter 2\n",
      " * To multiply enter 3\n",
      " * To divide enter 4\n",
      " * To divide and find quotient enter 5\n",
      " * To divide and find remainder enter 6\n",
      " * To divide and find num1 to the power of num2 enter 7\n",
      " * To Come out of the program enter 8\n",
      " \n",
      "Enter the operation you want to perform : 3\n",
      "The multiplication of 7 and 25 is : 175\n"
     ]
    }
   ],
   "source": [
    "my_num_1 = eval(input('Enter the first number here : '))\n",
    "my_num_2 = eval(input('Enter the second number here : '))\n",
    "\n",
    "print('''\n",
    "* To add enter 1\n",
    " * to subtract enter 2\n",
    " * To multiply enter 3\n",
    " * To divide enter 4\n",
    " * To divide and find quotient enter 5\n",
    " * To divide and find remainder enter 6\n",
    " * To divide and find num1 to the power of num2 enter 7\n",
    " * To Come out of the program enter 8\n",
    " ''')\n",
    "\n",
    "Operation = eval(input('Enter the operation you want to perform : '))\n",
    "\n",
    "summation = my_num_1 + my_num_2\n",
    "substraction = my_num_1 + my_num_2\n",
    "multiplication = my_num_1 * my_num_2\n",
    "division = my_num_1/my_num_2\n",
    "quotient = my_num_1//my_num_2\n",
    "remainder = my_num_1 % my_num_2\n",
    "power = my_num_1 ** my_num_2\n",
    "\n",
    "if Operation == 1:\n",
    "    print(f'The addition of {my_num_1} and {my_num_2} is : {summation}' )\n",
    "elif Operation == 2:\n",
    "    print(f'The substraction of {my_num_1} and {my_num_2} is : {substraction}' )\n",
    "elif Operation == 3:\n",
    "    print(f'The multiplication of {my_num_1} and {my_num_2} is : {multiplication}' )\n",
    "elif Operation == 4:\n",
    "    print(f'The division of {my_num_1} and {my_num_2} is : {division}' )\n",
    "elif Operation == 5:\n",
    "    print(f'The quotient of {my_num_1} and {my_num_2} is : {quotient} ')\n",
    "elif Operation == 6:\n",
    "    print(f'The remainder of {my_num_1} to {my_num_2} is :  {remainder}' )\n",
    "elif Operation == 7:\n",
    "    print(f'The power of {my_num_1} to {my_num_2} is :  {power}' )\n",
    "elif Operation == 8:\n",
    "    pass\n",
    "elif type(Operation) != int:\n",
    "    print('Enter valid number.')\n",
    "else:\n",
    "    print('Enter valid number from range 0 to 8.')"
   ]
  },
  {
   "cell_type": "markdown",
   "id": "5304bf59",
   "metadata": {},
   "source": [
    "#### Q 3. W A P to check whether a year entered by user is an leap year or not ?"
   ]
  },
  {
   "cell_type": "code",
   "execution_count": 4,
   "id": "2ca7b9c1",
   "metadata": {},
   "outputs": [],
   "source": [
    "# Check with below input:-\n",
    "# leap year:- 2012 , 1968 , 2004 , 1200 , 1600 , 2400\n",
    "# Non-lear year:- 1971 , 2006 , 1700 , 1800 , 1900"
   ]
  },
  {
   "cell_type": "code",
   "execution_count": 5,
   "id": "54e7d334",
   "metadata": {},
   "outputs": [
    {
     "name": "stdout",
     "output_type": "stream",
     "text": [
      "Enter a year here : 2006\n",
      "2006 is not a leap year.\n"
     ]
    }
   ],
   "source": [
    "def Leap(year):\n",
    "    IsLeapYear = True\n",
    "    if (year%4 == 0 and year%100 != 0) or (year%400 == 0) :\n",
    "        return IsLeapYear\n",
    "    else :\n",
    "        return not IsLeapYear\n",
    "        \n",
    "year = eval(input('Enter a year here : '))\n",
    "if Leap(year):\n",
    "    print(f'{year} is a leap year.')\n",
    "else:\n",
    "    print(f'{year} is not a leap year.')"
   ]
  },
  {
   "cell_type": "markdown",
   "id": "2ef2a629",
   "metadata": {},
   "source": [
    "#### Q 4. Q. W A P which takes one number from the user and checks whether it is an even or odd number?"
   ]
  },
  {
   "cell_type": "code",
   "execution_count": 6,
   "id": "aa1d2eca",
   "metadata": {},
   "outputs": [],
   "source": [
    "# If it even then prints number is even number else prints that number is odd number."
   ]
  },
  {
   "cell_type": "code",
   "execution_count": 7,
   "id": "6f5e3dc9",
   "metadata": {},
   "outputs": [
    {
     "name": "stdout",
     "output_type": "stream",
     "text": [
      "enter your input here : 2559\n",
      "2559 is odd\n"
     ]
    }
   ],
   "source": [
    "def Isnum(num):\n",
    "    Isnum = True\n",
    "    if num % 2 == 0:\n",
    "        return Isnum\n",
    "    else:\n",
    "        return not Isnum\n",
    "\n",
    "num = int(input('enter your input here : '))\n",
    "if Isnum(num):\n",
    "    print(f'{num} is Even')\n",
    "else:\n",
    "    print(f'{num} is odd')"
   ]
  },
  {
   "cell_type": "markdown",
   "id": "175a70ac",
   "metadata": {},
   "source": [
    "#### Q 5. Q. W A P which takes two numbers from the user and prints below output:-"
   ]
  },
  {
   "cell_type": "code",
   "execution_count": 8,
   "id": "3683d7a7",
   "metadata": {},
   "outputs": [],
   "source": [
    "# 1 . num1 is greater than num2 if num1 is greater than num2\n",
    "# 2 . num1 is smaller than num2 if num1 is smaller than num2\n",
    "# 3 . num1 is equal to num2 if num1 and num2 are equal\n",
    "# Note:- 1 . Do this problem using if - else\n",
    "# 2 . Do this using ternary operator"
   ]
  },
  {
   "cell_type": "code",
   "execution_count": 9,
   "id": "b11b3e6e",
   "metadata": {},
   "outputs": [
    {
     "name": "stdout",
     "output_type": "stream",
     "text": [
      "Enter the first number here : 2569\n",
      "Enter the second number here : 5456\n",
      "2569 is smaller than 5456.\n"
     ]
    }
   ],
   "source": [
    "num1 = eval(input('Enter the first number here : '))\n",
    "num2 = eval(input('Enter the second number here : '))\n",
    "\n",
    "if num1 > num2:\n",
    "    print(f'{num1} is greater than {num2}.')\n",
    "elif num1 < num2:\n",
    "    print(f'{num1} is smaller than {num2}.')\n",
    "else:\n",
    "    print(f'{num1} is equal to {num2}.')"
   ]
  },
  {
   "cell_type": "markdown",
   "id": "48c82620",
   "metadata": {},
   "source": [
    "#### Q 6. Q. W A P which takes three numbers from the user and prints below output:-"
   ]
  },
  {
   "cell_type": "code",
   "execution_count": 10,
   "id": "5c504912",
   "metadata": {},
   "outputs": [],
   "source": [
    "# 1 . num1 is greater than num2 and num3 if num1 is greater than num2 and num3\n",
    "# 2 . num2 is greater than num1 and num3 if num2 is greater than num1 and num3\n",
    "# 3 . num3 is greater than num1 and num2 if num3 is greater than num1 and num2\n",
    "# Note:- 1 . Do this problem using if - elif - else\n",
    "# 2 . Do this using ternary operator a = a if a>b else b"
   ]
  },
  {
   "cell_type": "code",
   "execution_count": 11,
   "id": "7891e767",
   "metadata": {},
   "outputs": [
    {
     "name": "stdout",
     "output_type": "stream",
     "text": [
      "Enter the first number here : 152\n",
      "Enter the second number here : 2635\n",
      "Enter the third number here : 87\n",
      "152 is greater than 2635 and 87.\n"
     ]
    }
   ],
   "source": [
    "num1 = eval(input('Enter the first number here : '))\n",
    "num2 = eval(input('Enter the second number here : '))\n",
    "num3 = eval(input('Enter the third number here : '))\n",
    "\n",
    "if num1 > (num2 and num3):\n",
    "    print(f'{num1} is greater than {num2} and {num3}.')\n",
    "elif num2 > (num1 and num3):\n",
    "    print(f'{num2} is greater than {num1} and {num3}.')\n",
    "else:\n",
    "    print(f'{num3} is greater than {num1} and {num2}.')"
   ]
  },
  {
   "cell_type": "markdown",
   "id": "d84d908e",
   "metadata": {},
   "source": [
    "#### Q 7. Write a Python program to find the length of the my_str using loop:-"
   ]
  },
  {
   "cell_type": "code",
   "execution_count": 12,
   "id": "4c949c15",
   "metadata": {},
   "outputs": [
    {
     "name": "stdout",
     "output_type": "stream",
     "text": [
      "55\n"
     ]
    }
   ],
   "source": [
    "# Input:- 'Write a Python program to find the length of the my_str'\n",
    "# Output:- 55\n",
    "\n",
    "def length(my_str):\n",
    "    length = 0\n",
    "    for i in my_str:\n",
    "        length += 1\n",
    "    return length\n",
    "\n",
    "my_str = 'Write a Python program to find the length of the my_str'\n",
    "print(length(my_str))"
   ]
  },
  {
   "cell_type": "markdown",
   "id": "42fdec93",
   "metadata": {},
   "source": [
    "#### Q 8. Write a Python program to find the total number of times letter 'p' is appeared in the below string using loop:-"
   ]
  },
  {
   "cell_type": "code",
   "execution_count": 13,
   "id": "708c0fad",
   "metadata": {},
   "outputs": [
    {
     "name": "stdout",
     "output_type": "stream",
     "text": [
      "9\n"
     ]
    }
   ],
   "source": [
    "# Input:- 'peter piper picked a peck of pickled peppers.\\n'\n",
    "# Output:- 9\n",
    "\n",
    "def occur(my_str):\n",
    "    occur = 0\n",
    "    for i in my_str:\n",
    "        if i == 'p':\n",
    "            occur +=1\n",
    "    return occur\n",
    "\n",
    "my_str = 'peter piper picked a peck of pickled peppers.\\n'\n",
    "print(occur(my_str))"
   ]
  },
  {
   "cell_type": "markdown",
   "id": "8d432a49",
   "metadata": {},
   "source": [
    "#### Q 9. Write a Python Program, to print all the indexes of all occurences of letter 'p' appeared in the string using loop:-"
   ]
  },
  {
   "cell_type": "code",
   "execution_count": 14,
   "id": "c9170e1f",
   "metadata": {},
   "outputs": [],
   "source": [
    "# Input:- 'peter piper picked a peck of pickled peppers.'\n",
    "# Output:-\n",
    "# 0\n",
    "# 6\n",
    "# 8\n",
    "# 12\n",
    "# 21\n",
    "# 29\n",
    "# 37\n",
    "# 39\n",
    "# 40"
   ]
  },
  {
   "cell_type": "code",
   "execution_count": 15,
   "id": "2a307544",
   "metadata": {},
   "outputs": [
    {
     "name": "stdout",
     "output_type": "stream",
     "text": [
      "0\n",
      "6\n",
      "8\n",
      "12\n",
      "21\n",
      "29\n",
      "37\n",
      "39\n",
      "40\n"
     ]
    }
   ],
   "source": [
    "my_str = 'peter piper picked a peck of pickled peppers.'\n",
    "\n",
    "for p in range(len(my_str)):\n",
    "    if(my_str[p] == 'p' ):\n",
    "        print(p)"
   ]
  },
  {
   "cell_type": "markdown",
   "id": "aca9395e",
   "metadata": {},
   "source": [
    "#### Q 10. Write a python program to find below output using loop:-"
   ]
  },
  {
   "cell_type": "code",
   "execution_count": 16,
   "id": "24d4ce08",
   "metadata": {},
   "outputs": [
    {
     "name": "stdout",
     "output_type": "stream",
     "text": [
      "['peter', 'piper', 'picked', 'a', 'peck', 'of', 'pickled', 'peppers.']\n"
     ]
    }
   ],
   "source": [
    "# Input:- 'peter piper picked a peck of pickled peppers.'\n",
    "# Output:- [ 'peter' , 'piper' , 'picked' , 'a' , 'peck' , 'of' , 'pickled' , 'peppers' ]\n",
    "\n",
    "def split_string(string):\n",
    " \n",
    "    list_string = string.split(' ')     \n",
    "    return list_string\n",
    "\n",
    "if __name__ == '__main__':\n",
    "    string = 'peter piper picked a peck of pickled peppers.'\n",
    "     \n",
    "    list_string = split_string(string)\n",
    "    print(list_string)\n",
    "\n",
    "my_str = 'peter piper picked a peck of pickled peppers.'"
   ]
  },
  {
   "cell_type": "markdown",
   "id": "7c509d9e",
   "metadata": {},
   "source": [
    "#### Q 11. Write a python program to find below output using loop:-"
   ]
  },
  {
   "cell_type": "code",
   "execution_count": 17,
   "id": "8cb5bdfe",
   "metadata": {},
   "outputs": [
    {
     "name": "stdout",
     "output_type": "stream",
     "text": [
      "['peter', 'piper', 'picked', 'a', 'peck', 'of', 'pickled', 'peppers.']\n"
     ]
    }
   ],
   "source": [
    "# Input:- 'peter piper picked a peck of pickled peppers.'\n",
    "# Output:- 'peppers pickled of peck a picked piper peter'\n",
    "\n",
    "def split_string(my_string):\n",
    "    list_string = my_string.split(' ')    \n",
    "    return list_string\n",
    "\n",
    "my_string = 'peter piper picked a peck of pickled peppers.' \n",
    "list_string = split_string(my_string)\n",
    "print(list_string)"
   ]
  },
  {
   "cell_type": "markdown",
   "id": "fe9af602",
   "metadata": {},
   "source": [
    "#### Q 12. Write a python program to find below output using loop:-"
   ]
  },
  {
   "cell_type": "code",
   "execution_count": 18,
   "id": "b9a38387",
   "metadata": {},
   "outputs": [
    {
     "name": "stdout",
     "output_type": "stream",
     "text": [
      ".sreppep delkcip fo kcep a dekcip repip retep\n"
     ]
    }
   ],
   "source": [
    "# Input:- 'peter piper picked a peck of pickled peppers.'\n",
    "# Output:- '.sreppep delkcip fo kcep a dekcip repip retep'\n",
    "\n",
    "def reverse(my_string):\n",
    "    for i in my_string:\n",
    "        reverse = my_string[::-1]\n",
    "    return reverse\n",
    "\n",
    "my_string = 'peter piper picked a peck of pickled peppers.'\n",
    "print(reverse(my_string))"
   ]
  },
  {
   "cell_type": "markdown",
   "id": "60df3367",
   "metadata": {},
   "source": [
    "#### Q 13. Write a python program to find below output using loop:-"
   ]
  },
  {
   "cell_type": "code",
   "execution_count": 19,
   "id": "9e2546a0",
   "metadata": {},
   "outputs": [
    {
     "name": "stdout",
     "output_type": "stream",
     "text": [
      "retep repip dekcip a kcep fo delkcip .sreppep\n"
     ]
    }
   ],
   "source": [
    "# Input:- 'peter piper picked a peck of pickled peppers.'\n",
    "# Output:- 'retep repip dekcip a kcep fo delkcip sreppep'\n",
    "\n",
    "def new_str(my_str):\n",
    "    split_my_str = my_str.split()\n",
    "    str = [words[::-1] for words in split_my_str]\n",
    "    new_str = ' '.join(str)\n",
    "    return new_str\n",
    "\n",
    "my_str = 'peter piper picked a peck of pickled peppers.'\n",
    "print(new_str(my_str))"
   ]
  },
  {
   "cell_type": "markdown",
   "id": "d2c7a02f",
   "metadata": {},
   "source": [
    "#### Q 14. Write a python program to find below output using loop:-"
   ]
  },
  {
   "cell_type": "code",
   "execution_count": 20,
   "id": "e9581662",
   "metadata": {},
   "outputs": [
    {
     "name": "stdout",
     "output_type": "stream",
     "text": [
      "Peter Piper Picked A Peck Of Pickled Peppers.\n"
     ]
    }
   ],
   "source": [
    "# Input:- 'peter piper picked a peck of pickled peppers.'\n",
    "# Output:- 'Peter Piper Picked A Peck Of Pickled Peppers.'\n",
    "\n",
    "string = 'peter piper picked a peck of pickled peppers.'\n",
    "\n",
    "for words in string:\n",
    "    title_string = string.title()\n",
    "print(title_string)"
   ]
  },
  {
   "cell_type": "markdown",
   "id": "fbb5d721",
   "metadata": {},
   "source": [
    "#### Q 15. Write a python program to find below output using loop:-"
   ]
  },
  {
   "cell_type": "code",
   "execution_count": 21,
   "id": "1719b72c",
   "metadata": {},
   "outputs": [
    {
     "name": "stdout",
     "output_type": "stream",
     "text": [
      "Peter piper picked a peck of pickled peppers.\n"
     ]
    }
   ],
   "source": [
    "# Input:- 'Peter Piper Picked A Peck Of Pickled Peppers.'\n",
    "# Output:- 'Peter piper picked a peck of pickled peppers.'\n",
    "\n",
    "string = 'peter piper picked a peck of pickled peppers.'\n",
    "\n",
    "for words in string:\n",
    "    capitalize_string = string.capitalize()\n",
    "print(capitalize_string)"
   ]
  },
  {
   "cell_type": "markdown",
   "id": "0efa553a",
   "metadata": {},
   "source": [
    "#### Q 16. Write a python program to implement index method using loop. If sub_str is found in my_str then it will print the index of first occurrence of first character of matching string in my_str:-"
   ]
  },
  {
   "cell_type": "code",
   "execution_count": 22,
   "id": "5df86fb6",
   "metadata": {},
   "outputs": [
    {
     "name": "stdout",
     "output_type": "stream",
     "text": [
      "29\n"
     ]
    }
   ],
   "source": [
    "# Input:- my_str = 'Peter Piper Picked A Peck Of Pickled Peppers.' ,\n",
    "# sub_str = 'Pickl'\n",
    "# Output:- 29\n",
    "\n",
    "my_str = 'Peter Piper Picked A Peck Of Pickled Peppers.'\n",
    "\n",
    "for words in string:\n",
    "    find_string = my_str.find('Pickl')\n",
    "print(find_string)"
   ]
  },
  {
   "cell_type": "markdown",
   "id": "2ce6a2c7",
   "metadata": {},
   "source": [
    "#### Q 17. Write a python program to implement replace method using loop. If sub_str is found in my_str then it will replace the first occurrence of sub_str with new_str else it will will print sub_str not found:-"
   ]
  },
  {
   "cell_type": "code",
   "execution_count": 23,
   "id": "1d3582ef",
   "metadata": {},
   "outputs": [
    {
     "name": "stdout",
     "output_type": "stream",
     "text": [
      "Peter Piper Picked A Pack Of Pickled Peppers.\n"
     ]
    }
   ],
   "source": [
    "# Input:- my_str = 'Peter Piper Picked A Peck Of Pickled Peppers.' ,\n",
    "# sub_str = 'Peck' , new_str = 'Pack'\n",
    "# Output:- 'Peter Piper Picked A Pack Of Pickled Peppers.'\n",
    "\n",
    "my_str = 'Peter Piper Picked A Peck Of Pickled Peppers.'\n",
    "\n",
    "for words in string:\n",
    "    replace_string = my_str.replace('Peck','Pack')\n",
    "print(replace_string)"
   ]
  },
  {
   "cell_type": "markdown",
   "id": "7974c674",
   "metadata": {},
   "source": [
    "#### Q 18. Write a python program to find below output (implements rjust and ljust) using loop:-"
   ]
  },
  {
   "cell_type": "code",
   "execution_count": 24,
   "id": "939edca5",
   "metadata": {},
   "outputs": [
    {
     "name": "stdout",
     "output_type": "stream",
     "text": [
      "*********************Peck********************\n"
     ]
    }
   ],
   "source": [
    "# Input:- 'Peter Piper Picked A Peck Of Pickled Peppers.' , sub_str = 'Peck' ,\n",
    "# Output:- '*********************Peck********************'\n",
    "\n",
    "my_str = 'Peter Piper Picked A Peck Of Pickled Peppers.'\n",
    "for words in string:\n",
    "    rep_words = my_str[21:25].center(45,'*')\n",
    "print(rep_words)"
   ]
  },
  {
   "cell_type": "markdown",
   "id": "e5edd4cd",
   "metadata": {},
   "source": [
    "#### Q 19. Write a python program to find below output using loop:-"
   ]
  },
  {
   "cell_type": "code",
   "execution_count": 25,
   "id": "594fd6fe",
   "metadata": {},
   "outputs": [
    {
     "name": "stdout",
     "output_type": "stream",
     "text": [
      "['This', 'is', 'Python', 'class']\n"
     ]
    }
   ],
   "source": [
    "# Input:- 'This is Python class' , sep = ' is' ,\n",
    "# Output:- [ 'This' , 'is' , 'Python class' ]\n",
    "\n",
    "def split_string(my_string):\n",
    "    for words in my_string:\n",
    "        split_string = my_string.split(' ')    \n",
    "    return split_string\n",
    "\n",
    "my_string = 'This is Python class'\n",
    "print(split_string(my_string))"
   ]
  }
 ],
 "metadata": {
  "kernelspec": {
   "display_name": "Python 3 (ipykernel)",
   "language": "python",
   "name": "python3"
  },
  "language_info": {
   "codemirror_mode": {
    "name": "ipython",
    "version": 3
   },
   "file_extension": ".py",
   "mimetype": "text/x-python",
   "name": "python",
   "nbconvert_exporter": "python",
   "pygments_lexer": "ipython3",
   "version": "3.9.12"
  }
 },
 "nbformat": 4,
 "nbformat_minor": 5
}
