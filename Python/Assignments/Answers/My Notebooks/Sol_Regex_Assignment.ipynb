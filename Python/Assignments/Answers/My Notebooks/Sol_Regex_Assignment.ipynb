{
 "cells": [
  {
   "cell_type": "markdown",
   "id": "565e717f",
   "metadata": {},
   "source": [
    "#### Q 1. Write the regular expression and use proper method which gives output as:- 'cat' in str."
   ]
  },
  {
   "cell_type": "code",
   "execution_count": 1,
   "id": "d32a7dfe",
   "metadata": {},
   "outputs": [
    {
     "name": "stdout",
     "output_type": "stream",
     "text": [
      "['cat']\n"
     ]
    }
   ],
   "source": [
    "import re\n",
    "str = 'cat mat bat rat'\n",
    "array = re.findall(\"cat\", str)\n",
    "print(array) "
   ]
  },
  {
   "cell_type": "markdown",
   "id": "e651729a",
   "metadata": {},
   "source": [
    "#### Q 2. Write the regular expression and use proper method which gives output as:- 'rat' in str."
   ]
  },
  {
   "cell_type": "code",
   "execution_count": 2,
   "id": "9946bb69",
   "metadata": {},
   "outputs": [
    {
     "name": "stdout",
     "output_type": "stream",
     "text": [
      "['rat']\n"
     ]
    }
   ],
   "source": [
    "import re\n",
    "str = 'cat mat bat rat'\n",
    "array = re.findall(\"rat\", str)\n",
    "print(array)"
   ]
  },
  {
   "cell_type": "markdown",
   "id": "23380541",
   "metadata": {},
   "source": [
    "#### Q 3. Write the regular expression and use proper method which gives output as:- ['mat', 'man'] in str."
   ]
  },
  {
   "cell_type": "code",
   "execution_count": 3,
   "id": "6a0d93f9",
   "metadata": {},
   "outputs": [
    {
     "name": "stdout",
     "output_type": "stream",
     "text": [
      "['mat'] ['man']\n"
     ]
    }
   ],
   "source": [
    "import re\n",
    "str = 'cat mat bat rat man'\n",
    "array_1 = re.findall(\"mat\", str)\n",
    "array_2 = re.findall(\"man\", str)\n",
    "print(array_1,array_2) "
   ]
  },
  {
   "cell_type": "markdown",
   "id": "72315431",
   "metadata": {},
   "source": [
    "#### Q 4. Write the regular expression and use proper method which gives output as:- "
   ]
  },
  {
   "cell_type": "code",
   "execution_count": 4,
   "id": "259e7a33",
   "metadata": {},
   "outputs": [
    {
     "name": "stdout",
     "output_type": "stream",
     "text": [
      "[\"Python's\", 'Programming:', 'is', 'very', 'easy', 'to', 'learn']\n"
     ]
    }
   ],
   "source": [
    "import re\n",
    "str = \"Python's Programming: is very easy to learn\"\n",
    "array = re.split(\" \",str)\n",
    "print(array)"
   ]
  },
  {
   "cell_type": "markdown",
   "id": "6b3ae5e8",
   "metadata": {},
   "source": [
    "#### Q 5. Write the regular expression and use proper method which gives output as:- Python Programming: is very easy to learn in str."
   ]
  },
  {
   "cell_type": "code",
   "execution_count": 5,
   "id": "02422a3b",
   "metadata": {},
   "outputs": [
    {
     "name": "stdout",
     "output_type": "stream",
     "text": [
      "Python Programming: is very easy to learn\n"
     ]
    }
   ],
   "source": [
    "import re\n",
    "str = \"Python's Programming: is very easy to learn\"\n",
    "array = re.sub(\"Python's\", 'Python',str)\n",
    "print(array)"
   ]
  },
  {
   "cell_type": "markdown",
   "id": "b02dca77",
   "metadata": {},
   "source": [
    "#### Q 6. Write the regular expression and use proper method which Retrieves all words starting with p."
   ]
  },
  {
   "cell_type": "code",
   "execution_count": 6,
   "id": "2d45c018",
   "metadata": {},
   "outputs": [
    {
     "name": "stdout",
     "output_type": "stream",
     "text": [
      "['peter', 'per', 'picked', 'peck', 'pickled', 'peppers']\n"
     ]
    }
   ],
   "source": [
    "import re\n",
    "str = \"peter giper picked a peck of pickled peppers\"\n",
    "array = re.findall(r'[p]\\w+', str)\n",
    "print(array)"
   ]
  },
  {
   "cell_type": "markdown",
   "id": "6d798862",
   "metadata": {},
   "source": [
    "#### Q 7. Write the regular expression and use proper method which Retrieves all words starting with p except 'per' which is not a separate word."
   ]
  },
  {
   "cell_type": "code",
   "execution_count": 7,
   "id": "28150849",
   "metadata": {},
   "outputs": [
    {
     "name": "stdout",
     "output_type": "stream",
     "text": [
      "['peter', 'picked', 'peck', 'pickled', 'peppers']\n"
     ]
    }
   ],
   "source": [
    "#Output:- ['peter', 'picked', 'peck', 'pickled', 'peppers']\n",
    "import re\n",
    "str = \"peter giper picked a peck of pickled peppers\"\n",
    "array = re.findall(r'p\\w\\w\\w+', str)\n",
    "print(array)"
   ]
  },
  {
   "cell_type": "markdown",
   "id": "dde9f073",
   "metadata": {},
   "source": [
    "#### Q 8. Write the regular expression and use proper method which Retrieves all words starting with a digit."
   ]
  },
  {
   "cell_type": "code",
   "execution_count": 8,
   "id": "d5dfdb5f",
   "metadata": {},
   "outputs": [
    {
     "name": "stdout",
     "output_type": "stream",
     "text": [
      "['8th', '11th']\n"
     ]
    }
   ],
   "source": [
    "#Output:- ['8th', '11th']\n",
    "import re\n",
    "str = 'The election in delhi will be held on 8th and result for the same will be declared on 11th'\n",
    "array = re.findall(\"\\d+\\w\\w\", str)\n",
    "print(array)"
   ]
  },
  {
   "cell_type": "markdown",
   "id": "7ed0c8b6",
   "metadata": {},
   "source": [
    "#### Q 9. Write the regular expression and use proper method which Retrieves all words having 5 characters."
   ]
  },
  {
   "cell_type": "code",
   "execution_count": 9,
   "id": "2a0a2337",
   "metadata": {},
   "outputs": [
    {
     "name": "stdout",
     "output_type": "stream",
     "text": [
      "['peter', 'giper']\n"
     ]
    }
   ],
   "source": [
    "#Output:- ['peter', 'giper']\n",
    "import re\n",
    "str = \"peter giper picked a peck of pickled peppers\"\n",
    "array = re.findall(r'\\w+er\\b',str)\n",
    "print(array)"
   ]
  },
  {
   "cell_type": "markdown",
   "id": "c5ffeed9",
   "metadata": {},
   "source": [
    "#### Q 10. Write the regular expression and use proper method which Retrieves all words having at least 4 characters."
   ]
  },
  {
   "cell_type": "code",
   "execution_count": 10,
   "id": "815b6ee8",
   "metadata": {},
   "outputs": [
    {
     "name": "stdout",
     "output_type": "stream",
     "text": [
      "['Retrieving', 'words', 'having', 'least', 'characters']\n"
     ]
    }
   ],
   "source": [
    "#Output:- ['Retrieving',  'words', 'having', 'least', 'characters']\n",
    "import re\n",
    "str = \"Retrieving all words having at least 4 characters\"\n",
    "array = re.findall(r'\\w\\w\\w\\w+',str)\n",
    "print(array)"
   ]
  },
  {
   "cell_type": "markdown",
   "id": "916325b1",
   "metadata": {},
   "source": [
    "#### Q 11. Write the regular expression and use proper method which Retrieves all words having at characters between 3 to 5 words."
   ]
  },
  {
   "cell_type": "code",
   "execution_count": 11,
   "id": "a7047e46",
   "metadata": {},
   "outputs": [
    {
     "name": "stdout",
     "output_type": "stream",
     "text": [
      "['all', 'words', 'least']\n"
     ]
    }
   ],
   "source": [
    "#Output:- ['all', 'words', 'least']\n",
    "import re\n",
    "str = \"Retrieving all words having at least 4 characters\"\n",
    "array = re.findall(r'\\b\\w{3,5}\\b',str)\n",
    "print(array)"
   ]
  },
  {
   "cell_type": "markdown",
   "id": "945da72a",
   "metadata": {},
   "source": [
    "#### Q 12. Write the regular expression and use proper method which Retrieves only digits from the string."
   ]
  },
  {
   "cell_type": "code",
   "execution_count": 12,
   "id": "bc55110b",
   "metadata": {},
   "outputs": [
    {
     "name": "stdout",
     "output_type": "stream",
     "text": [
      "['8', '11']\n"
     ]
    }
   ],
   "source": [
    "#Output:- ['8', '11']\n",
    "import re\n",
    "str = 'The election in delhi will be held on 8 and result for the same will be declared on 11'\n",
    "array = re.findall(r\"\\d+\", str)\n",
    "print(array)"
   ]
  },
  {
   "cell_type": "markdown",
   "id": "aa390a22",
   "metadata": {},
   "source": [
    "#### Q 13. Write the regular expression and use proper method which Retrieves last word if starts with c from the given string."
   ]
  },
  {
   "cell_type": "code",
   "execution_count": 13,
   "id": "d45d7215",
   "metadata": {},
   "outputs": [
    {
     "name": "stdout",
     "output_type": "stream",
     "text": [
      "['characters']\n"
     ]
    }
   ],
   "source": [
    "#Output:- ['characters']\n",
    "import re\n",
    "str = \"Retrieving all words having at least 4 characters\"\n",
    "array = re.findall(r\"c\\w+\", str)\n",
    "print(array)"
   ]
  },
  {
   "cell_type": "markdown",
   "id": "05e96a7e",
   "metadata": {},
   "source": [
    "#### Q 14. Write the regular expression and use proper method which Retrieves a phone number from the given string."
   ]
  },
  {
   "cell_type": "code",
   "execution_count": 14,
   "id": "b1ba6591",
   "metadata": {},
   "outputs": [
    {
     "name": "stdout",
     "output_type": "stream",
     "text": [
      "['1234567890']\n"
     ]
    }
   ],
   "source": [
    "#Output:- 1234567890\n",
    "import re\n",
    "str = \"Learnbay : 1234567890\"\n",
    "array = re.findall(r\"\\d+\", str)\n",
    "print(array)"
   ]
  },
  {
   "cell_type": "markdown",
   "id": "5dbf71bb",
   "metadata": {},
   "source": [
    "#### Q 15. Write the regular expression and use proper method which Etracts name from the string but not number."
   ]
  },
  {
   "cell_type": "code",
   "execution_count": 15,
   "id": "30263567",
   "metadata": {},
   "outputs": [
    {
     "name": "stdout",
     "output_type": "stream",
     "text": [
      "['Learnbay : ']\n"
     ]
    }
   ],
   "source": [
    "#Output:- Learnbay : \n",
    "import re\n",
    "str = \"Learnbay : 1234567890\"\n",
    "array = re.findall(r\"\\D+\", str)\n",
    "print(array)"
   ]
  },
  {
   "cell_type": "markdown",
   "id": "699480d6",
   "metadata": {},
   "source": [
    "#### Q 16. Write the regular expression and use proper method which Retrieves name starting with 'an' or 'ak'."
   ]
  },
  {
   "cell_type": "code",
   "execution_count": 16,
   "id": "f32e43a4",
   "metadata": {},
   "outputs": [
    {
     "name": "stdout",
     "output_type": "stream",
     "text": [
      "['anil', 'akhil', 'anant', 'ankur']\n"
     ]
    }
   ],
   "source": [
    "#Output:- ['anil', 'akhil', 'anant', 'ankur']\n",
    "import re\n",
    "str = 'anil akhil anant abhi arun arati arundhati abhijit ankur'\n",
    "array = re.findall(r\"an\\w+|ak\\w+|\\wok\", str)\n",
    "print(array)"
   ]
  }
 ],
 "metadata": {
  "kernelspec": {
   "display_name": "Python 3 (ipykernel)",
   "language": "python",
   "name": "python3"
  },
  "language_info": {
   "codemirror_mode": {
    "name": "ipython",
    "version": 3
   },
   "file_extension": ".py",
   "mimetype": "text/x-python",
   "name": "python",
   "nbconvert_exporter": "python",
   "pygments_lexer": "ipython3",
   "version": "3.9.12"
  }
 },
 "nbformat": 4,
 "nbformat_minor": 5
}
