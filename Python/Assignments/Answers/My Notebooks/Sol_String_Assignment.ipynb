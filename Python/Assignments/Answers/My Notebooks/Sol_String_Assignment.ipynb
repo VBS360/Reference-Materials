{
 "cells": [
  {
   "cell_type": "markdown",
   "id": "e892264f",
   "metadata": {},
   "source": [
    "# <center>String Assignment"
   ]
  },
  {
   "cell_type": "markdown",
   "id": "c6ad1229",
   "metadata": {},
   "source": [
    "#### Q 1. perfrom the following operations:-"
   ]
  },
  {
   "cell_type": "code",
   "execution_count": 1,
   "id": "cb7748f6",
   "metadata": {},
   "outputs": [
    {
     "name": "stdout",
     "output_type": "stream",
     "text": [
      "<class 'str'> 2497054419504\n"
     ]
    }
   ],
   "source": [
    " #Declare a string and store it in a variable.\n",
    "a = \"This is a testing code\"\n",
    "\n",
    "#Check the type and print the id of the same.\n",
    "print(type(a),id(a))"
   ]
  },
  {
   "cell_type": "markdown",
   "id": "cd444796",
   "metadata": {},
   "source": [
    "#### Q 2. Check the following:-"
   ]
  },
  {
   "cell_type": "code",
   "execution_count": 2,
   "id": "bf717844",
   "metadata": {},
   "outputs": [
    {
     "name": "stdout",
     "output_type": "stream",
     "text": [
      "This is Python class\n"
     ]
    }
   ],
   "source": [
    "#Which are valid/invalid strings\n",
    "# 1. 'This is Python class'\n",
    "# valid/invalid\n",
    "a = 'This is Python class'\n",
    "print(a)    # Valid"
   ]
  },
  {
   "cell_type": "code",
   "execution_count": 3,
   "id": "1b9f6a7f",
   "metadata": {},
   "outputs": [
    {
     "name": "stdout",
     "output_type": "stream",
     "text": [
      "This is Python class\n"
     ]
    }
   ],
   "source": [
    "# 2. \"This is Python class\"\n",
    "# valid/invalid\n",
    "print(\"This is Python class\")       # Valid"
   ]
  },
  {
   "cell_type": "code",
   "execution_count": 4,
   "id": "49f993ec",
   "metadata": {},
   "outputs": [
    {
     "name": "stdout",
     "output_type": "stream",
     "text": [
      "This is Python class\n"
     ]
    }
   ],
   "source": [
    "# 3. '''This is Python class'''\n",
    "# valid/invalid\n",
    "print('''This is Python class''')   #Valid"
   ]
  },
  {
   "cell_type": "code",
   "execution_count": 5,
   "id": "2eaca1ee",
   "metadata": {},
   "outputs": [
    {
     "name": "stdout",
     "output_type": "stream",
     "text": [
      "This is Python class\n"
     ]
    }
   ],
   "source": [
    "# 4. \"\"\"This is Python class\"\"\"\n",
    "# valid/invalid\n",
    "print(\"\"\"This is Python class\"\"\")  #Valid"
   ]
  },
  {
   "cell_type": "code",
   "execution_count": 82,
   "id": "f2b76272",
   "metadata": {},
   "outputs": [
    {
     "ename": "SyntaxError",
     "evalue": "invalid syntax (3039548063.py, line 4)",
     "output_type": "error",
     "traceback": [
      "\u001b[1;36m  Input \u001b[1;32mIn [82]\u001b[1;36m\u001b[0m\n\u001b[1;33m    print('This is Python's class')\u001b[0m\n\u001b[1;37m                          ^\u001b[0m\n\u001b[1;31mSyntaxError\u001b[0m\u001b[1;31m:\u001b[0m invalid syntax\n"
     ]
    }
   ],
   "source": [
    "# 5. 'This is Python's class'\n",
    "# # valid/invalid\n",
    "\n",
    "print('This is Python's class')   \n",
    "# #Not valid"
   ]
  },
  {
   "cell_type": "code",
   "execution_count": 83,
   "id": "d62b51e8",
   "metadata": {},
   "outputs": [
    {
     "ename": "SyntaxError",
     "evalue": "invalid syntax (3265624871.py, line 3)",
     "output_type": "error",
     "traceback": [
      "\u001b[1;36m  Input \u001b[1;32mIn [83]\u001b[1;36m\u001b[0m\n\u001b[1;33m    print(\"Tutort provides \"Java\", \"Python\" classes\")\u001b[0m\n\u001b[1;37m                            ^\u001b[0m\n\u001b[1;31mSyntaxError\u001b[0m\u001b[1;31m:\u001b[0m invalid syntax\n"
     ]
    }
   ],
   "source": [
    "# 6. \"Tutort provides \"Java\", \"Python\" classes\"\n",
    "# valid/invalid\n",
    "print(\"Tutort provides \"Java\", \"Python\" classes\")\n",
    "#Not valid"
   ]
  },
  {
   "cell_type": "code",
   "execution_count": 8,
   "id": "158d6f4d",
   "metadata": {},
   "outputs": [
    {
     "name": "stdout",
     "output_type": "stream",
     "text": [
      "Tutort provides 'Java', 'Python' classes\n"
     ]
    }
   ],
   "source": [
    "# 7. \"Tutort provides 'Java', 'Python' classes\"\n",
    "# valid/invalid\n",
    "print(\"Tutort provides 'Java', 'Python' classes\")   #Valid"
   ]
  },
  {
   "cell_type": "code",
   "execution_count": 9,
   "id": "98ddd422",
   "metadata": {},
   "outputs": [
    {
     "name": "stdout",
     "output_type": "stream",
     "text": [
      "This is Python's class\n"
     ]
    }
   ],
   "source": [
    "# 8. \"This is Python's class\"\n",
    "# valid/invalid\n",
    "print(\"This is Python's class\")  #Valid"
   ]
  },
  {
   "cell_type": "code",
   "execution_count": 10,
   "id": "1e9558a4",
   "metadata": {},
   "outputs": [
    {
     "name": "stdout",
     "output_type": "stream",
     "text": [
      "Tutort provides \"Java\", \"Python\" classes\n"
     ]
    }
   ],
   "source": [
    "# 9. \"\"\"Tutort provides \"Java\", \"Python\" classes\"\"\"\n",
    "# valid/invalid\n",
    "print(\"\"\"Tutort provides \"Java\", \"Python\" classes\"\"\")  #Valid"
   ]
  },
  {
   "cell_type": "code",
   "execution_count": 11,
   "id": "f8021fe5",
   "metadata": {},
   "outputs": [
    {
     "name": "stdout",
     "output_type": "stream",
     "text": [
      "Tutort provides \"Java\", \"Python\" classes\n"
     ]
    }
   ],
   "source": [
    "# 10. '''Tutort provides \"Java\", \"Python\" classes'''\n",
    "# valid/invalid  \\\n",
    "print('''Tutort provides \"Java\", \"Python\" classes''')  #Valid"
   ]
  },
  {
   "cell_type": "code",
   "execution_count": 12,
   "id": "6195eac8",
   "metadata": {},
   "outputs": [
    {
     "name": "stdout",
     "output_type": "stream",
     "text": [
      "Tutort provides\n",
      " \"Java\", \"Python\" \n",
      " classes\n"
     ]
    }
   ],
   "source": [
    "# 11. '''Tutort provides\n",
    "# \"Java\", \"Python\" \n",
    "# classes'''\n",
    "# valid/invalid\n",
    "\n",
    "print('''Tutort provides\n",
    " \"Java\", \"Python\" \n",
    " classes''')                              #Valid"
   ]
  },
  {
   "cell_type": "code",
   "execution_count": 84,
   "id": "9f346fc5",
   "metadata": {},
   "outputs": [
    {
     "ename": "SyntaxError",
     "evalue": "EOL while scanning string literal (2359576130.py, line 5)",
     "output_type": "error",
     "traceback": [
      "\u001b[1;36m  Input \u001b[1;32mIn [84]\u001b[1;36m\u001b[0m\n\u001b[1;33m    print('This is\u001b[0m\n\u001b[1;37m                  ^\u001b[0m\n\u001b[1;31mSyntaxError\u001b[0m\u001b[1;31m:\u001b[0m EOL while scanning string literal\n"
     ]
    }
   ],
   "source": [
    "# 12. 'This is\n",
    "# Python \n",
    "# class'\n",
    "# valid/invalid\n",
    "print('This is\n",
    " Python \n",
    " class')               \n",
    "#Not Valid"
   ]
  },
  {
   "cell_type": "markdown",
   "id": "e2aa3fe8",
   "metadata": {},
   "source": [
    "#### Q 3. Write the code to get the output mentioned below print statement"
   ]
  },
  {
   "cell_type": "code",
   "execution_count": 14,
   "id": "6ff8cffd",
   "metadata": {},
   "outputs": [
    {
     "name": "stdout",
     "output_type": "stream",
     "text": [
      "The length of my_str is 66\n",
      "id of my_str and my_str1 is same? - True\n",
      "Type of my_str is: <class 'str'>\n"
     ]
    }
   ],
   "source": [
    "my_str = \"Although that way may not be obvious at first unless you're Dutch.\"\n",
    "my_str1 = \"Although that way may not be obvious at first unless you're Dutch.\"\n",
    "\n",
    "print(f\"The length of my_str is {len(my_str)}\")\n",
    "#output:- The length of my_str is 66\n",
    "\n",
    "print(f\"id of my_str and my_str1 is same? - {my_str == my_str1}\")\n",
    "#output:- id of my_str and my_str1 is same? - True\n",
    "\n",
    "print(f\"Type of my_str is: {type(my_str)}\")\n",
    "#output:- Type of my_str is: str"
   ]
  },
  {
   "cell_type": "markdown",
   "id": "621a7769",
   "metadata": {},
   "source": [
    "# <center>Indexing"
   ]
  },
  {
   "cell_type": "markdown",
   "id": "35f8789a",
   "metadata": {},
   "source": [
    "#### Q 4.  Write the code to get the output mentioned below print statement"
   ]
  },
  {
   "cell_type": "code",
   "execution_count": 15,
   "id": "02c26aeb",
   "metadata": {},
   "outputs": [],
   "source": [
    "# my_str = \"Although 8 that way may not be obvious at first unless you're Dutch\"\n",
    "#Write the code to get the output,instructions are mentioned below print statement. use indexing"
   ]
  },
  {
   "cell_type": "code",
   "execution_count": 16,
   "id": "3a993e5d",
   "metadata": {},
   "outputs": [
    {
     "name": "stdout",
     "output_type": "stream",
     "text": [
      "The first character in my_str is: A\n"
     ]
    }
   ],
   "source": [
    "my_str = \"Although 8 that way may not be obvious at first unless you're Dutch\"\n",
    "print(f\"The first character in my_str is: {my_str[0]}\")\n",
    "\n",
    "#output:- The first character in my_str is: A\n",
    "#Note:- Use positive indexing"
   ]
  },
  {
   "cell_type": "code",
   "execution_count": 17,
   "id": "b65edbeb",
   "metadata": {},
   "outputs": [
    {
     "name": "stdout",
     "output_type": "stream",
     "text": [
      "The first character in my_str is: h\n"
     ]
    }
   ],
   "source": [
    "my_str = \"Although 8 that way may not be obvious at first unless you're Dutch\"\n",
    "print(f\"The first character in my_str is: {my_str[len(my_str)-1]}\")\n",
    "\n",
    "#output:- The first character in my_str is: h\n",
    "#Note:- Use len() function."
   ]
  },
  {
   "cell_type": "code",
   "execution_count": 18,
   "id": "fa764786",
   "metadata": {},
   "outputs": [
    {
     "name": "stdout",
     "output_type": "stream",
     "text": [
      "The character at index 10 in my_str is: ' ' \n"
     ]
    }
   ],
   "source": [
    "my_str = \"Although 8 that way may not be obvious at first unless you're Dutch\"\n",
    "print(f\"The character at index 10 in my_str is: '{my_str[10]}' \")\n",
    "\n",
    "#output:- The character at index 10 in my_str is: ' '\n",
    "#Note:- Use positive indexing"
   ]
  },
  {
   "cell_type": "code",
   "execution_count": 19,
   "id": "8b162953",
   "metadata": {},
   "outputs": [
    {
     "name": "stdout",
     "output_type": "stream",
     "text": [
      "The last character in my_str is: h\n"
     ]
    }
   ],
   "source": [
    "my_str = \"Although 8 that way may not be obvious at first unless you're Dutch\"\n",
    "print(f\"The last character in my_str is: {my_str[-1]}\")\n",
    "\n",
    "# output:- The last character in my_str is: h\n",
    "#  Note:- Use negative indexing."
   ]
  },
  {
   "cell_type": "code",
   "execution_count": 20,
   "id": "65d59737",
   "metadata": {},
   "outputs": [
    {
     "name": "stdout",
     "output_type": "stream",
     "text": [
      "The last character in my_str is: h\n"
     ]
    }
   ],
   "source": [
    "my_str = \"Although 8 that way may not be obvious at first unless you're Dutch\"\n",
    "print(f\"The last character in my_str is: {my_str[len(my_str)-1]}\")\n",
    "\n",
    "#output:- The last character in my_str is: h\n",
    "#Note:- Use len() function."
   ]
  },
  {
   "cell_type": "code",
   "execution_count": 21,
   "id": "2279fd1f",
   "metadata": {},
   "outputs": [
    {
     "name": "stdout",
     "output_type": "stream",
     "text": [
      "The character in my_str is: 8\n"
     ]
    }
   ],
   "source": [
    "my_str = \"Although 8 that way may not be obvious at first unless you're Dutch\"\n",
    "print(f\"The character in my_str is: {my_str[9]}\")\n",
    "\n",
    "#output:- The character in my_str is: 8\n",
    "#Note:- Use positive index"
   ]
  },
  {
   "cell_type": "markdown",
   "id": "18c5fc46",
   "metadata": {},
   "source": [
    "# <center>Slicing"
   ]
  },
  {
   "cell_type": "markdown",
   "id": "2ad82e23",
   "metadata": {},
   "source": [
    "#### Q 5. Write the code to get the output,instructions are mentioned below print statement. use slicing"
   ]
  },
  {
   "cell_type": "code",
   "execution_count": 22,
   "id": "4b862f1d",
   "metadata": {},
   "outputs": [
    {
     "name": "stdout",
     "output_type": "stream",
     "text": [
      "You have sliced: Although that way may not be obvious at first unless you're Dutch.\n"
     ]
    }
   ],
   "source": [
    "my_str = \"Although that way may not be obvious at first unless you're Dutch.\"\n",
    "print(\"You have sliced: \" + my_str[::])\n",
    "\n",
    "#output:- You have sliced: Although that way may not be obvious at first unless you're Dutch.Without begin, end and step"
   ]
  },
  {
   "cell_type": "code",
   "execution_count": 23,
   "id": "322981e3",
   "metadata": {},
   "outputs": [
    {
     "name": "stdout",
     "output_type": "stream",
     "text": [
      "You have sliced: Although that way may not be obvious at first unless you're Dutch.\n"
     ]
    }
   ],
   "source": [
    "my_str = \"Although that way may not be obvious at first unless you're Dutch.\"\n",
    "print(\"You have sliced: \" + my_str[0::])\n",
    "\n",
    "#output:- You have sliced: Although that way may not be obvious at first unless you're Dutch.with begin as 0 end using len and without step"
   ]
  },
  {
   "cell_type": "code",
   "execution_count": 24,
   "id": "d703ffb6",
   "metadata": {},
   "outputs": [
    {
     "name": "stdout",
     "output_type": "stream",
     "text": [
      "You have sliced: Although that way may not be obvious at first unless you're Dutch.\n"
     ]
    }
   ],
   "source": [
    "my_str = \"Although that way may not be obvious at first unless you're Dutch.\"\n",
    "print(\"You have sliced: \" + my_str[::1])\n",
    "\n",
    "#output:- You have sliced: Although that way may not be obvious at first unless you're Dutch.without begin and end but using step"
   ]
  },
  {
   "cell_type": "code",
   "execution_count": 25,
   "id": "80c30060",
   "metadata": {},
   "outputs": [
    {
     "name": "stdout",
     "output_type": "stream",
     "text": [
      "You have sliced: Although that way may not be obvious at first unless you're Dutch.\n"
     ]
    }
   ],
   "source": [
    "my_str = \"Although that way may not be obvious at first unless you're Dutch.\"\n",
    "print(\"You have sliced: \" + my_str[0:len(my_str):1])\n",
    "\n",
    "#output:- You have sliced: Although that way may not be obvious at first unless you're Dutch.With begin, end and step"
   ]
  },
  {
   "cell_type": "code",
   "execution_count": 26,
   "id": "58715c9d",
   "metadata": {},
   "outputs": [
    {
     "name": "stdout",
     "output_type": "stream",
     "text": [
      "You have sliced: .\n"
     ]
    }
   ],
   "source": [
    "my_str = \"Although that way may not be obvious at first unless you're Dutch.\"\n",
    "print(\"You have sliced: \" + my_str[len(my_str)-1:len(my_str)-2:-1])\n",
    "\n",
    "#output:- You have sliced:   .with using begin and end using postive values and step as negative values.\n",
    "#Slicing command should print empty string."
   ]
  },
  {
   "cell_type": "code",
   "execution_count": 27,
   "id": "226e5e12",
   "metadata": {},
   "outputs": [
    {
     "name": "stdout",
     "output_type": "stream",
     "text": [
      "You have sliced: Atog htwymyntb biu tfrtuls o'eDth\n"
     ]
    }
   ],
   "source": [
    "my_str = \"Although that way may not be obvious at first unless you're Dutch.\"\n",
    "print(\"You have sliced: \" + my_str[::2])\n",
    "\n",
    "#output:- You have sliced: Atog htwymyntb biu tfrtuls o'eDth"
   ]
  },
  {
   "cell_type": "code",
   "execution_count": 28,
   "id": "6cecd7cc",
   "metadata": {},
   "outputs": [
    {
     "name": "stdout",
     "output_type": "stream",
     "text": [
      "You have sliced: Ahgttam tebo  r lsorDc\n"
     ]
    }
   ],
   "source": [
    "my_str = \"Although that way may not be obvious at first unless you're Dutch.\"\n",
    "print(\"You have sliced: \" + my_str[::3])\n",
    "\n",
    "#output:- You have sliced: Ahgttam tebo  r lsorDc"
   ]
  },
  {
   "cell_type": "code",
   "execution_count": 29,
   "id": "052be83d",
   "metadata": {},
   "outputs": [
    {
     "name": "stdout",
     "output_type": "stream",
     "text": [
      "You have sliced: .hctuD er'uoy sselnu tsrif ta suoivbo eb ton yam yaw taht hguohtlA\n"
     ]
    }
   ],
   "source": [
    "my_str = \"Although that way may not be obvious at first unless you're Dutch.\"\n",
    "print(\"You have sliced: \" + my_str[::-1])\n",
    "\n",
    "#output:- You have sliced: .hctuD er'uoy sselnu tsrif ta suoivbo eb ton yam yaw taht hguohtlA. Use only step"
   ]
  },
  {
   "cell_type": "code",
   "execution_count": 30,
   "id": "afd2dab3",
   "metadata": {},
   "outputs": [
    {
     "name": "stdout",
     "output_type": "stream",
     "text": [
      "You have sliced: .hctuD er'uoy sselnu tsrif ta suoivbo eb ton yam yaw taht hguohtlA\n"
     ]
    }
   ],
   "source": [
    "my_str = \"Although that way may not be obvious at first unless you're Dutch.\"\n",
    "print(\"You have sliced: \" + my_str[-1:(-len(my_str))-1:-1])\n",
    "\n",
    "#output:- You have sliced: .hctuD er'uoy sselnu tsrif ta suoivbo eb ton yam yaw taht hguohtlA. Use begin end and step."
   ]
  },
  {
   "cell_type": "code",
   "execution_count": 31,
   "id": "8f989482",
   "metadata": {},
   "outputs": [
    {
     "name": "stdout",
     "output_type": "stream",
     "text": [
      "You have sliced: .cu ruysen si asovoe o a a athuhl\n"
     ]
    }
   ],
   "source": [
    "my_str = \"Although that way may not be obvious at first unless you're Dutch.\"\n",
    "print(\"You have sliced: \" + my_str[::-2])\n",
    "\n",
    "#output:- You have sliced: .cu ruysen si asovoe o a a athuhl. use only step"
   ]
  },
  {
   "cell_type": "code",
   "execution_count": 32,
   "id": "707b658c",
   "metadata": {},
   "outputs": [
    {
     "name": "stdout",
     "output_type": "stream",
     "text": [
      "You have sliced: .cu ruysen si asovoe o a a athuhl\n"
     ]
    }
   ],
   "source": [
    "my_str = \"Although that way may not be obvious at first unless you're Dutch.\"\n",
    "print(\"You have sliced: \" + my_str[-1:(-len(my_str))-1:-2])\n",
    "\n",
    "#output:- You have sliced: .cu ruysen si asovoe o a a athuhl. use begin, end and step."
   ]
  },
  {
   "cell_type": "code",
   "execution_count": 33,
   "id": "8ea6b32f",
   "metadata": {},
   "outputs": [
    {
     "name": "stdout",
     "output_type": "stream",
     "text": [
      "You have sliced: \n"
     ]
    }
   ],
   "source": [
    "my_str = \"Although that way may not be obvious at first unless you're Dutch.\"\n",
    "print(\"You have sliced: \" + my_str[10:17:-1])\n",
    "\n",
    "#What will be the output?\n",
    "#An emplty string --> 10 to 17 is positive indexing(Right to left) while the step size has been given as -1 (left to right)."
   ]
  },
  {
   "cell_type": "code",
   "execution_count": 34,
   "id": "22d34869",
   "metadata": {},
   "outputs": [
    {
     "name": "stdout",
     "output_type": "stream",
     "text": [
      "You have sliced: yaw ta\n"
     ]
    }
   ],
   "source": [
    "my_str = \"Although that way may not be obvious at first unless you're Dutch.\"\n",
    "print(\"You have sliced: \" + my_str[16:10:-1])\n",
    "\n",
    "#output:- You have sliced: yaw ta, Using begin, end and step."
   ]
  },
  {
   "cell_type": "code",
   "execution_count": 35,
   "id": "4cb933e6",
   "metadata": {},
   "outputs": [
    {
     "name": "stdout",
     "output_type": "stream",
     "text": [
      "You have sliced: ess you\n"
     ]
    }
   ],
   "source": [
    "my_str = \"Although that way may not be obvious at first unless you're Dutch.\"\n",
    "print(\"You have sliced: \" + my_str[49:56:1])\n",
    "\n",
    "#output:- You have sliced: ess you. Using begin, end and step."
   ]
  },
  {
   "cell_type": "markdown",
   "id": "e175cf9d",
   "metadata": {},
   "source": [
    "#### Q 6. Write the code to get the output,instructions are mentioned below."
   ]
  },
  {
   "cell_type": "code",
   "execution_count": 36,
   "id": "43b99f91",
   "metadata": {},
   "outputs": [
    {
     "name": "stdout",
     "output_type": "stream",
     "text": [
      "Learnbay Python\n"
     ]
    }
   ],
   "source": [
    "str1 = 'Learnbay'\n",
    "str2 = 'Python'\n",
    "\n",
    "print(str1+\" \"+str2)\n",
    "#Output is: Learnbay Python"
   ]
  },
  {
   "cell_type": "code",
   "execution_count": 85,
   "id": "484124c1",
   "metadata": {},
   "outputs": [
    {
     "ename": "TypeError",
     "evalue": "can only concatenate str (not \"int\") to str",
     "output_type": "error",
     "traceback": [
      "\u001b[1;31m---------------------------------------------------------------------------\u001b[0m",
      "\u001b[1;31mTypeError\u001b[0m                                 Traceback (most recent call last)",
      "Input \u001b[1;32mIn [85]\u001b[0m, in \u001b[0;36m<cell line: 5>\u001b[1;34m()\u001b[0m\n\u001b[0;32m      2\u001b[0m str2 \u001b[38;5;241m=\u001b[39m \u001b[38;5;124m'\u001b[39m\u001b[38;5;124mPython\u001b[39m\u001b[38;5;124m'\u001b[39m\n\u001b[0;32m      3\u001b[0m str3 \u001b[38;5;241m=\u001b[39m \u001b[38;5;241m5\u001b[39m\n\u001b[1;32m----> 5\u001b[0m \u001b[38;5;28mprint\u001b[39m(\u001b[43mstr1\u001b[49m\u001b[38;5;241;43m+\u001b[39;49m\u001b[43mstr2\u001b[49m\u001b[38;5;241;43m+\u001b[39;49m\u001b[43mstr3\u001b[49m)\n",
      "\u001b[1;31mTypeError\u001b[0m: can only concatenate str (not \"int\") to str"
     ]
    }
   ],
   "source": [
    "str1 = 'Learnbay'\n",
    "str2 = 'Python'\n",
    "str3 = 5\n",
    "\n",
    "print(str1+str2+str3)\n",
    "# #Error: TypeError: can only concatenate str (not \"int\") to str"
   ]
  },
  {
   "cell_type": "code",
   "execution_count": 86,
   "id": "a0e016db",
   "metadata": {},
   "outputs": [],
   "source": [
    "str1 = 'Learnbay'\n",
    "str2 = 'Python'\n",
    "str3 = 5.5\n",
    "\n",
    "# print(str1+str2+str3)\n",
    "#Error: TypeError: can only concatenate str (not \"float\") to str"
   ]
  },
  {
   "cell_type": "code",
   "execution_count": 39,
   "id": "340c5f3d",
   "metadata": {},
   "outputs": [
    {
     "name": "stdout",
     "output_type": "stream",
     "text": [
      "LearnbayLearnbayLearnbay\n"
     ]
    }
   ],
   "source": [
    "str1 = 'Learnbay'\n",
    "str2 = 'Python'\n",
    "str3 = 5.5\n",
    "\n",
    "print(str1+str1+str1)\n",
    "#Find below Output\n",
    "#Output is: LearnbayLearnbayLearnbay"
   ]
  },
  {
   "cell_type": "code",
   "execution_count": 88,
   "id": "fcac5fa3",
   "metadata": {},
   "outputs": [
    {
     "ename": "TypeError",
     "evalue": "can't multiply sequence by non-int of type 'float'",
     "output_type": "error",
     "traceback": [
      "\u001b[1;31m---------------------------------------------------------------------------\u001b[0m",
      "\u001b[1;31mTypeError\u001b[0m                                 Traceback (most recent call last)",
      "Input \u001b[1;32mIn [88]\u001b[0m, in \u001b[0;36m<cell line: 5>\u001b[1;34m()\u001b[0m\n\u001b[0;32m      2\u001b[0m str2 \u001b[38;5;241m=\u001b[39m \u001b[38;5;124m'\u001b[39m\u001b[38;5;124mPython\u001b[39m\u001b[38;5;124m'\u001b[39m\n\u001b[0;32m      3\u001b[0m str3 \u001b[38;5;241m=\u001b[39m \u001b[38;5;241m5.5\u001b[39m\n\u001b[1;32m----> 5\u001b[0m \u001b[38;5;28mprint\u001b[39m(\u001b[43mstr1\u001b[49m\u001b[38;5;241;43m*\u001b[39;49m\u001b[43mstr3\u001b[49m)\n",
      "\u001b[1;31mTypeError\u001b[0m: can't multiply sequence by non-int of type 'float'"
     ]
    }
   ],
   "source": [
    "str1 = '4.5'\n",
    "str2 = 'Python'\n",
    "str3 = 5.5\n",
    "\n",
    "print(str1*str3)\n",
    "#Error: TypeError: can't multiply sequence by non-int of type 'float'"
   ]
  },
  {
   "cell_type": "code",
   "execution_count": 89,
   "id": "b7d20334",
   "metadata": {},
   "outputs": [
    {
     "ename": "TypeError",
     "evalue": "can't multiply sequence by non-int of type 'float'",
     "output_type": "error",
     "traceback": [
      "\u001b[1;31m---------------------------------------------------------------------------\u001b[0m",
      "\u001b[1;31mTypeError\u001b[0m                                 Traceback (most recent call last)",
      "Input \u001b[1;32mIn [89]\u001b[0m, in \u001b[0;36m<cell line: 5>\u001b[1;34m()\u001b[0m\n\u001b[0;32m      2\u001b[0m str2 \u001b[38;5;241m=\u001b[39m \u001b[38;5;124m'\u001b[39m\u001b[38;5;124mPython\u001b[39m\u001b[38;5;124m'\u001b[39m\n\u001b[0;32m      3\u001b[0m str3 \u001b[38;5;241m=\u001b[39m \u001b[38;5;241m5.5\u001b[39m\n\u001b[1;32m----> 5\u001b[0m \u001b[38;5;28mprint\u001b[39m(\u001b[43mstr1\u001b[49m\u001b[38;5;241;43m*\u001b[39;49m\u001b[43mstr3\u001b[49m)\n",
      "\u001b[1;31mTypeError\u001b[0m: can't multiply sequence by non-int of type 'float'"
     ]
    }
   ],
   "source": [
    "str1 = '1.5'\n",
    "str2 = 'Python'\n",
    "str3 = 5.5\n",
    "\n",
    "print(str1*str3)\n",
    "#Error: TypeError: can't multiply sequence by non-int of type 'str'"
   ]
  },
  {
   "cell_type": "markdown",
   "id": "e61857a9",
   "metadata": {},
   "source": [
    "#### Q 7. Write the code to get the output,instructions are mentioned below."
   ]
  },
  {
   "cell_type": "code",
   "execution_count": 42,
   "id": "156b6ab3",
   "metadata": {},
   "outputs": [
    {
     "name": "stdout",
     "output_type": "stream",
     "text": [
      "True\n",
      "2496973740912 2496973740912\n"
     ]
    }
   ],
   "source": [
    "str1 = 'Python'\n",
    "str2 = 'Python'\n",
    "str3 = 'Python$'\n",
    "str4 = 'Python$'\n",
    "\n",
    "print(str1 is str2)\n",
    "print(id(str1), id(str2))\n",
    "\n",
    "#print True by using identity operator between str1 and str2"
   ]
  },
  {
   "cell_type": "code",
   "execution_count": 43,
   "id": "cbaf95ba",
   "metadata": {},
   "outputs": [
    {
     "name": "stdout",
     "output_type": "stream",
     "text": [
      "False\n",
      "2496973740912 2497071442608\n"
     ]
    }
   ],
   "source": [
    "str1 = 'Python'\n",
    "str2 = 'Python'\n",
    "str3 = 'Python$'\n",
    "str4 = 'Python$'\n",
    "\n",
    "print(str1 is str3)\n",
    "print(id(str1), id(str3))\n",
    "\n",
    "#print False by using identity operator between str1 and str3"
   ]
  },
  {
   "cell_type": "code",
   "execution_count": 44,
   "id": "b7794296",
   "metadata": {},
   "outputs": [
    {
     "name": "stdout",
     "output_type": "stream",
     "text": [
      "False\n",
      "2497071477104 2497071476912\n"
     ]
    }
   ],
   "source": [
    "str1 = 'Python'\n",
    "str2 = 'Python'\n",
    "str3 = 'Python$'\n",
    "str4 = 'Python$'\n",
    "\n",
    "print(str4 is str3)\n",
    "print(id(str4), id(str3)) \n",
    "\n",
    "#print False by using identity operator between str4 and str3\n",
    "#ids are sifferent because of the special character $"
   ]
  },
  {
   "cell_type": "code",
   "execution_count": 45,
   "id": "197c3f4a",
   "metadata": {},
   "outputs": [
    {
     "name": "stdout",
     "output_type": "stream",
     "text": [
      "True\n"
     ]
    }
   ],
   "source": [
    "str1 = 'Python'\n",
    "str2 = 'Python'\n",
    "str3 = 'Python$'\n",
    "str4 = 'Python$'\n",
    "\n",
    "print('P' in str1)\n",
    "\n",
    "#Check if P is available in str1 and print True by using membership operator"
   ]
  },
  {
   "cell_type": "code",
   "execution_count": 46,
   "id": "f650630f",
   "metadata": {},
   "outputs": [
    {
     "name": "stdout",
     "output_type": "stream",
     "text": [
      "True\n"
     ]
    }
   ],
   "source": [
    "str1 = 'Python'\n",
    "str2 = 'Python'\n",
    "str3 = 'Python$'\n",
    "str4 = 'Python$'\n",
    "\n",
    "print('$' in str3)\n",
    "\n",
    "#Check if $ is available in str3 and print True by using membership operator"
   ]
  },
  {
   "cell_type": "code",
   "execution_count": 47,
   "id": "26c43421",
   "metadata": {},
   "outputs": [
    {
     "name": "stdout",
     "output_type": "stream",
     "text": [
      "False\n"
     ]
    }
   ],
   "source": [
    "str1 = 'Python'\n",
    "str2 = 'Python'\n",
    "str3 = 'Python$'\n",
    "str4 = 'Python$'\n",
    "\n",
    "print('N' in str3)\n",
    "\n",
    "#Check if N is available in str3 and print False by using membership operator"
   ]
  },
  {
   "cell_type": "markdown",
   "id": "cfe4f91c",
   "metadata": {},
   "source": [
    "#### Q 8. Complete the below code"
   ]
  },
  {
   "cell_type": "code",
   "execution_count": 92,
   "id": "76865d90",
   "metadata": {},
   "outputs": [
    {
     "ename": "TypeError",
     "evalue": "'str' object does not support item assignment",
     "output_type": "error",
     "traceback": [
      "\u001b[1;31m---------------------------------------------------------------------------\u001b[0m",
      "\u001b[1;31mTypeError\u001b[0m                                 Traceback (most recent call last)",
      "Input \u001b[1;32mIn [92]\u001b[0m, in \u001b[0;36m<cell line: 2>\u001b[1;34m()\u001b[0m\n\u001b[0;32m      1\u001b[0m str1 \u001b[38;5;241m=\u001b[39m \u001b[38;5;124m'\u001b[39m\u001b[38;5;124mThis is Python class\u001b[39m\u001b[38;5;124m'\u001b[39m\n\u001b[1;32m----> 2\u001b[0m str1[\u001b[38;5;241m10\u001b[39m] \u001b[38;5;241m=\u001b[39m \u001b[38;5;124m'\u001b[39m\u001b[38;5;124mJava\u001b[39m\u001b[38;5;124m'\u001b[39m\n",
      "\u001b[1;31mTypeError\u001b[0m: 'str' object does not support item assignment"
     ]
    }
   ],
   "source": [
    "str1 = 'This is Python class'\n",
    "str1[10] = 'Java'\n",
    "\n",
    "# *******str1.replace('Python', 'Java')  --> This can be used to do the following*********\n",
    "\n",
    "# write the code to replace 'Python' with 'Java' and you should get below error.\n",
    "#TypeError: 'str' object does not support item assignment.\n"
   ]
  },
  {
   "cell_type": "markdown",
   "id": "0ecf1802",
   "metadata": {},
   "source": [
    "#### Q 9. Write the code to get the output,instructions are mentioned below."
   ]
  },
  {
   "cell_type": "code",
   "execution_count": 49,
   "id": "03a82a17",
   "metadata": {},
   "outputs": [
    {
     "name": "stdout",
     "output_type": "stream",
     "text": [
      "True\n",
      "True\n",
      "False\n",
      "False\n"
     ]
    }
   ],
   "source": [
    "str1 = 'A'\n",
    "str2 = 'A'\n",
    "\n",
    "print(str1 >= str2)\n",
    "#Compare str1 and str2 and print True using comparison operator\n",
    "\n",
    "print(str1 == str2)\n",
    "#Compare str1 and str2 and print True using equality operator\n",
    "\n",
    "print(str1 != str2)\n",
    "#Compare str1 and str2 and print False using equality operator\n",
    "\n",
    "print(str1 > str2)\n",
    "#Compare str1 and str2 and print False using comparison operator"
   ]
  },
  {
   "cell_type": "markdown",
   "id": "8abbffa5",
   "metadata": {},
   "source": [
    "#### Q 10. Write the code to get the output,instructions are mentioned below."
   ]
  },
  {
   "cell_type": "code",
   "execution_count": 50,
   "id": "baf6e0ab",
   "metadata": {},
   "outputs": [
    {
     "name": "stdout",
     "output_type": "stream",
     "text": [
      "True\n",
      "True\n",
      "False\n",
      "False\n"
     ]
    }
   ],
   "source": [
    "str1 = 'A'\n",
    "str2 = 'a'\n",
    "\n",
    "print(len(str1) >= len(str2))\n",
    "#Compare str1 and str2 and print True using comparison operator\n",
    "\n",
    "print(str1 != str2)\n",
    "#Compare str1 and str2 and print True using equality operator\n",
    "\n",
    "print(str1 == str2)\n",
    "#Compare str1 and str2 and print False using equality operator\n",
    "\n",
    "print(str1 >= str2)\n",
    "#Compare str1 and str2 and print False using comparison operator"
   ]
  },
  {
   "cell_type": "markdown",
   "id": "b18d8e6a",
   "metadata": {},
   "source": [
    "#### Q 11. Write the code to get the output,instructions are mentioned below."
   ]
  },
  {
   "cell_type": "code",
   "execution_count": 93,
   "id": "e2e48736",
   "metadata": {},
   "outputs": [
    {
     "ename": "TypeError",
     "evalue": "'>=' not supported between instances of 'str' and 'int'",
     "output_type": "error",
     "traceback": [
      "\u001b[1;31m---------------------------------------------------------------------------\u001b[0m",
      "\u001b[1;31mTypeError\u001b[0m                                 Traceback (most recent call last)",
      "Input \u001b[1;32mIn [93]\u001b[0m, in \u001b[0;36m<cell line: 4>\u001b[1;34m()\u001b[0m\n\u001b[0;32m      1\u001b[0m str1 \u001b[38;5;241m=\u001b[39m \u001b[38;5;124m'\u001b[39m\u001b[38;5;124mA\u001b[39m\u001b[38;5;124m'\u001b[39m\n\u001b[0;32m      2\u001b[0m str2 \u001b[38;5;241m=\u001b[39m \u001b[38;5;124m'\u001b[39m\u001b[38;5;124m65\u001b[39m\u001b[38;5;124m'\u001b[39m\n\u001b[1;32m----> 4\u001b[0m \u001b[38;5;28mprint\u001b[39m(\u001b[43mstr1\u001b[49m\u001b[43m \u001b[49m\u001b[38;5;241;43m>\u001b[39;49m\u001b[38;5;241;43m=\u001b[39;49m\u001b[38;5;28;43mint\u001b[39;49m\u001b[43m(\u001b[49m\u001b[43mstr2\u001b[49m\u001b[43m)\u001b[49m)\n",
      "\u001b[1;31mTypeError\u001b[0m: '>=' not supported between instances of 'str' and 'int'"
     ]
    }
   ],
   "source": [
    "str1 = 'A'\n",
    "str2 = '65'\n",
    "\n",
    "print(str1 >=int(str2))\n",
    "#Compare str1 and str2 using comparison operator and it should give below error.\n",
    "#Error: TypeError: '>=' not supported between instances of 'str' and 'int'"
   ]
  },
  {
   "cell_type": "code",
   "execution_count": 52,
   "id": "c22ea6da",
   "metadata": {},
   "outputs": [
    {
     "name": "stdout",
     "output_type": "stream",
     "text": [
      "True\n",
      "False\n"
     ]
    }
   ],
   "source": [
    "str1 = 'A'\n",
    "str2 = '65'\n",
    "\n",
    "print(str1 !=str2)\n",
    "#Compare str1 and str2 and print True using equality operator\n",
    "\n",
    "print(str1 ==str2)\n",
    "#Compare str1 and str2 and print False using equality operator"
   ]
  },
  {
   "cell_type": "markdown",
   "id": "04f3a1fa",
   "metadata": {},
   "source": [
    "#### Q 12. Write the code to get the output,instructions are mentioned below."
   ]
  },
  {
   "cell_type": "code",
   "execution_count": 53,
   "id": "d798960e",
   "metadata": {},
   "outputs": [
    {
     "name": "stdout",
     "output_type": "stream",
     "text": [
      "True\n",
      "True\n",
      "False\n",
      "False\n"
     ]
    }
   ],
   "source": [
    "str1 = 'Python'\n",
    "str2 = 'Python'\n",
    "\n",
    "print(str1 >= str2)\n",
    "#Compare str1 and str2 and print True using comparison operator\n",
    "\n",
    "print(str1 == str2)\n",
    "#Compare str1 and str2 and print True using equality operator\n",
    "\n",
    "print(str1 != str2)\n",
    "#Compare str1 and str2 and print False using equality operator\n",
    "\n",
    "print(str1 > str2)\n",
    "#Compare str1 and str2 and print False using comparison operator"
   ]
  },
  {
   "cell_type": "markdown",
   "id": "0cc3f5d4",
   "metadata": {},
   "source": [
    "#### Q 13. Write the code to get the output,instructions are mentioned below."
   ]
  },
  {
   "cell_type": "code",
   "execution_count": 54,
   "id": "02590aa6",
   "metadata": {},
   "outputs": [
    {
     "name": "stdout",
     "output_type": "stream",
     "text": [
      "True\n",
      "True\n",
      "False\n",
      "False\n"
     ]
    }
   ],
   "source": [
    "str1 = 'Python'\n",
    "str2 = 'python'\n",
    "\n",
    "print(len(str1) >= len(str2))\n",
    "#Compare str1 and str2 and print True using comparison operator\n",
    "\n",
    "print(len(str1) == len(str2))\n",
    "#Compare str1 and str2 and print True using equality operator\n",
    "\n",
    "print(str1 == str2)\n",
    "#Compare str1 and str2 and print False using equality operator\n",
    "\n",
    "print(str1 >= str2)\n",
    "#Compare str1 and str2 and print False using comparison operator\n",
    "\n"
   ]
  },
  {
   "cell_type": "markdown",
   "id": "87e845fd",
   "metadata": {},
   "source": [
    "#### Q 14. Write the code to get the output,instructions are mentioned below."
   ]
  },
  {
   "cell_type": "code",
   "execution_count": 55,
   "id": "efaf21d0",
   "metadata": {},
   "outputs": [
    {
     "name": "stdout",
     "output_type": "stream",
     "text": [
      "a and b is: \n",
      "b and a is: \n",
      "a or b is: Python\n",
      "not of a is: False\n",
      "not of b is: True\n"
     ]
    }
   ],
   "source": [
    "a = 'Python'\n",
    "b = ''\n",
    "\n",
    "#Apply logical opereators (and, or & not) on above string values and observe the output.\n",
    "print(f\"a and b is: {a and b}\") # a true so o/p is b\n",
    "print(f\"b and a is: {b and a}\") # b false so o/p is b\n",
    "print(f\"a or b is: {a or b}\")   # a true so o/p is a\n",
    "print(f\"not of a is: {not a}\")    # a is true so o/p is false\n",
    "print(f\"not of b is: {not b}\")   # b is false so o/p is true"
   ]
  },
  {
   "cell_type": "markdown",
   "id": "1b84e75d",
   "metadata": {},
   "source": [
    "#### Q 15. Write the code to get the output,instructions are mentioned below."
   ]
  },
  {
   "cell_type": "code",
   "execution_count": 56,
   "id": "5945da8b",
   "metadata": {},
   "outputs": [
    {
     "name": "stdout",
     "output_type": "stream",
     "text": [
      "a and b is: \n",
      "a or b is: \n",
      "not of a is: True\n"
     ]
    }
   ],
   "source": [
    "a = ''\n",
    "b = ''\n",
    "\n",
    "#Apply logical opereators (and, or & not) on above string values and observe the output.\n",
    "print(f\"a and b is: {a and b}\")  # a is false so o/p is a\n",
    "print(f\"a or b is: {a or b}\")  # a is true so o/p is a\n",
    "print(f\"not of a is: {not a}\")  # a is false so o/p is true"
   ]
  },
  {
   "cell_type": "markdown",
   "id": "20ad853c",
   "metadata": {},
   "source": [
    "#### Q 16. Write the code to get the output,instructions are mentioned below."
   ]
  },
  {
   "cell_type": "code",
   "execution_count": 57,
   "id": "5c4014b1",
   "metadata": {},
   "outputs": [
    {
     "name": "stdout",
     "output_type": "stream",
     "text": [
      "a and b is: Learnbay\n",
      "b and a is: Python\n",
      "a or b is: Python\n",
      "not of a is: False\n"
     ]
    }
   ],
   "source": [
    "a = 'Python'\n",
    "b = 'Learnbay'\n",
    "\n",
    "#Apply logical opereators (and, or & not) on above string values and observe the output.\n",
    "print(f\"a and b is: {a and b}\") # a is true so o/p is b\n",
    "print(f\"b and a is: {b and a}\") # b is true so o/p is a\n",
    "print(f\"a or b is: {a or b}\")  # a is true so o/p is a\n",
    "print(f\"not of a is: {not a}\") # a is true so o/p is false"
   ]
  },
  {
   "cell_type": "markdown",
   "id": "23d24c67",
   "metadata": {},
   "source": [
    "# <center> String Methods"
   ]
  },
  {
   "cell_type": "markdown",
   "id": "3b5e2fdb",
   "metadata": {},
   "source": [
    "#### Q 17. Write the code to get the output,instructions are mentioned below."
   ]
  },
  {
   "cell_type": "code",
   "execution_count": 58,
   "id": "02dfc47b",
   "metadata": {},
   "outputs": [
    {
     "name": "stdout",
     "output_type": "stream",
     "text": [
      "Count of t is: 7\n",
      "1st occurance of t is at order: 2\n",
      "t is available at order: 2\n",
      "1st occurance of 8 is at order: 9\n",
      "8 is available at order: 9\n",
      "first occurance of word the:  -1\n",
      "occurance of a between order 9 to 15: 11\n",
      "Last occurance of u:  63\n",
      "Last occurance index of u:  63\n"
     ]
    }
   ],
   "source": [
    "my_str = \"Although 8 that way may not be obvious at first unless you're Dutch\"\n",
    "\n",
    "#Write the code to get the total count of 't' in above string. Use find() and index() method.\n",
    "print(f\"Count of t is: {my_str.count('t')}\")\n",
    "print(f\"1st occurance of t is at order: {my_str.find('t')}\")\n",
    "print(f\"t is available at order: {my_str.index('t')}\")\n",
    "\n",
    "#Write the code to get the index of '8' in my_str. Use find() and index() method.\n",
    "print(f\"1st occurance of 8 is at order: {my_str.find('8')}\")\n",
    "print(f\"8 is available at order: {my_str.index('8')}\")\n",
    "\n",
    "#What will be the output of below code?\n",
    "print(\"first occurance of word the: \",my_str.find('the'))  # first occurance of the, which is not available so output is -1 as the substring is not present\n",
    "\n",
    "# print(my_str.index('the'))   # will throw an error because word not found\n",
    "\n",
    "print(f\"occurance of a between order 9 to 15: {my_str.find('t', 9, 15)}\") # occurance of a between order 9 to 15\n",
    "\n",
    "print(\"Last occurance of u: \",my_str.rfind('u')) #Last occurance of a string\n",
    "\n",
    "print(\"Last occurance index of u: \", my_str.rindex('u')) #Last occurance index of a string"
   ]
  },
  {
   "cell_type": "markdown",
   "id": "45a329d0",
   "metadata": {},
   "source": [
    "#### Q 18. Write the code to get the output,instructions are mentioned below."
   ]
  },
  {
   "cell_type": "code",
   "execution_count": 59,
   "id": "52a18fe1",
   "metadata": {},
   "outputs": [
    {
     "name": "stdout",
     "output_type": "stream",
     "text": [
      "    Python   \n",
      "    Python\n",
      "    Python\n"
     ]
    }
   ],
   "source": [
    "#W A P which applies strip() method if any string, which will be taken from user, starts and ends with space, or applies \n",
    "#rstrip() method if that string only ends with space or applies lstrip() method if that string only starts with a space.\n",
    "\n",
    "#For example:-\n",
    "#input:- '    Python   '\n",
    "#output:- 'Python'\n",
    "\n",
    "a = '    Python   '\n",
    "str(a.strip())\n",
    "print(a)\n",
    "\n",
    "#input:- '    Python'\n",
    "#output:- 'Python'\n",
    "b = '    Python'\n",
    "str(b.lstrip())\n",
    "print(b)\n",
    "\n",
    "\n",
    "#input:- 'Python   '\n",
    "#output:- 'Python'\n",
    "c = '    Python'\n",
    "str(c.rstrip())\n",
    "print(c)"
   ]
  },
  {
   "cell_type": "markdown",
   "id": "7ef101da",
   "metadata": {},
   "source": [
    "#### Q 19. Write the code to get the output,instructions are mentioned below."
   ]
  },
  {
   "cell_type": "code",
   "execution_count": 60,
   "id": "1da5764b",
   "metadata": {},
   "outputs": [
    {
     "name": "stdout",
     "output_type": "stream",
     "text": [
      "Upper letter:  ALTHOUGH 8 THAT WAY MAY NOT BE OBVIOUS AT FIRST UNLESS YOU'RE DUTCH\n",
      "Lower letter:  although 8 that way may not be obvious at first unless you're dutch\n",
      "Swap letter:  aLTHOUGH 8 THAT WAY MAY NOT BE OBVIOUS AT FIRST UNLESS YOU'RE dUTCH\n"
     ]
    }
   ],
   "source": [
    "my_str = \"Although 8 that way may not be obvious at first unless you're Dutch\"\n",
    "\n",
    "#Write the code to convert all alphabets in my_str into upper case.\n",
    "print(\"Upper letter: \",my_str.upper())\n",
    "\n",
    "#Write the code to convert all alphabets in my_str into lower case.\n",
    "print(\"Lower letter: \",my_str.lower())\n",
    "\n",
    "#Write the code to swap the cases of all alphabets in my_str.(lower to upper and upper to lower)\n",
    "print(\"Swap letter: \", my_str.swapcase())"
   ]
  },
  {
   "cell_type": "markdown",
   "id": "ea7554fe",
   "metadata": {},
   "source": [
    "#### Q 20. Write the code to get the output,instructions are mentioned below."
   ]
  },
  {
   "cell_type": "code",
   "execution_count": 61,
   "id": "56780ad1",
   "metadata": {},
   "outputs": [
    {
     "name": "stdout",
     "output_type": "stream",
     "text": [
      "*** String Converter***\n",
      "Enter your string here: abcs\n",
      "Converted string is:  Abcs\n"
     ]
    }
   ],
   "source": [
    "#Write the code which takes one string from user and if it starts with small case letter then convert it to corresponding \n",
    "#capital letter otherwise if starts with capital letters then convert first character of every word in that string into capital.\n",
    "\n",
    "print(\"*** String Converter***\")\n",
    "User_string = input(\"Enter your string here: \")\n",
    "print(\"Converted string is: \", User_string.title())"
   ]
  },
  {
   "cell_type": "markdown",
   "id": "3dfddd1a",
   "metadata": {},
   "source": [
    "#### Q 21. Write the code to get the output,instructions are mentioned below."
   ]
  },
  {
   "cell_type": "code",
   "execution_count": 62,
   "id": "c4252eac",
   "metadata": {},
   "outputs": [
    {
     "name": "stdout",
     "output_type": "stream",
     "text": [
      "Enter your string here: avsds\n",
      "Your string is =  avsds\n",
      "If all characters are alpha numeric ? : True\n",
      "If all characters are alphabatical ?: True\n",
      "If all characters are digit ?: False\n",
      "If all characters are lower case ?: True\n",
      "If all characters are Upper case ?: False\n",
      "If all characters are Title case ?: False\n",
      "If all characters are numeric ?: False\n",
      "If all characters have spaces ?: False\n",
      "If characters are decimal ?: False\n"
     ]
    }
   ],
   "source": [
    "#Take a string from user and check if it is:-\n",
    "#     1. alphanumeric\n",
    "#     2. alphabets\n",
    "#     3. digit\n",
    "#     4. all letters are in lower case\n",
    "#     5. all letters are in upper case\n",
    "#     6. in title case\n",
    "#     7. a space character\n",
    "#     8. numeric\n",
    "#     9. all number elements in string are decimal\n",
    "\n",
    "Your_str = input(\"Enter your string here: \")\n",
    "print('Your string is = ', Your_str)\n",
    "\n",
    "print('If all characters are alpha numeric ? :', Your_str.isalnum())\n",
    "print('If all characters are alphabatical ?:', Your_str.isalpha())\n",
    "print('If all characters are digit ?:', Your_str.isdigit())\n",
    "print('If all characters are lower case ?:', Your_str.islower())\n",
    "print('If all characters are Upper case ?:', Your_str.isupper())\n",
    "print('If all characters are Title case ?:', Your_str.istitle())\n",
    "print('If all characters are numeric ?:', Your_str.isnumeric())\n",
    "print('If all characters have spaces ?:', Your_str.isspace())\n",
    "print('If characters are decimal ?:', Your_str.isdecimal())"
   ]
  },
  {
   "cell_type": "markdown",
   "id": "acf364f8",
   "metadata": {},
   "source": [
    "#### Q 22. Write the code to get the output,instructions are mentioned below."
   ]
  },
  {
   "cell_type": "code",
   "execution_count": 63,
   "id": "94963a98",
   "metadata": {},
   "outputs": [
    {
     "name": "stdout",
     "output_type": "stream",
     "text": [
      "Enter your string here : avss\n",
      "avss is valid identifier\n"
     ]
    }
   ],
   "source": [
    "#W A P which takes a string as an input and prints True if the string is valid identifier else returns False.\n",
    "#Sample Input:- 'abc', 'abc1', 'ab1c', '1abc', 'abc$', '_abc', 'if'\n",
    "\n",
    "string = input(\"Enter your string here : \")\n",
    "if string.isidentifier() :\n",
    "    print(f'{string} is valid identifier')\n",
    "else:\n",
    "    print(\"Not a valid string\")"
   ]
  },
  {
   "cell_type": "markdown",
   "id": "fecb25d3",
   "metadata": {},
   "source": [
    "#### Q23. What will be output of below code?"
   ]
  },
  {
   "cell_type": "code",
   "execution_count": 64,
   "id": "71d7de7f",
   "metadata": {},
   "outputs": [
    {
     "name": "stdout",
     "output_type": "stream",
     "text": [
      "True\n",
      "False\n",
      "False\n",
      "True\n"
     ]
    }
   ],
   "source": [
    "s = chr(65) + chr(97)\n",
    "print(s.isprintable())           #Op is Aa \n",
    "\n",
    "s = chr(27) + chr(97) \n",
    "print(s.isprintable())          #Op is Esc a \n",
    "\n",
    "s = '\\n'\n",
    "print(s.isprintable())       # Op is new line\n",
    "\n",
    "s = ''\n",
    "print(s.isprintable())       #Op is empty string\n",
    "\n",
    "# .isprintable Returns true if string is printable"
   ]
  },
  {
   "cell_type": "markdown",
   "id": "0491dcff",
   "metadata": {},
   "source": [
    "#### Q24. What will be output of below code?"
   ]
  },
  {
   "cell_type": "code",
   "execution_count": 65,
   "id": "9e426fcb",
   "metadata": {},
   "outputs": [
    {
     "name": "stdout",
     "output_type": "stream",
     "text": [
      "True\n",
      "True\n",
      "True\n",
      "True\n",
      "False\n",
      "False\n"
     ]
    }
   ],
   "source": [
    "my_string = '  '\n",
    "print(my_string.isascii())\n",
    "\n",
    "my_string = 'Studytonight'\n",
    "print(my_string.isascii())\n",
    "\n",
    "my_string = 'Study tonight'\n",
    "print(my_string.isascii())\n",
    "\n",
    "my_string = 'Studytonight@123'\n",
    "print(my_string.isascii())\n",
    "\n",
    "my_string = '°'\n",
    "print(my_string.isascii())\n",
    "\n",
    "my_string = 'ö'\n",
    "print(my_string.isascii())\n",
    "\n",
    "# .isascii will return true if the string charcters are ascii charcters."
   ]
  },
  {
   "cell_type": "markdown",
   "id": "0e2b2ff2",
   "metadata": {},
   "source": [
    "#### Q25. What will be output of below code?"
   ]
  },
  {
   "cell_type": "code",
   "execution_count": 66,
   "id": "7486dd6a",
   "metadata": {},
   "outputs": [
    {
     "name": "stdout",
     "output_type": "stream",
     "text": [
      "First string =  der fluss\n",
      "Second string =  der fluss\n",
      "The strings are equal.\n"
     ]
    }
   ],
   "source": [
    "firstString = \"der Fluß\"\n",
    "secondString = \"der Fluss\"\n",
    "print(\"First string = \",firstString.casefold())\n",
    "print(\"Second string = \",secondString.casefold())\n",
    "\n",
    "if firstString.casefold() == secondString.casefold():\n",
    "    print('The strings are equal.')\n",
    "else:\n",
    "    print('The strings are not equal.')\n",
    "    \n",
    "# .casefold will returns a string in which all characters are lower case."
   ]
  },
  {
   "cell_type": "markdown",
   "id": "a0224a54",
   "metadata": {},
   "source": [
    "#### Q26. Write the code to get below output."
   ]
  },
  {
   "cell_type": "code",
   "execution_count": 67,
   "id": "c4b1fa0b",
   "metadata": {},
   "outputs": [
    {
     "name": "stdout",
     "output_type": "stream",
     "text": [
      "python**\n",
      "**python\n",
      "**python**\n",
      "**python**\n"
     ]
    }
   ],
   "source": [
    "#O/P 1:- python** (using ljust method)\n",
    "\n",
    "\n",
    "#Write the code to get below output\n",
    "#O/P 1:- **python (using rjust method)\n",
    "\n",
    "\n",
    "#Write the code to get below output\n",
    "#O/P 1:- **python** (using rjust method)\n",
    "\n",
    "my_str = 'python'\n",
    "a = ''\n",
    "width_a = 2\n",
    "width_my_str = 8\n",
    "fill = '*'\n",
    "\n",
    "print(my_str.ljust(width_my_str,fill))  # pyhton**\n",
    "\n",
    "print(my_str.rjust(width_my_str,fill))  # **pyhton\n",
    "\n",
    "print(my_str.center(width_my_str+2,fill))        # **pyhton**\n",
    "\n",
    "print(my_str.rjust(width_my_str,fill)+a.ljust(width_a,fill))        # **pyhton**"
   ]
  },
  {
   "cell_type": "markdown",
   "id": "5be34a7c",
   "metadata": {},
   "source": [
    "#### Q 27. Write a Python program to find the length of the my_str."
   ]
  },
  {
   "cell_type": "code",
   "execution_count": 68,
   "id": "5e46bf8e",
   "metadata": {},
   "outputs": [
    {
     "name": "stdout",
     "output_type": "stream",
     "text": [
      "55\n"
     ]
    }
   ],
   "source": [
    "#Input:- 'Write a Python program to find the length of the my_str'\n",
    "#Output:- 55\n",
    "\n",
    "my_str = 'Write a Python program to find the length of the my_str'\n",
    "print(len(my_str))"
   ]
  },
  {
   "cell_type": "markdown",
   "id": "11cb76ee",
   "metadata": {},
   "source": [
    "#### Q 28. Write a Python program to find the total number of times letter 'p' is appeared in the below string:-"
   ]
  },
  {
   "cell_type": "code",
   "execution_count": 69,
   "id": "6137c1fa",
   "metadata": {},
   "outputs": [
    {
     "name": "stdout",
     "output_type": "stream",
     "text": [
      "9\n"
     ]
    }
   ],
   "source": [
    "#Input:- 'peter piper picked a peck of pickled peppers.'\n",
    "#Output:- 9\n",
    "\n",
    "my_str = 'peter piper picked a peck of pickled peppers.'\n",
    "print(my_str.count('p'))"
   ]
  },
  {
   "cell_type": "markdown",
   "id": "f4289ba1",
   "metadata": {},
   "source": [
    "#### Q 29. Write a Python Program, to print all the indexes of all occurences of letter 'p' appeared in the string:-"
   ]
  },
  {
   "cell_type": "code",
   "execution_count": 70,
   "id": "48f7eacb",
   "metadata": {},
   "outputs": [
    {
     "name": "stdout",
     "output_type": "stream",
     "text": [
      "0\n",
      "6\n",
      "8\n",
      "12\n",
      "21\n",
      "29\n",
      "37\n",
      "39\n",
      "40\n"
     ]
    }
   ],
   "source": [
    "#Input:- 'peter piper picked a peck of pickled peppers.'\n",
    "#Output:- \n",
    "# 0\n",
    "# 6\n",
    "# 8\n",
    "# 12\n",
    "# 21\n",
    "# 29\n",
    "# 37\n",
    "# 39\n",
    "# 40\n",
    "\n",
    "my_str = 'peter piper picked a peck of pickled peppers.'\n",
    "\n",
    "for p in range(0,len(my_str)):\n",
    "    if(my_str[p] == 'p' ):\n",
    "        print(p)"
   ]
  },
  {
   "cell_type": "code",
   "execution_count": 71,
   "id": "b985137b",
   "metadata": {},
   "outputs": [
    {
     "name": "stdout",
     "output_type": "stream",
     "text": [
      "[0, 6, 8, 12, 21, 29, 37, 39, 40]\n"
     ]
    }
   ],
   "source": [
    "import re\n",
    "my_str = 'peter piper picked a peck of pickled peppers.'\n",
    "indexes = [x.start() for x in re.finditer('p', my_str)]\n",
    "print(indexes)"
   ]
  },
  {
   "cell_type": "markdown",
   "id": "50c22e12",
   "metadata": {},
   "source": [
    "#### Q 30. Write a python program to find below output:-"
   ]
  },
  {
   "cell_type": "code",
   "execution_count": 72,
   "id": "7356a84c",
   "metadata": {},
   "outputs": [
    {
     "name": "stdout",
     "output_type": "stream",
     "text": [
      "['peter', 'piper', 'picked', 'a', 'peck', 'of', 'pickled', 'peppers.']\n"
     ]
    }
   ],
   "source": [
    "#Input:- 'peter piper picked a peck of pickled peppers.'\n",
    "#Output:- ['peter', 'piper', 'picked', 'a', 'peck', 'of', 'pickled', 'peppers.']\n",
    "\n",
    "my_str = 'peter piper picked a peck of pickled peppers.'\n",
    "print(my_str.rsplit(\" \"))"
   ]
  },
  {
   "cell_type": "markdown",
   "id": "61a44b0d",
   "metadata": {},
   "source": [
    "#### Q 31. Write a python program to find below output:-"
   ]
  },
  {
   "cell_type": "code",
   "execution_count": 73,
   "id": "7a64372a",
   "metadata": {},
   "outputs": [
    {
     "name": "stdout",
     "output_type": "stream",
     "text": [
      "peppers. picked of peck a pickled piper peter\n"
     ]
    }
   ],
   "source": [
    "#Input:- 'peter piper picked a peck of pickled peppers.'\n",
    "#Output:- 'peppers. pickled of peck a picked piper peter'\n",
    "\n",
    "my_str = 'peter piper picked a peck of pickled peppers.'\n",
    "print(my_str.replace('peppers.','piper peter',1).replace('peter piper','peppers.',1).replace('of','a',1).replace('a','of',1))"
   ]
  },
  {
   "cell_type": "code",
   "execution_count": 74,
   "id": "6a2923ff",
   "metadata": {},
   "outputs": [
    {
     "name": "stdout",
     "output_type": "stream",
     "text": [
      "['peter', 'piper', 'picked', 'a', 'peck', 'of', 'pickled', 'peppers.']\n",
      "peppers. pickled of peck a picked piper peter\n"
     ]
    }
   ],
   "source": [
    "my_str = 'peter piper picked a peck of pickled peppers.'\n",
    "split_my_str = my_str.split()\n",
    "print(split_my_str)\n",
    "print(' '.join(reversed(split_my_str)))"
   ]
  },
  {
   "cell_type": "markdown",
   "id": "f6299899",
   "metadata": {},
   "source": [
    "#### Q 32. Write a python program to find below output"
   ]
  },
  {
   "cell_type": "code",
   "execution_count": 75,
   "id": "d22041df",
   "metadata": {},
   "outputs": [
    {
     "name": "stdout",
     "output_type": "stream",
     "text": [
      ".sreppep delkcip fo kcep a dekcip repip retep\n"
     ]
    }
   ],
   "source": [
    "#Input:- 'peter piper picked a peck of pickled peppers.'\n",
    "#Output:- '.sreppep delkcip fo kcep a dekcip repip retep'\n",
    "\n",
    "my_str = 'peter piper picked a peck of pickled peppers.'\n",
    "length_my_str = len(my_str)\n",
    "Reversed_String = my_str[length_my_str::-1]\n",
    "print (Reversed_String)"
   ]
  },
  {
   "cell_type": "markdown",
   "id": "0b95014b",
   "metadata": {},
   "source": [
    "#### Q 33. Write a python program to find below output"
   ]
  },
  {
   "cell_type": "code",
   "execution_count": 76,
   "id": "dc9a7d72",
   "metadata": {},
   "outputs": [
    {
     "name": "stdout",
     "output_type": "stream",
     "text": [
      "retep repip dekcip a kcep fo delkcip .sreppep\n"
     ]
    }
   ],
   "source": [
    "#Input:- 'peter piper picked a peck of pickled peppers.'\n",
    "#Output:- 'retep repip dekcip a kcep fo delkcip .sreppep'\n",
    "\n",
    "my_str = 'peter piper picked a peck of pickled peppers.'\n",
    "split_my_str = my_str.split()\n",
    "# print(split_my_str)\n",
    "new_str = [words[::-1] for words in split_my_str]\n",
    "print(' '.join(new_str))"
   ]
  },
  {
   "cell_type": "markdown",
   "id": "e2c82945",
   "metadata": {},
   "source": [
    "#### Q 34. Write a python program to find below output"
   ]
  },
  {
   "cell_type": "code",
   "execution_count": 77,
   "id": "51208aca",
   "metadata": {},
   "outputs": [
    {
     "name": "stdout",
     "output_type": "stream",
     "text": [
      "Peter Piper Picked A Peck Of Pickled Peppers.\n"
     ]
    }
   ],
   "source": [
    "#Input:- 'peter piper picked a peck of pickled peppers.'\n",
    "#Output:- 'Peter Piper Picked A Peck Of Pickled Peppers.'\n",
    "\n",
    "my_str = 'peter piper picked a peck of pickled peppers.'\n",
    "print(my_str.title())"
   ]
  },
  {
   "cell_type": "markdown",
   "id": "cdfa8ee3",
   "metadata": {},
   "source": [
    "#### Q 35. Write a python program to find below output"
   ]
  },
  {
   "cell_type": "code",
   "execution_count": 78,
   "id": "b5c0d9d0",
   "metadata": {},
   "outputs": [
    {
     "name": "stdout",
     "output_type": "stream",
     "text": [
      "Peter piper picked a peck of pickled peppers.\n"
     ]
    }
   ],
   "source": [
    "#Input:- 'Peter Piper Picked A Peck Of Pickled Peppers.'\n",
    "#Output:- 'Peter piper picked a peck of pickled peppers.'\n",
    "\n",
    "my_str = 'Peter Piper Picked A Peck Of Pickled Peppers.'\n",
    "print(my_str.capitalize())"
   ]
  },
  {
   "cell_type": "markdown",
   "id": "4459936d",
   "metadata": {},
   "source": [
    "#### Q 36. Write a python program to implement index method. "
   ]
  },
  {
   "cell_type": "code",
   "execution_count": 79,
   "id": "cc31d222",
   "metadata": {},
   "outputs": [
    {
     "name": "stdout",
     "output_type": "stream",
     "text": [
      "29\n"
     ]
    }
   ],
   "source": [
    "# If sub_str is found in my_str then it will print the index of first occurrence of first character of matching string in my_str:-\n",
    "\n",
    "#Input:- my_str = 'Peter Piper Picked A Peck Of Pickled Peppers.', sub_str = 'Pickl'\n",
    "#Output:- 29\n",
    "\n",
    "my_str = 'Peter Piper Picked A Peck Of Pickled Peppers.'\n",
    "print(my_str.find('Pickl'))"
   ]
  },
  {
   "cell_type": "markdown",
   "id": "78d00acb",
   "metadata": {},
   "source": [
    "#### Q 37. Write a python program to implement replace method."
   ]
  },
  {
   "cell_type": "code",
   "execution_count": 80,
   "id": "56f3e686",
   "metadata": {},
   "outputs": [
    {
     "name": "stdout",
     "output_type": "stream",
     "text": [
      "Peter Piper Picked A Pack Of Pickled Peppers.\n"
     ]
    }
   ],
   "source": [
    "#  If sub_str is found in my_str then it will replace the first occurrence of sub_str with new_str else it will will print sub_str not found:-\n",
    "\n",
    "#Input:- my_str = 'Peter Piper Picked A Peck Of Pickled Peppers.', sub_str = 'Peck', new_str = 'Pack'\n",
    "#Output:- 'Peter Piper Picked A Pack Of Pickled Peppers.'\n",
    "\n",
    "my_str = 'Peter Piper Picked A Peck Of Pickled Peppers.'\n",
    "print(my_str.replace('Peck','Pack'))"
   ]
  },
  {
   "cell_type": "markdown",
   "id": "935f71bf",
   "metadata": {},
   "source": [
    "#### Q 38. Write a python program to find below output (implements rjust and ljust):-"
   ]
  },
  {
   "cell_type": "code",
   "execution_count": 81,
   "id": "cac531a2",
   "metadata": {},
   "outputs": [
    {
     "name": "stdout",
     "output_type": "stream",
     "text": [
      "*********************Peck********************\n"
     ]
    }
   ],
   "source": [
    "#Input:- 'Peter Piper Picked A Peck Of Pickled Peppers.', sub_str = 'Peck', \n",
    "#Output:- '*********************Peck********************'\n",
    "\n",
    "my_str = 'Peter Piper Picked A Peck Of Pickled Peppers.'\n",
    "print(my_str[21:25].center(45,'*'))\n",
    "# print(my_str.replace('Peter Piper Picked A ', '*********************').replace(' Of Pickled Peppers.','********************'))"
   ]
  }
 ],
 "metadata": {
  "kernelspec": {
   "display_name": "Python 3 (ipykernel)",
   "language": "python",
   "name": "python3"
  },
  "language_info": {
   "codemirror_mode": {
    "name": "ipython",
    "version": 3
   },
   "file_extension": ".py",
   "mimetype": "text/x-python",
   "name": "python",
   "nbconvert_exporter": "python",
   "pygments_lexer": "ipython3",
   "version": "3.9.12"
  }
 },
 "nbformat": 4,
 "nbformat_minor": 5
}
