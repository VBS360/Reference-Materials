{
 "cells": [
  {
   "cell_type": "markdown",
   "id": "ce22a077",
   "metadata": {},
   "source": [
    "#### Q 1.  Initialize a dictionary \"emp_info\" with below details"
   ]
  },
  {
   "cell_type": "code",
   "execution_count": 1,
   "id": "ed898286",
   "metadata": {},
   "outputs": [
    {
     "name": "stdout",
     "output_type": "stream",
     "text": [
      "{'email': 'tom_latham019@gmail.com', 'Phone': 1987654321, 'City': 'California'}\n",
      "{'email': 'kathy_abram897@gmail.com', 'Phone': 1887654321, 'City': 'New York'}\n"
     ]
    }
   ],
   "source": [
    "# In - emp_info['Tom']\n",
    "# Out - {'email':'tom_latham019@gmail.com', 'Phone': +1987654321, 'City': 'California'}\n",
    "\n",
    "# In - emp_info['Kathy']\n",
    "# Out - {'email':'kathy_abram897@gmail.com', 'Phone': +1887654321, 'City': 'New York'}\n",
    "\n",
    "# emp_info[Name] = {'email': , 'phone': , 'City': }\n",
    "emp_info = {}\n",
    "emp_info['Tom'] = {'email':'tom_latham019@gmail.com', 'Phone': +1987654321, 'City': 'California'}\n",
    "emp_info['Kathy'] = {'email':'kathy_abram897@gmail.com', 'Phone': +1887654321, 'City': 'New York'}\n",
    "\n",
    "print(emp_info['Tom'])\n",
    "print(emp_info['Kathy'])"
   ]
  },
  {
   "cell_type": "markdown",
   "id": "ce771500",
   "metadata": {},
   "source": [
    "#### Q 2. Create a dictionary out of below inputs"
   ]
  },
  {
   "cell_type": "code",
   "execution_count": 2,
   "id": "d17d7d36",
   "metadata": {},
   "outputs": [
    {
     "name": "stdout",
     "output_type": "stream",
     "text": [
      "{'emp1_val': {'John', 'SG101', '$10,000'}, 'emp2_val': {'Smith', '$9,000', 'SG102'}, 'emp3_val': {'Peter', 'SG103', '$9,500'}}\n"
     ]
    }
   ],
   "source": [
    "# lst1 = ['emp1', 'emp2', 'emp3']\n",
    "# emp_key = ['e_name', 'e_id', 'e_sal']\n",
    "# emp1_val = ['John', 'SG101', '$10,000']\n",
    "# emp2_val = ['Smith', 'SG102', '$9,000']\n",
    "# emp3_val = ['Peter', 'SG103', '$9,500']\n",
    "\n",
    "# Expected Output:- {'emp1':{'e_name':'John', 'e_id':'SG101', 'e_sal':$10,000}, \n",
    "#                    'emp2':{'e_name':'Smith', 'e_id':'SG102', 'e_sal':$9,000}, \n",
    "#                    'emp3':{'e_name':'Peter', 'e_id':'SG103', 'e_sal':$9,500}}\n",
    "\n",
    "emp_info = {}\n",
    "emp_info['emp_key'] = {'e_name', 'e_id', 'e_sal' }\n",
    "emp_info = dict(emp1_val = {'John', 'SG101', '$10,000'},\n",
    "                emp2_val = {'Smith', 'SG102', '$9,000'},\n",
    "                emp3_val = {'Peter', 'SG103', '$9,500'})\n",
    "\n",
    "print(emp_info)"
   ]
  },
  {
   "cell_type": "markdown",
   "id": "0f9c4ac1",
   "metadata": {},
   "source": [
    "#### Q 3. Acess the value of key 'history'"
   ]
  },
  {
   "cell_type": "code",
   "execution_count": 3,
   "id": "45658c7d",
   "metadata": {},
   "outputs": [
    {
     "name": "stdout",
     "output_type": "stream",
     "text": [
      "80\n"
     ]
    }
   ],
   "source": [
    "sampleDict = { \n",
    "   \"class\":{ \n",
    "      \"student\":{          \n",
    "          \"name\":\"Mike\",         \n",
    "          \"marks\":{             \n",
    "              \"physics\":70,\n",
    "            \"history\":80\n",
    "         }\n",
    "      }\n",
    "   }\n",
    "}\n",
    "\n",
    "print(sampleDict[\"class\"][\"student\"][\"marks\"][\"history\"])"
   ]
  },
  {
   "cell_type": "markdown",
   "id": "ca77684e",
   "metadata": {},
   "source": [
    "#### Q 4. Initialize dictionary with default values. Inputs are:-"
   ]
  },
  {
   "cell_type": "code",
   "execution_count": 4,
   "id": "e7473e97",
   "metadata": {},
   "outputs": [
    {
     "name": "stdout",
     "output_type": "stream",
     "text": [
      "{'Kelly': {'designation': 'Application Developer', 'salary': 8000}, 'Emma': {'designation': 'Application Developer', 'salary': 8000}, 'John': {'designation': 'Application Developer', 'salary': 8000}}\n"
     ]
    }
   ],
   "source": [
    "# employees = ['Kelly', 'Emma', 'John']\n",
    "# defaults = {\"designation\": 'Application Developer', \"salary\": 8000}\n",
    "\n",
    "#Expected output:- {'Kelly': {'designation': 'Application Developer', 'salary': 8000}, \n",
    "#                   'Emma': {'designation': 'Application Developer', 'salary': 8000}, \n",
    "#                   'John': {'designation': 'Application Developer', 'salary': 8000}}\n",
    "\n",
    "employees = ['Kelly', 'Emma', 'John']\n",
    "defaults = {\"designation\": 'Application Developer', \"salary\": 8000}\n",
    "\n",
    "emp_info = dict.fromkeys(employees, defaults)\n",
    "print(emp_info)"
   ]
  },
  {
   "cell_type": "markdown",
   "id": "958c3ce2",
   "metadata": {},
   "source": [
    "#### Q 5. In gene expression, mRNA is transcribed from a DNA template. "
   ]
  },
  {
   "cell_type": "code",
   "execution_count": 5,
   "id": "36040c44",
   "metadata": {},
   "outputs": [
    {
     "name": "stdout",
     "output_type": "stream",
     "text": [
      "A\n"
     ]
    }
   ],
   "source": [
    "# The 4 nucleotide bases of A, T, C, G corresponds to the U, A, G, C bases of the mRNA. \n",
    "# Write a function that returns the mRNA transcript given the sequence of a DNA strand.\n",
    "\n",
    "# Use a dictionary to provide the mapping of DNA to RNA bases.\n",
    "\n",
    "bases = {'A': 'U', 'T': 'A', 'C': 'G', 'G':'C'}\n",
    "\n",
    "print(bases['T'])"
   ]
  },
  {
   "cell_type": "markdown",
   "id": "29683054",
   "metadata": {},
   "source": [
    "#### Q 6. Write a function which takes a word as input and returns a dictionary with letters as key and no of time letters are repeated as value."
   ]
  },
  {
   "cell_type": "code",
   "execution_count": 6,
   "id": "6e910b4b",
   "metadata": {},
   "outputs": [
    {
     "name": "stdout",
     "output_type": "stream",
     "text": [
      "{'g': 2, 'o': 3, 'l': 1, 'e': 1, '.': 1, 'c': 1, 'm': 1}\n"
     ]
    }
   ],
   "source": [
    "# In - count_letter('google.com')\n",
    "# Out - {'g': 2, 'o': 3, 'l': 1, 'e': 1, '.': 1, 'c': 1, 'm': 1}\n",
    "\n",
    "count_letter= 'google.com'\n",
    "count = dict()\n",
    "\n",
    "for letters in count_letter:\n",
    "    if letters in count:\n",
    "        count[letters]+=1\n",
    "    else:\n",
    "        count[letters]=1\n",
    "print(count)"
   ]
  },
  {
   "cell_type": "markdown",
   "id": "2c67487f",
   "metadata": {},
   "source": [
    "#### Q 7.  Write a function that computes the base composition of a given DNA sequence."
   ]
  },
  {
   "cell_type": "code",
   "execution_count": 7,
   "id": "ba4b9576",
   "metadata": {},
   "outputs": [
    {
     "name": "stdout",
     "output_type": "stream",
     "text": [
      "{'A': 1, 'C': 0, 'T': 1, 'G': 1}\n"
     ]
    }
   ],
   "source": [
    "# A DNA strand consisting of the 4 nucleotide bases is usually represented with a string of letters: A,T, C, G. \n",
    "\n",
    "# In - baseComposition(\"CTATCGGCACCCTTTCAGCA\")\n",
    "# Out - {'A': 4, 'C': 8, 'T': 5,  'G': 3 }\n",
    "    \n",
    "# In - baseComposition(\"AGT\")\n",
    "# Out - {'A': 1, 'C': 0, 'T': 1,  'G': 1 }\n",
    "\n",
    "baseComposition = {'CTATCGGCACCCTTTCAGCA', 'AGT'}\n",
    "\n",
    "def baseComposition(dna_seq):\n",
    "    result = {'A': 0, 'C':0, 'T':0, 'G':0 }\n",
    "    for char in dna_seq:\n",
    "        if char in result:\n",
    "            result[char] += 1\n",
    "    return result\n",
    "\n",
    "dna_seq = 'AGT'\n",
    "print(baseComposition(dna_seq))"
   ]
  },
  {
   "cell_type": "markdown",
   "id": "b3c36f20",
   "metadata": {},
   "source": [
    "#### Q 8. [MCQ] Suppose \"d\" is an empty dictionary, which statement does not assign \"d\" with {\"Name\":\"Tom\"}? \n"
   ]
  },
  {
   "cell_type": "code",
   "execution_count": 8,
   "id": "957b3b9b",
   "metadata": {},
   "outputs": [
    {
     "name": "stdout",
     "output_type": "stream",
     "text": [
      "{'Name': 'Tom'}\n"
     ]
    }
   ],
   "source": [
    "# 1. d = {\"Name\": \"Tom\" }\n",
    "# 2. d[\"Name\"] = \"Tom\"\n",
    "# 3. d.update({\"Name\": \"Tom\" })\n",
    "# 4. d.setdefault(\"Name\", \"Tom\")\n",
    "# 5. None of the above.  ---> Answer\n",
    "\n",
    "d = {}\n",
    "d[\"Name\"] = \"Tom\"\n",
    "print(d)"
   ]
  },
  {
   "cell_type": "code",
   "execution_count": 9,
   "id": "b2407302",
   "metadata": {},
   "outputs": [
    {
     "name": "stdout",
     "output_type": "stream",
     "text": [
      "{'Name': 'Tom'}\n"
     ]
    }
   ],
   "source": [
    "d.setdefault(\"Name\", \"Tom\")\n",
    "print(d)"
   ]
  },
  {
   "cell_type": "code",
   "execution_count": 10,
   "id": "a3e5a9da",
   "metadata": {},
   "outputs": [
    {
     "name": "stdout",
     "output_type": "stream",
     "text": [
      "{'Name': 'Tom'}\n"
     ]
    }
   ],
   "source": [
    "d.update({\"Name\": \"Tom\" })\n",
    "print(d)"
   ]
  },
  {
   "cell_type": "code",
   "execution_count": 11,
   "id": "3dd11eea",
   "metadata": {},
   "outputs": [
    {
     "name": "stdout",
     "output_type": "stream",
     "text": [
      "{'Name': 'Tom'}\n"
     ]
    }
   ],
   "source": [
    "d = {\"Name\": \"Tom\" }\n",
    "print(d)"
   ]
  },
  {
   "cell_type": "markdown",
   "id": "a81176a0",
   "metadata": {},
   "source": [
    "#### Q 9. [MCQ] d = {\"a\":1, \"b\":2}. Which of the statements returns [1,2]? "
   ]
  },
  {
   "cell_type": "code",
   "execution_count": 12,
   "id": "213b2406",
   "metadata": {},
   "outputs": [
    {
     "name": "stdout",
     "output_type": "stream",
     "text": [
      "dict_values([1, 2])\n"
     ]
    }
   ],
   "source": [
    "# 1. d.keys()\n",
    "# 2. d.values() ---> Answer\n",
    "# 3. d.items()\n",
    "# 4. d.popitem()\n",
    "# 5. None of the above.\n",
    "\n",
    "d = {\"a\":1, \"b\":2}\n",
    "print(d.values())"
   ]
  },
  {
   "cell_type": "markdown",
   "id": "ab3fb3d0",
   "metadata": {},
   "source": [
    "#### Q 10. [MCQ] Which of the following declarations is not valid for 'dict' type?"
   ]
  },
  {
   "cell_type": "code",
   "execution_count": 23,
   "id": "60b477cd",
   "metadata": {},
   "outputs": [
    {
     "ename": "TypeError",
     "evalue": "unhashable type: 'list'",
     "output_type": "error",
     "traceback": [
      "\u001b[1;31m---------------------------------------------------------------------------\u001b[0m",
      "\u001b[1;31mTypeError\u001b[0m                                 Traceback (most recent call last)",
      "Input \u001b[1;32mIn [23]\u001b[0m, in \u001b[0;36m<cell line: 7>\u001b[1;34m()\u001b[0m\n\u001b[0;32m      1\u001b[0m \u001b[38;5;66;03m# 1. d = {\"Name\": \"Tom\" }\u001b[39;00m\n\u001b[0;32m      2\u001b[0m \u001b[38;5;66;03m# 2. d = { (1,3,4): 4.5 }\u001b[39;00m\n\u001b[0;32m      3\u001b[0m \u001b[38;5;66;03m# 3. d = { [\"First\", \"Last\"]: (1,3) } ---> Answer\u001b[39;00m\n\u001b[0;32m      4\u001b[0m \u001b[38;5;66;03m# 4. d = { 1: 0.4 }\u001b[39;00m\n\u001b[0;32m      5\u001b[0m \u001b[38;5;66;03m# 5. None of the above\u001b[39;00m\n\u001b[1;32m----> 7\u001b[0m d \u001b[38;5;241m=\u001b[39m { [\u001b[38;5;124m\"\u001b[39m\u001b[38;5;124mFirst\u001b[39m\u001b[38;5;124m\"\u001b[39m, \u001b[38;5;124m\"\u001b[39m\u001b[38;5;124mLast\u001b[39m\u001b[38;5;124m\"\u001b[39m]: (\u001b[38;5;241m1\u001b[39m,\u001b[38;5;241m3\u001b[39m) }\n\u001b[0;32m      8\u001b[0m \u001b[38;5;28mprint\u001b[39m(d)\n",
      "\u001b[1;31mTypeError\u001b[0m: unhashable type: 'list'"
     ]
    }
   ],
   "source": [
    "# 1. d = {\"Name\": \"Tom\" }\n",
    "# 2. d = { (1,3,4): 4.5 }\n",
    "# 3. d = { [\"First\", \"Last\"]: (1,3) } ---> Answer\n",
    "# 4. d = { 1: 0.4 }\n",
    "# 5. None of the above\n",
    "\n",
    "d = { [\"First\", \"Last\"]: (1,3) }\n",
    "print(d)"
   ]
  },
  {
   "cell_type": "markdown",
   "id": "53d130e7",
   "metadata": {},
   "source": [
    "#### Q 11. Write a function reverseLookup(dictionary, value) that takes in a dictionary and a value as arguments and returns a sorted list of all keys that contains the value. \n"
   ]
  },
  {
   "cell_type": "code",
   "execution_count": 14,
   "id": "ed178bcd",
   "metadata": {},
   "outputs": [
    {
     "name": "stdout",
     "output_type": "stream",
     "text": [
      "['a']\n"
     ]
    }
   ],
   "source": [
    "# The function will return an empty list if no match is found.\n",
    "\n",
    "# In - reverseLookup({'a':1, 'b':2, 'c':2}, 1)\n",
    "# Out - ['a']\n",
    "# In - reverseLookup({'a':1, 'b':2, 'c':2}, 2)\n",
    "# Out - ['b', 'c']\n",
    "# In - reverseLookup({'a':1, 'b':2, 'c':2}, 3)\n",
    "# Out - []\n",
    "\n",
    "def reverseLookup(dictionary, value):\n",
    "    result_list = []\n",
    "    for val in dictionary.keys():\n",
    "        if dictionary[val] == value:\n",
    "            result_list.extend(val)\n",
    "    return sorted(result_list)\n",
    "\n",
    "print(reverseLookup({'a':1, 'b':2, 'c':2}, 1))"
   ]
  },
  {
   "cell_type": "markdown",
   "id": "d4ff53d0",
   "metadata": {},
   "source": [
    "#### Q 12. Write a function invertDictionary(d) that takes in a dictionary as argument and return a dictionary that inverts the keys and the values of the original dictionary."
   ]
  },
  {
   "cell_type": "code",
   "execution_count": 15,
   "id": "f5f78dc7",
   "metadata": {},
   "outputs": [
    {
     "name": "stdout",
     "output_type": "stream",
     "text": [
      "{'1': ['a'], '2': ['b', 'd'], '3': ['c']}\n"
     ]
    }
   ],
   "source": [
    "# In - invertDictionary({'a':1, 'b':2, 'c':3, 'd':2})\n",
    "# Out - {1: ['a'], 2: ['b', 'd'], 3: ['c']}\n",
    "# In - invertDictionary({'a':3, 'b':3, 'c':3})\n",
    "# Out - {3: ['a', 'c', 'b']}\n",
    "# In - invertDictionary({'a':2, 'b':1, 'c':2, 'd':1})\n",
    "# Out - {1: ['b', 'd'], 2: ['a', 'c']}\n",
    "\n",
    "def invertDictionary(dictionary):\n",
    "    newdict = {}\n",
    "    for key, value in dictionary.items():\n",
    "        for string in value:\n",
    "            newdict.setdefault(string, []).append(key)\n",
    "    return newdict\n",
    "\n",
    "print(invertDictionary({'a': '1', 'b': '2', 'c': '3', 'd': '2'}))"
   ]
  },
  {
   "cell_type": "markdown",
   "id": "98c90e72",
   "metadata": {},
   "source": [
    "#### Q 13. Write a function that converts a sparse vector into a dictionary as described above."
   ]
  },
  {
   "cell_type": "code",
   "execution_count": 16,
   "id": "d03062da",
   "metadata": {},
   "outputs": [
    {
     "name": "stdout",
     "output_type": "stream",
     "text": [
      "{0: 1, 3: 2, 7: 3, 12: 4}\n"
     ]
    }
   ],
   "source": [
    "# In - convertVector([1, 0, 0, 2, 0, 0, 0, 3, 0, 0, 0, 0, 4])\n",
    "# Out - {0: 1, 3: 2, 7: 3, 12: 4}\n",
    "# In - convertVector([1, 0, 1 , 0, 2, 0, 1, 0, 0, 1, 0])\n",
    "# Out - {0: 1, 2: 1, 4: 2, 6: 1, 9: 1}\n",
    "# In - convertVector([0, 0, 0, 0, 0])\n",
    "# Out - {}\n",
    "\n",
    "def convertVector(numbers):\n",
    "    dict = {}\n",
    "    count = 0\n",
    "    for i in numbers:\n",
    "        if i != 0:\n",
    "            dict[count] = i\n",
    "        count+=1    \n",
    "    return dict\n",
    "\n",
    "print(convertVector([1, 0, 0, 2, 0, 0, 0, 3, 0, 0, 0, 0, 4]))"
   ]
  },
  {
   "cell_type": "markdown",
   "id": "6dfdeae4",
   "metadata": {},
   "source": [
    "#### Q 14. Write a function that converts a dictionary back to its sparse vector representation."
   ]
  },
  {
   "cell_type": "code",
   "execution_count": 17,
   "id": "77b3286e",
   "metadata": {},
   "outputs": [
    {
     "name": "stdout",
     "output_type": "stream",
     "text": [
      "[1, 0, 0, 2, 0, 0, 0, 3, 0, 0, 0, 0, 4]\n"
     ]
    }
   ],
   "source": [
    "# In - convertDictionary({0: 1, 3: 2, 7: 3, 12: 4})\n",
    "# Out - [1, 0, 0, 2, 0, 0, 0, 3, 0, 0, 0, 0, 4]\n",
    "# In - convertDictionary({0: 1, 2: 1, 4: 2, 6: 1, 9: 1})\n",
    "# Out - [1, 0, 1, 0, 2, 0, 1, 0, 0, 1]\n",
    "# In - convertDictionary({})\n",
    "# Out - []\n",
    "\n",
    "def convertDictionary(d):\n",
    "    if(d == {}):\n",
    "        return []\n",
    "    maxElem = max([int(s) for s in d.keys()])\n",
    "    return [d.get(x, 0) for x in range(maxElem+1)]\n",
    "\n",
    "print(convertDictionary({0: 1, 3: 2, 7: 3, 12: 4}))"
   ]
  },
  {
   "cell_type": "markdown",
   "id": "2e835f88",
   "metadata": {},
   "source": [
    "#### Q 15. Given a Python dictionary, Change Brad’s salary to 8500"
   ]
  },
  {
   "cell_type": "code",
   "execution_count": 18,
   "id": "cebe64fe",
   "metadata": {},
   "outputs": [
    {
     "name": "stdout",
     "output_type": "stream",
     "text": [
      "{'emp1': {'name': 'Jhon', 'salary': 7500}, 'emp2': {'name': 'Emma', 'salary': 8000}, 'emp3': {'name': 'Brad', 'salary': 8500}}\n"
     ]
    }
   ],
   "source": [
    "#  sampleDict = {\n",
    "#      'emp1': {'name': 'Jhon', 'salary': 7500},\n",
    "#      'emp2': {'name': 'Emma', 'salary': 8000},\n",
    "#      'emp3': {'name': 'Brad', 'salary': 6500}\n",
    "# }\n",
    "\n",
    "# Expected Output\n",
    "# sampleDict = {\n",
    "#      'emp1': {'name': 'Jhon', 'salary': 7500},\n",
    "#      'emp2': {'name': 'Emma', 'salary': 8000},\n",
    "#      'emp3': {'name': 'Brad', 'salary': 8500}\n",
    "# }\n",
    "\n",
    "D = {\n",
    "     'emp1': {'name': 'Jhon', 'salary': 7500},\n",
    "     'emp2': {'name': 'Emma', 'salary': 8000},\n",
    "     'emp3': {'name': 'Brad', 'salary': 6500}}\n",
    "    \n",
    "D['emp3'] = {'name': 'Brad', 'salary':8500}\n",
    "print(D)"
   ]
  },
  {
   "cell_type": "markdown",
   "id": "0a6bf4fd",
   "metadata": {},
   "source": [
    "#### Q 16. Get the key corresponding to the minimum value from the following dictionary"
   ]
  },
  {
   "cell_type": "code",
   "execution_count": 19,
   "id": "1b6e234e",
   "metadata": {},
   "outputs": [
    {
     "name": "stdout",
     "output_type": "stream",
     "text": [
      "Math\n"
     ]
    }
   ],
   "source": [
    "# sampleDict = {\n",
    "#   'Physics': 82,\n",
    "#   'Math': 65,\n",
    "#   'history': 75\n",
    "# }\n",
    "\n",
    "# Expected Output\n",
    "# Math\n",
    "\n",
    "Dict = {\n",
    "  'Physics': 82,\n",
    "  'Math': 65,\n",
    "  'history': 75\n",
    "}\n",
    " \n",
    "print(list(Dict.keys())\n",
    "      [list(Dict.values()).index(65)])"
   ]
  },
  {
   "cell_type": "markdown",
   "id": "3a9e7991",
   "metadata": {},
   "source": [
    "#### Q 17. Rename key city to location in the following dictionary"
   ]
  },
  {
   "cell_type": "code",
   "execution_count": 20,
   "id": "4f5eab1f",
   "metadata": {},
   "outputs": [
    {
     "name": "stdout",
     "output_type": "stream",
     "text": [
      "{'name': 'Kelly', 'age': 25, 'salary': 8000, 'location': 'New york'}\n"
     ]
    }
   ],
   "source": [
    "# sampleDict = {\n",
    "#   \"name\": \"Kelly\",\n",
    "#   \"age\":25,\n",
    "#   \"salary\": 8000,\n",
    "#   \"city\": \"New york\"\n",
    "# }\n",
    "\n",
    "# Expected Output\n",
    "# {\n",
    "#   \"name\": \"Kelly\",\n",
    "#   \"age\":25,\n",
    "#   \"salary\": 8000,\n",
    "#   \"location\": \"New york\"\n",
    "# }\n",
    "\n",
    "Dict = {\n",
    "  \"name\": \"Kelly\",\n",
    "  \"age\":25,\n",
    "  \"salary\": 8000,\n",
    "  \"city\": \"New york\"\n",
    "}\n",
    "\n",
    "Dict[\"location\"] = Dict.pop(\"city\")\n",
    "print(Dict)"
   ]
  },
  {
   "cell_type": "markdown",
   "id": "11f5e4c2",
   "metadata": {},
   "source": [
    "#### Q 18. Check if a value 200 exists in a dictionary"
   ]
  },
  {
   "cell_type": "code",
   "execution_count": 21,
   "id": "3c4902c6",
   "metadata": {},
   "outputs": [
    {
     "name": "stdout",
     "output_type": "stream",
     "text": [
      "True\n"
     ]
    }
   ],
   "source": [
    "# sampleDict = {'a': 100, 'b': 200, 'c': 300}\n",
    "\n",
    "# Expected Output: True\n",
    "\n",
    "Dict = {'a': 100, 'b': 200, 'c': 300}\n",
    "\n",
    "print(200 in Dict.values())"
   ]
  },
  {
   "cell_type": "markdown",
   "id": "a69d2d07",
   "metadata": {},
   "source": [
    "#### Q 19. Delete set of keys from Python Dictionary"
   ]
  },
  {
   "cell_type": "code",
   "execution_count": 22,
   "id": "30daee42",
   "metadata": {},
   "outputs": [
    {
     "name": "stdout",
     "output_type": "stream",
     "text": [
      "{'age': 25, 'city': 'New york'}\n"
     ]
    }
   ],
   "source": [
    "# sampleDict = {\n",
    "#   \"name\": \"Kelly\",\n",
    "#   \"age\":25,\n",
    "#   \"salary\": 8000,\n",
    "#   \"city\": \"New york\"\n",
    "  \n",
    "# }\n",
    "# keysToRemove = [\"name\", \"salary\"]\n",
    "\n",
    "# Expected Output:\n",
    "# {'city': 'New york', 'age': 25}\n",
    "\n",
    "Dict = {\n",
    "  \"name\": \"Kelly\",\n",
    "  \"age\":25,\n",
    "  \"salary\": 8000,\n",
    "  \"city\": \"New york\"\n",
    "}\n",
    "    \n",
    "del Dict[\"name\"]\n",
    "del Dict[\"salary\"]\n",
    "\n",
    "print(Dict)"
   ]
  }
 ],
 "metadata": {
  "kernelspec": {
   "display_name": "Python 3 (ipykernel)",
   "language": "python",
   "name": "python3"
  },
  "language_info": {
   "codemirror_mode": {
    "name": "ipython",
    "version": 3
   },
   "file_extension": ".py",
   "mimetype": "text/x-python",
   "name": "python",
   "nbconvert_exporter": "python",
   "pygments_lexer": "ipython3",
   "version": "3.9.12"
  }
 },
 "nbformat": 4,
 "nbformat_minor": 5
}
