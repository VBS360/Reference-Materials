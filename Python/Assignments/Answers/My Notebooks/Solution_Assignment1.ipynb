{
 "cells": [
  {
   "cell_type": "markdown",
   "id": "eca297b7",
   "metadata": {},
   "source": [
    "#### Q1. Declare an int value and store it in a variable.Check the type and print the id of the same."
   ]
  },
  {
   "cell_type": "code",
   "execution_count": 8,
   "id": "2339d410",
   "metadata": {},
   "outputs": [
    {
     "name": "stdout",
     "output_type": "stream",
     "text": [
      "The Value of a is = 10.\n",
      "The ID of a us = 1432841644624\n"
     ]
    }
   ],
   "source": [
    "a = 10                                                        #Declaring a variable\n",
    "\n",
    "print(f\"The Value of a is = {a}.\")           #prints value of the variable a\n",
    "print(f\"The ID of a is = {id(a)}\")           #prints ID/memory location of a"
   ]
  },
  {
   "cell_type": "markdown",
   "id": "e3148102",
   "metadata": {},
   "source": [
    "#### Q2. Take one int value between 0 - 256. Assign it to two different variables. Check the id of both the variables. It should come the same. Check why?"
   ]
  },
  {
   "cell_type": "code",
   "execution_count": 15,
   "id": "d6e570d1",
   "metadata": {},
   "outputs": [
    {
     "name": "stdout",
     "output_type": "stream",
     "text": [
      "The ID of a is = 1432841644624\n",
      "The ID of b is = 1432841644624\n",
      "The ID is same for both a and b\n"
     ]
    }
   ],
   "source": [
    "a = 10\n",
    "b = 10\n",
    "\n",
    "print(f\"The ID of a is = {id(a)}\")                    #prints ID/memory location of a\n",
    "print(f\"The ID of b is = {id(b)}\")                   #prints ID/memory location of b\n",
    "\n",
    "if (a is b):                                                         #Checking the ID of both variables\n",
    "    print(\"The ID is same for both a and b\")\n",
    "else:\n",
    "    print(\"ID for a & b is differnt because memory reusability is only applicable for the int values ranging from -5 to 256\")\n",
    "    \n",
    "# Here ID is showing the same value because of the memory reusability concept."
   ]
  },
  {
   "cell_type": "markdown",
   "id": "eb204d2e",
   "metadata": {},
   "source": [
    "#### Q3. Take one int value either less than -5 or greater than 256. Assign it to two different variables. Check the id of both the variables. It should come different.Check why?"
   ]
  },
  {
   "cell_type": "code",
   "execution_count": 16,
   "id": "7c8d0319",
   "metadata": {},
   "outputs": [
    {
     "name": "stdout",
     "output_type": "stream",
     "text": [
      "The ID of a is = 1432959513616\n",
      "The ID of b is = 1432959513392\n",
      "ID for a & b is differnt because memory reusability is only applicable for the int values ranging from -5 to 256\n"
     ]
    }
   ],
   "source": [
    "a = 10000\n",
    "b = 10000\n",
    "\n",
    "print(f\"The ID of a is = {id(a)}\")                         #prints ID/memory location of a\n",
    "print(f\"The ID of b is = {id(b)}\")                        #prints ID/memory location of b\n",
    "\n",
    "if (a is b):                                                              #Checking the ID of both variables\n",
    "    print(\"The ID is same for both a and b\")\n",
    "else:\n",
    "    print(\"ID for a & b is differnt because memory reusability is only applicable for the int values ranging from -5 to 256\")\n",
    "    \n",
    "# Here ID is showing the same value because of the memory reusability concept."
   ]
  },
  {
   "cell_type": "markdown",
   "id": "721a2952",
   "metadata": {},
   "source": [
    "## <center> Arithmetic Operations on integers"
   ]
  },
  {
   "cell_type": "markdown",
   "id": "f3834afd",
   "metadata": {},
   "source": [
    "#### Q4. Take two different integer values. Store them in two different variables, Do below operations on them:-"
   ]
  },
  {
   "cell_type": "markdown",
   "id": "e6cb1a72",
   "metadata": {},
   "source": [
    "### <center>Way 1 of solving the problem"
   ]
  },
  {
   "cell_type": "markdown",
   "id": "4fb851b3",
   "metadata": {},
   "source": [
    "#### (a). Find sum of both numbers "
   ]
  },
  {
   "cell_type": "code",
   "execution_count": 37,
   "id": "1a85c3ed",
   "metadata": {},
   "outputs": [
    {
     "name": "stdout",
     "output_type": "stream",
     "text": [
      "The value of a is 35.\n",
      "The value of b is 20.\n",
      "Sum of 35 and 20 is 55\n"
     ]
    }
   ],
   "source": [
    "a = 35\n",
    "b = 20\n",
    "\n",
    "print(f\"\"\"The value of a is {a}.\n",
    "The value of b is {b}.\n",
    "Sum of {a} and {b} is {a+b}\"\"\")       # (+) sign is used for the summation of two varibles(int or float)."
   ]
  },
  {
   "cell_type": "markdown",
   "id": "dbc3238c",
   "metadata": {},
   "source": [
    "#### (b). Find difference between them"
   ]
  },
  {
   "cell_type": "code",
   "execution_count": 38,
   "id": "c4714cd3",
   "metadata": {},
   "outputs": [
    {
     "name": "stdout",
     "output_type": "stream",
     "text": [
      "The value of a is 35.\n",
      "The value of b is 20.\n",
      "Differnce of 35 and 20 is 15\n"
     ]
    }
   ],
   "source": [
    "a = 35\n",
    "b = 20\n",
    "\n",
    "print(f\"\"\"The value of a is {a}.\n",
    "The value of b is {b}.\n",
    "Differnce of {a} and {b} is {a-b}\"\"\")     # (-) sign is used to findout the difference between two varibles(int or float)."
   ]
  },
  {
   "cell_type": "markdown",
   "id": "2ab6425c",
   "metadata": {},
   "source": [
    "#### (c). Find the product of both numbers"
   ]
  },
  {
   "cell_type": "code",
   "execution_count": 25,
   "id": "aff04ff3",
   "metadata": {},
   "outputs": [
    {
     "name": "stdout",
     "output_type": "stream",
     "text": [
      "The value of a is 35.\n",
      "The value of b is 20.\n",
      "Product of a and b is 700\n"
     ]
    }
   ],
   "source": [
    "a = 35\n",
    "b = 20\n",
    "\n",
    "print(f\"\"\"The value of a is {a}.\n",
    "The value of b is {b}.\n",
    "Product of {a} and {b} is {a*b}\"\"\")     # (*) sign is used to findout the product of two varibles(int or float)."
   ]
  },
  {
   "cell_type": "markdown",
   "id": "5e7ab528",
   "metadata": {},
   "source": [
    "#### (d). Find value after dividing first num with second number"
   ]
  },
  {
   "cell_type": "code",
   "execution_count": 26,
   "id": "7c481efc",
   "metadata": {},
   "outputs": [
    {
     "name": "stdout",
     "output_type": "stream",
     "text": [
      "The value of a is 35.\n",
      "The value of b is 20.\n",
      "Division of a by b is 1.75\n"
     ]
    }
   ],
   "source": [
    "a = 35\n",
    "b = 20\n",
    "\n",
    "print(f\"\"\"The value of a is {a}.\n",
    "The value of b is {b}.\n",
    "Division of a by b is {a/b}\"\"\")        # (/) sign is used  findout the product of two varibles(int or float)."
   ]
  },
  {
   "cell_type": "markdown",
   "id": "10fd4476",
   "metadata": {},
   "source": [
    "#### (e). Find the remainder after dividing first number with second number"
   ]
  },
  {
   "cell_type": "code",
   "execution_count": 30,
   "id": "dfd3b877",
   "metadata": {},
   "outputs": [
    {
     "name": "stdout",
     "output_type": "stream",
     "text": [
      "The value of a is 35.\n",
      "The value of b is 20.\n",
      "Remainder if we divide 35 by 20 is 15,  if we divide only until we get the whole value\n"
     ]
    }
   ],
   "source": [
    "a = 35\n",
    "b = 20\n",
    "\n",
    "print(f\"\"\"The value of a is {a}.\n",
    "The value of b is {b}.\n",
    "Remainder if we divide {a} by {b} is {a%b},  if we divide only until we get the whole value.\"\"\")    # (%) sign is used to findout the remainder of two varibles(int or float)."
   ]
  },
  {
   "cell_type": "markdown",
   "id": "d24a1049",
   "metadata": {},
   "source": [
    "#### (f). Find the quotient after dividing first number with second number"
   ]
  },
  {
   "cell_type": "code",
   "execution_count": 32,
   "id": "0b00ccf2",
   "metadata": {},
   "outputs": [
    {
     "name": "stdout",
     "output_type": "stream",
     "text": [
      "The value of a is 35.\n",
      "The value of b is 20.\n",
      "Quotient if we divide 35 by 20 is 1,  if we divide only until we get the whole value.\n"
     ]
    }
   ],
   "source": [
    "a = 35\n",
    "b = 20\n",
    "\n",
    "print(f\"\"\"The value of a is {a}.\n",
    "The value of b is {b}.\n",
    "Quotient if we divide {a} by {b} is {a//b},  if we divide only until we get the whole value.\"\"\")    # (//) sign is used to findout the quotient of two varibles(int or float)."
   ]
  },
  {
   "cell_type": "markdown",
   "id": "ed3c6534",
   "metadata": {},
   "source": [
    "#### (g). Find the result of the first num to the power of the second number."
   ]
  },
  {
   "cell_type": "code",
   "execution_count": 47,
   "id": "390abe2b",
   "metadata": {},
   "outputs": [
    {
     "name": "stdout",
     "output_type": "stream",
     "text": [
      "The value of a is 35.\n",
      "The value of b is 20.\n",
      "The value of 35 to the power 20 of is 7609583501588058567047119140625.\n"
     ]
    }
   ],
   "source": [
    "a = 35\n",
    "b = 20\n",
    "\n",
    "print(f\"\"\"The value of a is {a}.\n",
    "The value of b is {b}.\n",
    "The value of {a} to the power {b} of is {a**b}.\"\"\")   # (**) sign is used  to findout the power of one varible(int or float) to the other."
   ]
  },
  {
   "cell_type": "markdown",
   "id": "9df24c62",
   "metadata": {},
   "source": [
    "## <center>Alternate code for Q.4"
   ]
  },
  {
   "cell_type": "code",
   "execution_count": 51,
   "id": "0c7f76f8",
   "metadata": {},
   "outputs": [
    {
     "name": "stdout",
     "output_type": "stream",
     "text": [
      "\n",
      "The sum of 20 and 6 is 26.\n",
      "Differnce of 20 and 6 is 14.\n",
      "Product of 20 and 6 is 120.\n",
      "Division of 20 by 6 is 3.3333.\n",
      "Remainder if we divide 20 by 6 is 2,  if we divide only until we get the whole value.\n",
      "Quotient if we divide 20 by 6 is 3,  if we divide only until we get the whole value.\n",
      "The value of 20 to the power 6 is 64000000.\n",
      "\n"
     ]
    }
   ],
   "source": [
    "a = 20\n",
    "b = 6\n",
    "\n",
    "Sum = a+b                                            # (+) sign is used for the summation of two varibles(int or float).\n",
    "Difference = a-b                                  # (-) sign is used to findout the difference between two varibles(int or float).\n",
    "Product = a*b                                     # (*) sign is used to findout the product of two varibles(int or float).\n",
    "Division = a/b                                     # (/) sign is used  findout the product of two varibles(int or float).\n",
    "Rounded_Div = round(Division,4)\n",
    "Remainder = a%b                               # (%) sign is used to findout the remainder of two varibles(int or float).\n",
    "Quotient = a//b                                 # (//) sign is used to findout the quotient of two varibles(int or float).\n",
    "a_to_the_power_b = a**b              # (**) sign is used  to findout the power of one varible(int or float) to the other.\n",
    "\n",
    "print(f\"\"\"\n",
    "The sum of {a} and {b} is {Sum}.\n",
    "Differnce of {a} and {b} is {Difference}.\n",
    "Product of {a} and {b} is {Product}.\n",
    "Division of {a} by {b} is {Rounded_Div}.\n",
    "Remainder if we divide {a} by {b} is {Remainder},  if we divide only until we get the whole value.\n",
    "Quotient if we divide {a} by {b} is {Quotient},  if we divide only until we get the whole value.\n",
    "The value of {a} to the power {b} is {a_to_the_power_b}.\n",
    "\"\"\")"
   ]
  },
  {
   "cell_type": "markdown",
   "id": "f24a9235",
   "metadata": {},
   "source": [
    "## <center>Comparison Operators on integers"
   ]
  },
  {
   "cell_type": "markdown",
   "id": "868c5cc0",
   "metadata": {},
   "source": [
    "### Take two different integer values. Store them in two different variables. Do below operations on them:-"
   ]
  },
  {
   "cell_type": "markdown",
   "id": "e835caaa",
   "metadata": {},
   "source": [
    "#### Q5. Compare two numbers with below operator:-"
   ]
  },
  {
   "cell_type": "markdown",
   "id": "0a12083a",
   "metadata": {},
   "source": [
    "#### **** **** **** We have four Comparison operators:- **** **** ****\n",
    "##### 1. Greater than, '>'\n",
    "##### 2. Less than, '<'\n",
    "##### 3. Greater than or equal to, '>='\n",
    "##### 4. Less than or equal to, '<='"
   ]
  },
  {
   "cell_type": "markdown",
   "id": "ddbc761a",
   "metadata": {},
   "source": [
    "#### (1). Greater than, '>'"
   ]
  },
  {
   "cell_type": "code",
   "execution_count": 70,
   "id": "f630506d",
   "metadata": {},
   "outputs": [
    {
     "name": "stdout",
     "output_type": "stream",
     "text": [
      "We are checking if 52 is greater than 25, so the condition is :  True\n"
     ]
    }
   ],
   "source": [
    "a = 52\n",
    "b = 25\n",
    "\n",
    "print(f\"We are checking if {a} is greater than {b}, so the condition is : \",a>b)                           #compares two varibles and look for the condition"
   ]
  },
  {
   "cell_type": "markdown",
   "id": "37aa36eb",
   "metadata": {},
   "source": [
    "#### (2). Less than, '<'"
   ]
  },
  {
   "cell_type": "code",
   "execution_count": 60,
   "id": "3c6d02fc",
   "metadata": {},
   "outputs": [
    {
     "name": "stdout",
     "output_type": "stream",
     "text": [
      "We are checking if 52 is less than 25, so the condition is :  False\n"
     ]
    }
   ],
   "source": [
    "a = 52\n",
    "b = 25\n",
    "\n",
    "print(f\"We are checking if {a} is less than {b}, so the condition is : \",a<b)                           #compares two varibles and look for the condition"
   ]
  },
  {
   "cell_type": "markdown",
   "id": "f7079386",
   "metadata": {},
   "source": [
    "#### (3). Greater than or equal to, '>='"
   ]
  },
  {
   "cell_type": "code",
   "execution_count": 63,
   "id": "d5e9830f",
   "metadata": {},
   "outputs": [
    {
     "name": "stdout",
     "output_type": "stream",
     "text": [
      "We are checking if 52 is greater than or equals 25, so the condition is :  True\n",
      "We are checking if 250 is greater than or equals 520, so the condition is :  False\n"
     ]
    }
   ],
   "source": [
    "a = 52\n",
    "b = 25\n",
    "c = 250\n",
    "d = 520\n",
    "\n",
    "print(f\"We are checking if {a} is greater than or equals {b}, so the condition is : \", a>=b)                           #compares two varibles and look for the condition\n",
    "print(f\"We are checking if {c} is greater than or equals {d}, so the condition is : \", c>=d)"
   ]
  },
  {
   "cell_type": "markdown",
   "id": "86be4cd1",
   "metadata": {},
   "source": [
    "#### (4). Less than or equal to, '<='"
   ]
  },
  {
   "cell_type": "code",
   "execution_count": 67,
   "id": "782855dc",
   "metadata": {},
   "outputs": [
    {
     "name": "stdout",
     "output_type": "stream",
     "text": [
      "We are checking if 52 is less than or equals 25, so the condition is :  False\n",
      "We are checking if 250 is less or equals 520, so the condition is :  True\n"
     ]
    }
   ],
   "source": [
    "a = 52\n",
    "b = 25\n",
    "c = 250\n",
    "d = 520\n",
    "\n",
    "print(f\"We are checking if {a} is less than or equals {b}, so the condition is : \", a <= b)                           #compares two varibles and look for the condition\n",
    "print(f\"We are checking if {c} is less or equals {d}, so the condition is : \", c <= d)"
   ]
  },
  {
   "cell_type": "markdown",
   "id": "91021e6c",
   "metadata": {},
   "source": [
    "## <center>Equality Operator"
   ]
  },
  {
   "cell_type": "markdown",
   "id": "33b9c788",
   "metadata": {},
   "source": [
    "### Take two different integer values. Store them in two different variables."
   ]
  },
  {
   "cell_type": "markdown",
   "id": "485be5b8",
   "metadata": {},
   "source": [
    "#### Q6. Equate them using equality operators :-"
   ]
  },
  {
   "cell_type": "markdown",
   "id": "f9863c23",
   "metadata": {},
   "source": [
    "#### **** **** **** We have two Equality operators:- **** **** ****\n",
    "##### 1. Equals, '=='\n",
    "##### 2. Not equals, '!='"
   ]
  },
  {
   "cell_type": "markdown",
   "id": "320466ad",
   "metadata": {},
   "source": [
    "#### (1). =="
   ]
  },
  {
   "cell_type": "code",
   "execution_count": 68,
   "id": "4fca4d73",
   "metadata": {},
   "outputs": [
    {
     "name": "stdout",
     "output_type": "stream",
     "text": [
      "We are checking if 4500 is equals 4500, so the condition is :  True\n"
     ]
    }
   ],
   "source": [
    "a = 4500\n",
    "b = 4500\n",
    "\n",
    "print(f\"We are checking if {a} is equals {b}, so the condition is : \", a == b)        #compares two varibles and look for the condition"
   ]
  },
  {
   "cell_type": "markdown",
   "id": "df61a45e",
   "metadata": {},
   "source": [
    "#### (2). !="
   ]
  },
  {
   "cell_type": "code",
   "execution_count": 69,
   "id": "7e0bbb0c",
   "metadata": {},
   "outputs": [
    {
     "name": "stdout",
     "output_type": "stream",
     "text": [
      "We are checking if 4500 is not equals 4500, so the condition is :  False\n"
     ]
    }
   ],
   "source": [
    "a = 4500\n",
    "b = 4500\n",
    "\n",
    "print(f\"We are checking if {a} is not equals {b}, so the condition is : \", a != b)      #compares two varibles and look for the condition"
   ]
  },
  {
   "cell_type": "markdown",
   "id": "cbfa891d",
   "metadata": {},
   "source": [
    "## <center> Logical operators"
   ]
  },
  {
   "cell_type": "markdown",
   "id": "56d36d65",
   "metadata": {},
   "source": [
    "#### Q7. Observe the output of below code, cross check the output manually"
   ]
  },
  {
   "cell_type": "markdown",
   "id": "cef8ea56",
   "metadata": {},
   "source": [
    "#### **** **** **** We have three logical operators:- **** **** ****\n",
    "##### 1. And (and)\n",
    "##### 2. Or (or)\n",
    "##### 3. Not (not)"
   ]
  },
  {
   "cell_type": "markdown",
   "id": "48a3ee6f",
   "metadata": {},
   "source": [
    "#### **** **** **** When do we use these logical operators:- **** **** ****\n",
    "##### Whenever we want to check more than one conditions at a time we will use the logical operators.\n"
   ]
  },
  {
   "cell_type": "markdown",
   "id": "08cd4203",
   "metadata": {},
   "source": [
    "#### (1). And (and) [If all conditions are True then output is True otherwise False]\n",
    "##### If A and B are inputs, A is False then output is A, else B"
   ]
  },
  {
   "cell_type": "code",
   "execution_count": 117,
   "id": "3ea35996",
   "metadata": {},
   "outputs": [
    {
     "name": "stdout",
     "output_type": "stream",
     "text": [
      "Output is 20\n"
     ]
    }
   ],
   "source": [
    "a = 10\n",
    "b = 20\n",
    "\n",
    "condition = a and b                  #compares two varibles and look for the condition\n",
    "\n",
    "if condition == 20:                   # a is true & b is true, so output will be b\n",
    "    print(\"Output is 20\")       "
   ]
  },
  {
   "cell_type": "code",
   "execution_count": 127,
   "id": "4b98072d",
   "metadata": {},
   "outputs": [
    {
     "name": "stdout",
     "output_type": "stream",
     "text": [
      "Output is 0\n"
     ]
    }
   ],
   "source": [
    "a = 0\n",
    "b = 20\n",
    "\n",
    "condition = a and b                 #compares two varibles and look for the condition\n",
    "\n",
    "if condition == 0:                     # a is false & b is true, so output will be a\n",
    "    print(\"Output is 0\")       "
   ]
  },
  {
   "cell_type": "code",
   "execution_count": 121,
   "id": "8917e80c",
   "metadata": {},
   "outputs": [
    {
     "name": "stdout",
     "output_type": "stream",
     "text": [
      "Output is 0\n"
     ]
    }
   ],
   "source": [
    "a = 20\n",
    "b = 0\n",
    "\n",
    "condition = a and b               #compares two varibles and look for the condition\n",
    "\n",
    "if condition == 0:                    #a is true and b is false, so output will be b     \n",
    "    print(\"Output is 0\")       "
   ]
  },
  {
   "cell_type": "code",
   "execution_count": 122,
   "id": "2d73cf22",
   "metadata": {},
   "outputs": [
    {
     "name": "stdout",
     "output_type": "stream",
     "text": [
      "Output is 0\n"
     ]
    }
   ],
   "source": [
    "a = 0\n",
    "b = 0\n",
    "\n",
    "condition = a and b                      #compares two varibles and look for the condition\n",
    "\n",
    "if condition == 0:                          #a is false and b is false, so output will be a\n",
    "    print(\"Output is 0\")     "
   ]
  },
  {
   "cell_type": "markdown",
   "id": "5a27dc47",
   "metadata": {},
   "source": [
    "#### (2). Or (or) [If any one condition is True then output is True otherwise False]\n",
    "##### If A and B are inputs, A is true then output is A, else B"
   ]
  },
  {
   "cell_type": "code",
   "execution_count": 123,
   "id": "6d164aa8",
   "metadata": {},
   "outputs": [
    {
     "name": "stdout",
     "output_type": "stream",
     "text": [
      "Output is 10\n"
     ]
    }
   ],
   "source": [
    "a = 10\n",
    "b = 20\n",
    "\n",
    "condition = a or b                       #compares two varibles and look for the condition\n",
    "\n",
    "if condition == 10:                     # a is true, so the output will be a\n",
    "    print(\"Output is 10\")     "
   ]
  },
  {
   "cell_type": "code",
   "execution_count": 124,
   "id": "c9735563",
   "metadata": {},
   "outputs": [
    {
     "name": "stdout",
     "output_type": "stream",
     "text": [
      "Output is 20\n"
     ]
    }
   ],
   "source": [
    "a = 0\n",
    "b = 20\n",
    "\n",
    "condition = a or b                      #compares two varibles and look for the condition\n",
    "\n",
    "if condition == 20:                    # a is false, output will be b\n",
    "    print(\"Output is 20\")      "
   ]
  },
  {
   "cell_type": "code",
   "execution_count": 125,
   "id": "5ba55bcf",
   "metadata": {},
   "outputs": [
    {
     "name": "stdout",
     "output_type": "stream",
     "text": [
      "Output is 20\n"
     ]
    }
   ],
   "source": [
    "a = 20\n",
    "b = 0\n",
    "\n",
    "condition = a or b                    #compares two varibles and look for the condition\n",
    "\n",
    "if condition == 20:                  # a is true, so output will be a\n",
    "    print(\"Output is 20\")       "
   ]
  },
  {
   "cell_type": "code",
   "execution_count": 126,
   "id": "b752dcc8",
   "metadata": {},
   "outputs": [
    {
     "name": "stdout",
     "output_type": "stream",
     "text": [
      "Output is 0\n"
     ]
    }
   ],
   "source": [
    "a = 0\n",
    "b = 0\n",
    "\n",
    "condition = a or b                  #compares two varibles and look for the condition\n",
    "\n",
    "if condition == 0:                   # a is false, so output will be b\n",
    "    print(\"Output is 0\")       "
   ]
  },
  {
   "cell_type": "markdown",
   "id": "3f477947",
   "metadata": {},
   "source": [
    "#### (3). Not(not) [If condition is True then output is False and Visaversa]\n",
    "##### If A and B are inputs, A is true then output is False and visaversa."
   ]
  },
  {
   "cell_type": "code",
   "execution_count": 128,
   "id": "d07f7a03",
   "metadata": {},
   "outputs": [
    {
     "name": "stdout",
     "output_type": "stream",
     "text": [
      "False\n"
     ]
    }
   ],
   "source": [
    "a = 10\n",
    "condition != a\n",
    "\n",
    "if condition != True:        # a is true, so not of a will be false\n",
    "    print(not 10)"
   ]
  },
  {
   "cell_type": "code",
   "execution_count": 129,
   "id": "497e64fa",
   "metadata": {},
   "outputs": [
    {
     "name": "stdout",
     "output_type": "stream",
     "text": [
      "True\n"
     ]
    }
   ],
   "source": [
    "a = 0\n",
    "condition != a\n",
    "\n",
    "if condition != True:       # a is false, so not of a will be true\n",
    "    print(not 0)"
   ]
  },
  {
   "cell_type": "markdown",
   "id": "eee9532d",
   "metadata": {},
   "source": [
    "## <center>Bitwise Operators"
   ]
  },
  {
   "cell_type": "markdown",
   "id": "4e232875",
   "metadata": {},
   "source": [
    "#### Q8. Do below operations on the values provided below:-"
   ]
  },
  {
   "cell_type": "markdown",
   "id": "2d5058f7",
   "metadata": {},
   "source": [
    "#### (a). Bitwise and (&)\n",
    "##### A and B are inputs, Bitwise and of A and B is Output \n",
    "##### Both inputs are 1 then output is 1, else 0."
   ]
  },
  {
   "cell_type": "code",
   "execution_count": 130,
   "id": "b0adfc96",
   "metadata": {},
   "outputs": [
    {
     "name": "stdout",
     "output_type": "stream",
     "text": [
      "0\n"
     ]
    }
   ],
   "source": [
    "a = 10               # 0b 01010\n",
    "b = 20              # 0b 10100\n",
    "c = a & b         # 0b 00000\n",
    "\n",
    "print(c)"
   ]
  },
  {
   "cell_type": "markdown",
   "id": "18f9282b",
   "metadata": {},
   "source": [
    "#### (b). Bitwise or (|)\n",
    "##### A and B are inputs, Bitwise or of A and B is Output \n",
    "##### Any one of two inputs is 1 then output is 1, else 0."
   ]
  },
  {
   "cell_type": "code",
   "execution_count": 131,
   "id": "b45ee8b5",
   "metadata": {},
   "outputs": [
    {
     "name": "stdout",
     "output_type": "stream",
     "text": [
      "30\n"
     ]
    }
   ],
   "source": [
    "a = 10          # 0b 01010 \n",
    "b = 20         # 0b 10100\n",
    "c = a|b       # 0b 11110\n",
    "\n",
    "print(c)"
   ]
  },
  {
   "cell_type": "markdown",
   "id": "e239ac48",
   "metadata": {},
   "source": [
    "#### (c). Bitwise(^)\n",
    "##### A and B are inputs, Bitwise xor of A and B is Output \n",
    "##### Both inputs are same then output is 0, else 1."
   ]
  },
  {
   "cell_type": "code",
   "execution_count": null,
   "id": "f84fc560",
   "metadata": {},
   "outputs": [],
   "source": [
    "a = 10          # 0b 01010 \n",
    "b = 20         # 0b 10100\n",
    "c = a^b       # 0b 11110\n",
    "\n",
    "print(c)"
   ]
  },
  {
   "cell_type": "markdown",
   "id": "6d9e39f7",
   "metadata": {},
   "source": [
    "#### (d). Bitwise negation(~)\n",
    "##### A is input, Bitwise negation of A is Output \n",
    "##### Bitwise negation of A is -(n+1)"
   ]
  },
  {
   "cell_type": "code",
   "execution_count": 133,
   "id": "364032a3",
   "metadata": {},
   "outputs": [
    {
     "name": "stdout",
     "output_type": "stream",
     "text": [
      "-11\n"
     ]
    }
   ],
   "source": [
    "a = 10\n",
    "\n",
    "print(~a)     # -(n+1) = -(10+1) = -11"
   ]
  },
  {
   "cell_type": "markdown",
   "id": "91311e84",
   "metadata": {},
   "source": [
    "#### (d). Bitwise left shift(<<)\n",
    "##### A is input, Bitwise left shift of A is Output \n",
    "##### Bitwise left shift of A is to shift bits to the said decimal places"
   ]
  },
  {
   "cell_type": "code",
   "execution_count": 134,
   "id": "9b31ce36",
   "metadata": {},
   "outputs": [
    {
     "name": "stdout",
     "output_type": "stream",
     "text": [
      "40\n"
     ]
    }
   ],
   "source": [
    "a = 10               # 0b 001010\n",
    "\n",
    "print(a<<2)     # 0b 101000"
   ]
  },
  {
   "cell_type": "markdown",
   "id": "bc1131c6",
   "metadata": {},
   "source": [
    "#### (e). Bitwise right shift(>>)\n",
    "##### A is input, Bitwise right shift of A is Output \n",
    "##### Bitwise right shift of A is to shift bits to the said decimal places"
   ]
  },
  {
   "cell_type": "code",
   "execution_count": 135,
   "id": "f2493f72",
   "metadata": {},
   "outputs": [
    {
     "name": "stdout",
     "output_type": "stream",
     "text": [
      "2\n"
     ]
    }
   ],
   "source": [
    "a = 10               # 0b 001010\n",
    "\n",
    "print(a>>2)     # 0b 0010"
   ]
  },
  {
   "cell_type": "markdown",
   "id": "d0a682d5",
   "metadata": {},
   "source": [
    "#### Q9. What is the output of expression inside print statement. Cross check before running the program."
   ]
  },
  {
   "cell_type": "code",
   "execution_count": 136,
   "id": "692a5e9a",
   "metadata": {},
   "outputs": [
    {
     "name": "stdout",
     "output_type": "stream",
     "text": [
      "True\n",
      "False\n",
      "False\n",
      "True\n"
     ]
    }
   ],
   "source": [
    "a = 10\n",
    "b = 10\n",
    "\n",
    "print(a is b)               # True --> ID for a and b is same --> Integer value is in the -5 to 256 limit\n",
    "print(a is not b)       # False \n",
    "\n",
    "a = 1000                    \n",
    "b = 1000\n",
    "print(a is b)              # False --> ID for a and b is not same --> Integer value is exceeding -5 to 256 limit\n",
    "print(a is not b)       # True"
   ]
  },
  {
   "cell_type": "markdown",
   "id": "2d394c1d",
   "metadata": {},
   "source": [
    "#### Q10. What is the output of expression inside print statement. Cross check before running the program."
   ]
  },
  {
   "cell_type": "code",
   "execution_count": 137,
   "id": "e60d9c72",
   "metadata": {},
   "outputs": [
    {
     "name": "stdout",
     "output_type": "stream",
     "text": [
      "20\n"
     ]
    }
   ],
   "source": [
    "print ( 10 +( 10 * 32 )// 2 ** 5 & 20 +(~( -10 ))<< 2 )\n",
    "\n",
    "# Using BODMAS [Bracket Of(exponent) Division Multiplication Addition Substraction] formula\n",
    "# (10*32) = 320\n",
    "# 2**5 = 32\n",
    "# 320//32 = 10\n",
    "# 10+10 = 20\n",
    "# ~(-10) = 9\n",
    "# 20 + 9 = 29\n",
    "# 29 << 2 => 29 = 11101 ==> 29<<2 = 1110100 = 64+32+16+4 = 116\n",
    "# 20 & 116 ==> 0010100 & 1110100 = 0010100 => 20"
   ]
  },
  {
   "cell_type": "markdown",
   "id": "409fe7fa",
   "metadata": {},
   "source": [
    "## <center>Membership operation"
   ]
  },
  {
   "cell_type": "markdown",
   "id": "455ba540",
   "metadata": {},
   "source": [
    "#### in, not in are two membership operators and they returns a boolean value.\n",
    "##### (a). For in operator: If a value is stored inside of the variable it will return as true and visaversa,  \n",
    "##### (b). For not in operator: If a value is not stored inside of the variable it will return as true and visaversa.  "
   ]
  },
  {
   "cell_type": "markdown",
   "id": "7dafaefb",
   "metadata": {},
   "source": [
    "#### Q11. Finout output for the following programs."
   ]
  },
  {
   "cell_type": "code",
   "execution_count": 138,
   "id": "4b0dc016",
   "metadata": {},
   "outputs": [
    {
     "name": "stdout",
     "output_type": "stream",
     "text": [
      "True\n"
     ]
    }
   ],
   "source": [
    "print ( '2' in 'Python2.7.8' )        # To findout in string we have to put it in quotes."
   ]
  },
  {
   "cell_type": "code",
   "execution_count": 139,
   "id": "fd352638",
   "metadata": {},
   "outputs": [
    {
     "name": "stdout",
     "output_type": "stream",
     "text": [
      "True\n"
     ]
    }
   ],
   "source": [
    "print ( 10 in [ 10 , 10.20 , 10 + 20j , 'Python' ])         # In a list"
   ]
  },
  {
   "cell_type": "code",
   "execution_count": 140,
   "id": "9e698881",
   "metadata": {},
   "outputs": [
    {
     "name": "stdout",
     "output_type": "stream",
     "text": [
      "True\n"
     ]
    }
   ],
   "source": [
    "print ( 10 in ( 10 , 10.20 , 10 + 20j , 'Python' ))        # In tuple"
   ]
  },
  {
   "cell_type": "code",
   "execution_count": 141,
   "id": "10162978",
   "metadata": {},
   "outputs": [
    {
     "name": "stdout",
     "output_type": "stream",
     "text": [
      "True\n"
     ]
    }
   ],
   "source": [
    "print ( 2 in { 1 , 2 , 3 })      # In a set"
   ]
  },
  {
   "cell_type": "code",
   "execution_count": 142,
   "id": "5398fc6d",
   "metadata": {},
   "outputs": [
    {
     "name": "stdout",
     "output_type": "stream",
     "text": [
      "True\n"
     ]
    }
   ],
   "source": [
    "print ( 3 in { 1 : 100 , 2 : 200 , 3 : 300 })    # In a dictionary"
   ]
  },
  {
   "cell_type": "code",
   "execution_count": 145,
   "id": "d4e1a94a",
   "metadata": {},
   "outputs": [
    {
     "name": "stdout",
     "output_type": "stream",
     "text": [
      "True\n"
     ]
    }
   ],
   "source": [
    "print ( 10 in range ( 20 ))     # In range function\n",
    "\n",
    "# for number in range(20):\n",
    "#     print(number)"
   ]
  },
  {
   "cell_type": "markdown",
   "id": "1d7d2344",
   "metadata": {},
   "source": [
    "#### Q12. An integer can be represented in binary, octal or hexadecimal form. Declare one binary, one octal and one hexadecimal value and store them in three different variables.\n",
    "##### Convert 9876 to its binary, octal and hexadecimal equivalent and print their corresponding value."
   ]
  },
  {
   "cell_type": "code",
   "execution_count": 146,
   "id": "ad3295a1",
   "metadata": {},
   "outputs": [
    {
     "name": "stdout",
     "output_type": "stream",
     "text": [
      "0b10011010010100\n"
     ]
    }
   ],
   "source": [
    "a = 9876\n",
    "print(bin(9876))        # bin is used to convert a number into binary number, Binary number starts with 0b."
   ]
  },
  {
   "cell_type": "code",
   "execution_count": 147,
   "id": "3feb76f5",
   "metadata": {},
   "outputs": [
    {
     "name": "stdout",
     "output_type": "stream",
     "text": [
      "0o23224\n"
     ]
    }
   ],
   "source": [
    "a = 9876\n",
    "print(oct(9876))        # oct is used to convert a number into octal number, Octal number starts with 0o."
   ]
  },
  {
   "cell_type": "code",
   "execution_count": 148,
   "id": "2c549980",
   "metadata": {},
   "outputs": [
    {
     "name": "stdout",
     "output_type": "stream",
     "text": [
      "0x2694\n"
     ]
    }
   ],
   "source": [
    "a = 9876\n",
    "print(hex(9876))        # hex is used to convert a number into hexadecimal number, hexadecimal number starts with 0x."
   ]
  },
  {
   "cell_type": "markdown",
   "id": "41cbdc74",
   "metadata": {},
   "source": [
    "#### Q13. What will be the output of following:-"
   ]
  },
  {
   "cell_type": "code",
   "execution_count": 152,
   "id": "c5305472",
   "metadata": {},
   "outputs": [
    {
     "name": "stdout",
     "output_type": "stream",
     "text": [
      "80\n"
     ]
    }
   ],
   "source": [
    "a = 0b1010000       # it is a binary number, 64+16 = 80\n",
    "print (a)"
   ]
  },
  {
   "cell_type": "code",
   "execution_count": 153,
   "id": "090ba19d",
   "metadata": {},
   "outputs": [
    {
     "name": "stdout",
     "output_type": "stream",
     "text": [
      "3870\n"
     ]
    }
   ],
   "source": [
    "b = 0o7436        # It is an octal number, 7*8^3+ 4*8^2+ 3*8^1+ 6*8^0 = 3870\n",
    "print (b)"
   ]
  },
  {
   "cell_type": "code",
   "execution_count": 154,
   "id": "c2414a71",
   "metadata": {},
   "outputs": [
    {
     "name": "stdout",
     "output_type": "stream",
     "text": [
      "64222\n"
     ]
    }
   ],
   "source": [
    "c = 0xfade        # It is a hex number, 15*16^3+ 10*16^2+ 13*16^1+ 14*16^0 = 64222\n",
    "print (c)"
   ]
  },
  {
   "cell_type": "code",
   "execution_count": 156,
   "id": "4508096c",
   "metadata": {},
   "outputs": [
    {
     "name": "stdout",
     "output_type": "stream",
     "text": [
      "0b1010000\n"
     ]
    }
   ],
   "source": [
    "print ( bin ( 80 ))  # 64+16 = 1010000 "
   ]
  },
  {
   "cell_type": "code",
   "execution_count": 157,
   "id": "3cb1caec",
   "metadata": {},
   "outputs": [
    {
     "name": "stdout",
     "output_type": "stream",
     "text": [
      "0o7436\n"
     ]
    }
   ],
   "source": [
    "print ( oct ( 3870 ))      # 0o7436 => Divide 3870 by 8 => Remainder digits are the answers"
   ]
  },
  {
   "cell_type": "code",
   "execution_count": 158,
   "id": "68a3285c",
   "metadata": {},
   "outputs": [
    {
     "name": "stdout",
     "output_type": "stream",
     "text": [
      "0xfade\n"
     ]
    }
   ],
   "source": [
    "print ( hex ( 64222 ))    # 64222 => Divide 64222 by 16 => Remainder digits are the answers"
   ]
  },
  {
   "cell_type": "code",
   "execution_count": 160,
   "id": "48bc0a1f",
   "metadata": {},
   "outputs": [
    {
     "name": "stdout",
     "output_type": "stream",
     "text": [
      "0b1010000\n"
     ]
    }
   ],
   "source": [
    "print ( bin ( 0b1010000))  # binary to binary"
   ]
  },
  {
   "cell_type": "code",
   "execution_count": 161,
   "id": "fb02d3b8",
   "metadata": {},
   "outputs": [
    {
     "name": "stdout",
     "output_type": "stream",
     "text": [
      "0b1111101011011110\n"
     ]
    }
   ],
   "source": [
    "print ( bin ( 0xfade ))  # f = 1111, a = 1010, d = 1101, e = 1110"
   ]
  },
  {
   "cell_type": "code",
   "execution_count": 162,
   "id": "b5037350",
   "metadata": {},
   "outputs": [
    {
     "name": "stdout",
     "output_type": "stream",
     "text": [
      "0o175336\n"
     ]
    }
   ],
   "source": [
    "print ( oct ( 0xfade ))  # group binary no into group of 3 digits"
   ]
  },
  {
   "cell_type": "code",
   "execution_count": 163,
   "id": "8354f6dd",
   "metadata": {},
   "outputs": [
    {
     "name": "stdout",
     "output_type": "stream",
     "text": [
      "0o7436\n"
     ]
    }
   ],
   "source": [
    "    print ( oct ( 0o7436))  #oct to oct"
   ]
  },
  {
   "cell_type": "code",
   "execution_count": 164,
   "id": "f2574c8c",
   "metadata": {},
   "outputs": [
    {
     "name": "stdout",
     "output_type": "stream",
     "text": [
      "0x50\n"
     ]
    }
   ],
   "source": [
    "print ( hex ( 0b1010000))  # group of four 0101 0000"
   ]
  },
  {
   "cell_type": "code",
   "execution_count": 165,
   "id": "4e7c444a",
   "metadata": {},
   "outputs": [
    {
     "name": "stdout",
     "output_type": "stream",
     "text": [
      "0xfade\n"
     ]
    }
   ],
   "source": [
    "print ( hex ( 0xfade ))    # hex to hex"
   ]
  }
 ],
 "metadata": {
  "kernelspec": {
   "display_name": "Python 3 (ipykernel)",
   "language": "python",
   "name": "python3"
  },
  "language_info": {
   "codemirror_mode": {
    "name": "ipython",
    "version": 3
   },
   "file_extension": ".py",
   "mimetype": "text/x-python",
   "name": "python",
   "nbconvert_exporter": "python",
   "pygments_lexer": "ipython3",
   "version": "3.9.12"
  }
 },
 "nbformat": 4,
 "nbformat_minor": 5
}
