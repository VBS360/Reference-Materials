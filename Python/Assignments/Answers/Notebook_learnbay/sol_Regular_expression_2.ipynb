{
 "cells": [
  {
   "cell_type": "code",
   "execution_count": 1,
   "id": "a0b16f2f",
   "metadata": {},
   "outputs": [
    {
     "name": "stdout",
     "output_type": "stream",
     "text": [
      "True\n",
      "False\n"
     ]
    }
   ],
   "source": [
    "#1. Write a Python program to check that a string contains only a certain set of characters (in this case a-z, A-Z and 0-9).\n",
    "\n",
    "import re\n",
    "def is_allowed_specific_char(string):\n",
    "    charRe = re.compile(r'[^a-zA-Z0-9]')\n",
    "    string = charRe.search(string)\n",
    "    return not bool(string)\n",
    "\n",
    "print(is_allowed_specific_char(\"ABCDEFabcdef123450\")) \n",
    "print(is_allowed_specific_char(\"*&%@#!}{\"))"
   ]
  },
  {
   "cell_type": "code",
   "execution_count": 4,
   "id": "dc243f60",
   "metadata": {},
   "outputs": [
    {
     "name": "stdout",
     "output_type": "stream",
     "text": [
      "Not matched!\n",
      "Not matched!\n",
      "Found a match!\n",
      "Found a match!\n",
      "Found a match!\n"
     ]
    }
   ],
   "source": [
    "#2. Write a Python program that matches a string that has an a followed by zero or more b's.\n",
    "\n",
    "import re\n",
    "def text_match(text):\n",
    "        patterns = '^a(b*)$'\n",
    "        if re.search(patterns,  text):\n",
    "                return 'Found a match!'\n",
    "        else:\n",
    "                return('Not matched!')\n",
    "print(text_match(\"ac\"))\n",
    "print(text_match(\"abc\"))\n",
    "print(text_match(\"a\"))\n",
    "print(text_match(\"ab\"))\n",
    "print(text_match(\"abb\"))\n"
   ]
  },
  {
   "cell_type": "code",
   "execution_count": 5,
   "id": "1d020ff4",
   "metadata": {},
   "outputs": [
    {
     "name": "stdout",
     "output_type": "stream",
     "text": [
      "Found a match!\n",
      "Found a match!\n"
     ]
    }
   ],
   "source": [
    "#3. Write a Python program that matches a string that has an a followed by one or more b's.\n",
    "\n",
    "import re\n",
    "def text_match(text):\n",
    "        patterns = 'ab+?'\n",
    "        if re.search(patterns,  text):\n",
    "                return 'Found a match!'\n",
    "        else:\n",
    "                return('Not matched!')\n",
    "\n",
    "print(text_match(\"ab\"))\n",
    "print(text_match(\"abc\"))\n"
   ]
  },
  {
   "cell_type": "code",
   "execution_count": 6,
   "id": "d9785470",
   "metadata": {},
   "outputs": [
    {
     "name": "stdout",
     "output_type": "stream",
     "text": [
      "Found a match!\n",
      "Found a match!\n",
      "Found a match!\n",
      "Found a match!\n"
     ]
    }
   ],
   "source": [
    "#4. Write a Python program that matches a string that has an a followed by zero or one 'b'.\n",
    "\n",
    "import re\n",
    "def text_match(text):\n",
    "        patterns = 'ab?'\n",
    "        if re.search(patterns,  text):\n",
    "                return 'Found a match!'\n",
    "        else:\n",
    "                return('Not matched!')\n",
    "\n",
    "print(text_match(\"ab\"))\n",
    "print(text_match(\"abc\"))\n",
    "print(text_match(\"abbc\"))\n",
    "print(text_match(\"aabbc\"))\n"
   ]
  },
  {
   "cell_type": "code",
   "execution_count": 7,
   "id": "7637ed06",
   "metadata": {},
   "outputs": [
    {
     "name": "stdout",
     "output_type": "stream",
     "text": [
      "Found a match!\n",
      "Found a match!\n"
     ]
    }
   ],
   "source": [
    "#5. Write a Python program that matches a string that has an a followed by three 'b'.\n",
    "\n",
    "import re\n",
    "def text_match(text):\n",
    "        patterns = 'ab{3}?'\n",
    "        if re.search(patterns,  text):\n",
    "                return 'Found a match!'\n",
    "        else:\n",
    "                return('Not matched!')\n",
    "\n",
    "print(text_match(\"abbb\"))\n",
    "print(text_match(\"aabbbbbc\"))\n"
   ]
  },
  {
   "cell_type": "code",
   "execution_count": 8,
   "id": "a4dce2ec",
   "metadata": {},
   "outputs": [
    {
     "name": "stdout",
     "output_type": "stream",
     "text": [
      "Found a match!\n",
      "Not matched!\n"
     ]
    }
   ],
   "source": [
    "#6. Write a Python program that matches a word containing 'z', not at the start or end of the word.\n",
    "\n",
    "import re\n",
    "def text_match(text):\n",
    "        patterns = '\\Bz\\B'\n",
    "        if re.search(patterns,  text):\n",
    "                return 'Found a match!'\n",
    "        else:\n",
    "                return('Not matched!')\n",
    "\n",
    "print(text_match(\"The quick brown fox jumps over the lazy dog.\"))\n",
    "print(text_match(\"Python Exercises.\"))\n"
   ]
  },
  {
   "cell_type": "code",
   "execution_count": 9,
   "id": "97883e6c",
   "metadata": {},
   "outputs": [
    {
     "name": "stdout",
     "output_type": "stream",
     "text": [
      "Found \"exercises\"\n",
      "Found \"exercises\"\n",
      "Found \"exercises\"\n"
     ]
    }
   ],
   "source": [
    "#7.\n",
    "'''\n",
    "Write a Python program to find the substrings within a string.\n",
    "\n",
    "Sample text:\n",
    "'Python exercises, PHP exercises, C# exercises'\n",
    "Pattern:\n",
    "'exercises'\n",
    "\n",
    "Note: There are two instances of exercises in the input string.\n",
    "'''\n",
    "\n",
    "import re\n",
    "text = 'Python exercises, PHP exercises, C# exercises'\n",
    "pattern = 'exercises'\n",
    "for match in re.findall(pattern, text):\n",
    "    print('Found \"%s\"' % match)\n"
   ]
  },
  {
   "cell_type": "code",
   "execution_count": 10,
   "id": "8e84d7d9",
   "metadata": {},
   "outputs": [
    {
     "name": "stdout",
     "output_type": "stream",
     "text": [
      "21 Ramkrishna Rd.\n"
     ]
    }
   ],
   "source": [
    "#8. Write a Python program to abbreviate 'Road' as 'Rd.' in a given string.\n",
    "\n",
    "import re\n",
    "street = '21 Ramkrishna Road'\n",
    "print(re.sub('Road$', 'Rd.', street))\n"
   ]
  },
  {
   "cell_type": "code",
   "execution_count": 11,
   "id": "28f1aefd",
   "metadata": {},
   "outputs": [
    {
     "name": "stdout",
     "output_type": "stream",
     "text": [
      "example\n",
      "w3resource\n",
      "github\n",
      "stackoverflow\n"
     ]
    }
   ],
   "source": [
    "#9.\n",
    "\n",
    "'''Write a Python program to remove the parenthesis area in a string. Go to the editor\n",
    "Sample data : [\"example (.com)\", \"w3resource\", \"github (.com)\", \"stackoverflow (.com)\"]\n",
    "Expected Output:\n",
    "example\n",
    "w3resource\n",
    "github\n",
    "stackoverflow'''\n",
    "\n",
    "import re\n",
    "items = [\"example (.com)\", \"w3resource\", \"github (.com)\", \"stackoverflow (.com)\"]\n",
    "for item in items:\n",
    "    print(re.sub(r\" ?\\([^)]+\\)\", \"\", item))\n"
   ]
  },
  {
   "cell_type": "code",
   "execution_count": 12,
   "id": "a3d643df",
   "metadata": {},
   "outputs": [
    {
     "name": "stdout",
     "output_type": "stream",
     "text": [
      "Original string:\n",
      "KDeoALOklOOHserfLoAJSIskdsf\n",
      "After removing lowercase letters, above string becomes:\n",
      "KDALOOOHLAJSI\n"
     ]
    }
   ],
   "source": [
    "#10. Write a Python program to remove lowercase substrings from a given string.\n",
    "\n",
    "import re\n",
    "str1 = 'KDeoALOklOOHserfLoAJSIskdsf'\n",
    "print(\"Original string:\")\n",
    "print(str1)\n",
    "print(\"After removing lowercase letters, above string becomes:\")\n",
    "remove_lower = lambda text: re.sub('[a-z]', '', text)\n",
    "result =  remove_lower(str1)\n",
    "print(result)\n"
   ]
  },
  {
   "cell_type": "code",
   "execution_count": null,
   "id": "62d8f582",
   "metadata": {},
   "outputs": [],
   "source": []
  }
 ],
 "metadata": {
  "kernelspec": {
   "display_name": "Python 3 (ipykernel)",
   "language": "python",
   "name": "python3"
  },
  "language_info": {
   "codemirror_mode": {
    "name": "ipython",
    "version": 3
   },
   "file_extension": ".py",
   "mimetype": "text/x-python",
   "name": "python",
   "nbconvert_exporter": "python",
   "pygments_lexer": "ipython3",
   "version": "3.9.13"
  }
 },
 "nbformat": 4,
 "nbformat_minor": 5
}
